{
 "cells": [
  {
   "cell_type": "markdown",
   "id": "c0bbc7b8df29ac87",
   "metadata": {},
   "source": [
    "# Client Churn Prediction\n",
    "### CRISP-DM Cycle 4\n",
    "---\n",
    "The Top Bank company operates in Europe with a bank account as the main product, this product can keep client's salary and make payments. This account doesn't have any cost in the first 12 months, however, after that time trial, the client needs to rehire the bank for upcoming 12 months and redo this process every year. Recently the Analytics Team noticed that the churn rate is increasing.\n",
    "\n",
    "As a Data Science Consultant, you need to create an action plan to decrease the number of churn customers and show the financial return on your solution.\n",
    "At the end of your consultancy, you need to deliver to the TopBottom CEO a model in production, which will receive a customer base via API and return that same base with an extra column with the probability of each customer going into churn.\n",
    "In addition, you will need to provide a report reporting your model's performance and the financial impact of your solution. Questions that the CEO and the Analytics team would like to see in their report:\n",
    "\n",
    "1.  What is Top Bank's current Churn rate?\n",
    "2.  How does the churn rate vary monthly?\n",
    "3.  What is the performance of the model in classifying customers as churns\n",
    "4.  What is the expected return, in terms of revenue, if the company uses its model to avoid churn from customers?\n",
    "\n",
    "> Disclaimer: This is a fictional business case"
   ]
  },
  {
   "cell_type": "markdown",
   "id": "a2278ba4be70ee7f",
   "metadata": {},
   "source": [
    "## 0. Preparation"
   ]
  },
  {
   "cell_type": "markdown",
   "id": "86c764e109a1e137",
   "metadata": {},
   "source": [
    "### 0.1 Imports & Settings"
   ]
  },
  {
   "cell_type": "code",
   "id": "cb0e332e88cd304f",
   "metadata": {
    "ExecuteTime": {
     "end_time": "2024-08-22T16:08:00.567515Z",
     "start_time": "2024-08-22T16:08:00.551203Z"
    }
   },
   "source": [
    "from IPython.core.display import HTML\n",
    "from pathlib import Path\n",
    "import pandas as pd\n",
    "from matplotlib import pyplot as plt\n",
    "import seaborn as sns\n",
    "import pickle\n",
    "import duckdb\n",
    "from src.app.utils.utils_business_translation import (\n",
    "    churn_rate_per_month,\n",
    "    top_clients,\n",
    "    knapsack_solver,\n",
    ")\n",
    "from src.utils_ml import metrics_cv#, threshold_tuning_plot_single"
   ],
   "outputs": [],
   "execution_count": 56
  },
  {
   "cell_type": "code",
   "id": "79e7a9595993a836",
   "metadata": {
    "ExecuteTime": {
     "end_time": "2024-08-22T16:08:00.593514Z",
     "start_time": "2024-08-22T16:08:00.586188Z"
    }
   },
   "source": [
    "def jupyter_settings():\n",
    "    \"\"\"\n",
    "    Plots pre settings.\n",
    "    \"\"\"\n",
    "\n",
    "    %matplotlib inline\n",
    "    plt.style.use(\"seaborn-v0_8-whitegrid\")\n",
    "    plt.rcParams[\"figure.figsize\"] = [25, 12]\n",
    "    plt.rcParams[\"font.size\"] = 24\n",
    "    display(HTML(\"<style>.container {width:100% !important;}</style>\"))\n",
    "    sns.set()\n",
    "\n",
    "\n",
    "jupyter_settings()\n",
    "\n",
    "seed = 42"
   ],
   "outputs": [
    {
     "data": {
      "text/plain": [
       "<IPython.core.display.HTML object>"
      ],
      "text/html": [
       "<style>.container {width:100% !important;}</style>"
      ]
     },
     "metadata": {},
     "output_type": "display_data"
    }
   ],
   "execution_count": 57
  },
  {
   "cell_type": "markdown",
   "id": "3c2fb0f70226b5b",
   "metadata": {},
   "source": [
    "### 0.3 Path"
   ]
  },
  {
   "cell_type": "code",
   "id": "acb77a0b4f289eaa",
   "metadata": {
    "ExecuteTime": {
     "end_time": "2024-08-22T16:08:00.642897Z",
     "start_time": "2024-08-22T16:08:00.639122Z"
    }
   },
   "source": [
    "# found the main project folders\n",
    "path = Path().resolve().parent\n",
    "data_path = path / \"data\"\n",
    "model_path = path / \"src/models\""
   ],
   "outputs": [],
   "execution_count": 58
  },
  {
   "cell_type": "markdown",
   "id": "4b21149ef752225e",
   "metadata": {},
   "source": [
    "### 0.4 Data\n",
    "\n",
    "This dataset is available [here](https://www.kaggle.com/mervetorkan/churndataset).\n",
    "\n",
    "\n",
    "**Data fields**\n",
    "\n",
    "- **RowNumber**: the number of the columns\n",
    "- **CustomerID**: unique identifier of clients\n",
    "- **Surname**: client's last name\n",
    "- **CreditScore**: clients credit score for the financial market\n",
    "- **Geography**: the country of the client\n",
    "- **Gender**: the gender of the client\n",
    "- **Age**: the client's age\n",
    "- **Tenure**: number of years the client is in the bank \n",
    "- **Balance**: the amount that the client has in their account \n",
    "- **NumOfProducts**: the number of products that the client bought \n",
    "- **HasCrCard**: if the client has a credit card \n",
    "- **IsActiveMember**: if the client is active (within the last 12 months) \n",
    "- **EstimateSalary**: estimate of annual salary of clients \n",
    "- **Exited**: if the client is a churn (*target variable*)"
   ]
  },
  {
   "cell_type": "code",
   "id": "a31a1c92abc1c3cd",
   "metadata": {
    "ExecuteTime": {
     "end_time": "2024-08-22T16:08:00.748243Z",
     "start_time": "2024-08-22T16:08:00.693199Z"
    }
   },
   "source": [
    "# Load data in duckdb\n",
    "conn_path = str(data_path / \"interim/churn.db\")\n",
    "conn = duckdb.connect(database=conn_path, read_only=False)\n",
    "query = conn.execute(\"SELECT * FROM churn\")\n",
    "df_raw = pd.DataFrame(query.fetchdf())\n",
    "conn.close()\n",
    "\n",
    "# Load parquet and pkl\n",
    "X_test_old = pd.read_parquet(data_path / \"processed/X_test.parquet\")\n",
    "estimated_salary = X_test_old[\"estimated_salary\"]\n",
    "X_train = pd.read_parquet(data_path / \"processed/X_train_hft.parquet\")\n",
    "X_test = pd.read_parquet(data_path / \"processed/X_test_fs.parquet\")\n",
    "y_train = pd.read_pickle(data_path / \"processed/y_train_hft.pkl\")\n",
    "y_test = pd.read_pickle(data_path / \"processed/y_test.pkl\")"
   ],
   "outputs": [],
   "execution_count": 59
  },
  {
   "cell_type": "markdown",
   "id": "6112a3be",
   "metadata": {},
   "source": [
    "## 7. Business Translation"
   ]
  },
  {
   "cell_type": "code",
   "id": "54a56b2f",
   "metadata": {
    "ExecuteTime": {
     "end_time": "2024-08-22T16:08:00.815745Z",
     "start_time": "2024-08-22T16:08:00.808729Z"
    }
   },
   "source": [
    "model = pickle.load(open(str(model_path) + \"/model.pkl\", \"rb\"))\n",
    "threshold = pickle.load(open(str(model_path) + \"/threshold.pkl\", \"rb\"))\n",
    "yhat_proba = model.predict_proba(X_test)[:, 1]\n",
    "yhat = (yhat_proba >= threshold).astype(int)"
   ],
   "outputs": [],
   "execution_count": 60
  },
  {
   "cell_type": "markdown",
   "id": "f5f770c5",
   "metadata": {},
   "source": [
    "### 6.1 What is Top Bank's current Churn rate?"
   ]
  },
  {
   "cell_type": "code",
   "id": "dbf8ed89",
   "metadata": {
    "ExecuteTime": {
     "end_time": "2024-08-22T16:08:00.822220Z",
     "start_time": "2024-08-22T16:08:00.818814Z"
    }
   },
   "source": [
    "churn_rate = df_raw[df_raw[\"exited\"] == 1][\"exited\"].count() / (len(df_raw))\n",
    "round(churn_rate * 100, 2)"
   ],
   "outputs": [
    {
     "data": {
      "text/plain": [
       "20.37"
      ]
     },
     "execution_count": 61,
     "metadata": {},
     "output_type": "execute_result"
    }
   ],
   "execution_count": 61
  },
  {
   "cell_type": "markdown",
   "id": "c532b17b",
   "metadata": {},
   "source": [
    "The current churn rate is 20.37%"
   ]
  },
  {
   "cell_type": "markdown",
   "id": "7b00d108",
   "metadata": {},
   "source": [
    "### 6.2 How does the churn rate vary monthly?"
   ]
  },
  {
   "cell_type": "code",
   "id": "65deb79c",
   "metadata": {
    "ExecuteTime": {
     "end_time": "2024-08-22T16:08:00.904220Z",
     "start_time": "2024-08-22T16:08:00.900378Z"
    }
   },
   "source": [
    "monthly_churn_rate = churn_rate_per_month(df_raw)\n",
    "\n",
    "print(f\" The churn rate varies {round(monthly_churn_rate, 2)} per month.\")"
   ],
   "outputs": [
    {
     "name": "stdout",
     "output_type": "stream",
     "text": [
      " The churn rate varies 8.33 per month.\n"
     ]
    }
   ],
   "execution_count": 62
  },
  {
   "cell_type": "markdown",
   "id": "de322777",
   "metadata": {},
   "source": [
    "### 6.3 What is the performance of the model in classifying customers as churns?\n"
   ]
  },
  {
   "cell_type": "code",
   "id": "06244c84",
   "metadata": {
    "ExecuteTime": {
     "end_time": "2024-08-22T16:08:05.238416Z",
     "start_time": "2024-08-22T16:08:00.979288Z"
    }
   },
   "source": "metrics_cv([model], X_train, y_train, threshold=0.47, verbose=False)",
   "outputs": [
    {
     "name": "stdout",
     "output_type": "stream",
     "text": [
      "Please wait a moment - Doing CV\n",
      "Finished, check the results\n"
     ]
    },
    {
     "data": {
      "text/plain": [
       "           Model_Name  Threshold  Balanced_Accuracy Mean  \\\n",
       "0  CatBoostClassifier       0.47                   0.779   \n",
       "\n",
       "   Balanced_Accuracy STD  Precision Mean  Precision STD  Recall Mean  \\\n",
       "0                  0.009           0.478          0.017        0.776   \n",
       "\n",
       "   Recall STD  F1 Score Mean  F1 Score STD  ROCAUC Mean  ROCAUC STD  \n",
       "0       0.011          0.591         0.014        0.779       0.779  "
      ],
      "text/html": [
       "<div>\n",
       "<style scoped>\n",
       "    .dataframe tbody tr th:only-of-type {\n",
       "        vertical-align: middle;\n",
       "    }\n",
       "\n",
       "    .dataframe tbody tr th {\n",
       "        vertical-align: top;\n",
       "    }\n",
       "\n",
       "    .dataframe thead th {\n",
       "        text-align: right;\n",
       "    }\n",
       "</style>\n",
       "<table border=\"1\" class=\"dataframe\">\n",
       "  <thead>\n",
       "    <tr style=\"text-align: right;\">\n",
       "      <th></th>\n",
       "      <th>Model_Name</th>\n",
       "      <th>Threshold</th>\n",
       "      <th>Balanced_Accuracy Mean</th>\n",
       "      <th>Balanced_Accuracy STD</th>\n",
       "      <th>Precision Mean</th>\n",
       "      <th>Precision STD</th>\n",
       "      <th>Recall Mean</th>\n",
       "      <th>Recall STD</th>\n",
       "      <th>F1 Score Mean</th>\n",
       "      <th>F1 Score STD</th>\n",
       "      <th>ROCAUC Mean</th>\n",
       "      <th>ROCAUC STD</th>\n",
       "    </tr>\n",
       "  </thead>\n",
       "  <tbody>\n",
       "    <tr>\n",
       "      <th>0</th>\n",
       "      <td>CatBoostClassifier</td>\n",
       "      <td>0.47</td>\n",
       "      <td>0.779</td>\n",
       "      <td>0.009</td>\n",
       "      <td>0.478</td>\n",
       "      <td>0.017</td>\n",
       "      <td>0.776</td>\n",
       "      <td>0.011</td>\n",
       "      <td>0.591</td>\n",
       "      <td>0.014</td>\n",
       "      <td>0.779</td>\n",
       "      <td>0.779</td>\n",
       "    </tr>\n",
       "  </tbody>\n",
       "</table>\n",
       "</div>"
      ]
     },
     "execution_count": 63,
     "metadata": {},
     "output_type": "execute_result"
    }
   ],
   "execution_count": 63
  },
  {
   "metadata": {
    "ExecuteTime": {
     "end_time": "2024-08-22T16:08:05.298814Z",
     "start_time": "2024-08-22T16:08:05.296369Z"
    }
   },
   "cell_type": "code",
   "source": "threshold_tuning_plot_single(model, X_test, y_test, threshold);\n",
   "id": "ecd145bb752f0cb4",
   "outputs": [],
   "execution_count": 64
  },
  {
   "cell_type": "markdown",
   "id": "a1ab5644",
   "metadata": {},
   "source": [
    "### 6.4 What is the expected return, in terms of revenue, if the company uses its model to avoid churn from customers?"
   ]
  },
  {
   "cell_type": "markdown",
   "id": "d2f8ddc1",
   "metadata": {},
   "source": [
    "#### 6.4.1 Creating DataFrame"
   ]
  },
  {
   "cell_type": "code",
   "id": "3759f16a",
   "metadata": {
    "ExecuteTime": {
     "end_time": "2024-08-22T16:08:05.330350Z",
     "start_time": "2024-08-22T16:08:05.327565Z"
    }
   },
   "source": [
    "df_raw[\"estimated_salary_regular\"] = estimated_salary"
   ],
   "outputs": [],
   "execution_count": 65
  },
  {
   "cell_type": "code",
   "id": "69ddced2",
   "metadata": {
    "ExecuteTime": {
     "end_time": "2024-08-22T16:08:05.368821Z",
     "start_time": "2024-08-22T16:08:05.355708Z"
    }
   },
   "source": [
    "# df_raw is a dataframe before the transformations\n",
    "salary_mean = round(df_raw[\"estimated_salary\"].mean(), 2)\n",
    "\n",
    "# Predictions and Results\n",
    "y_test_frame = y_test.to_frame().reset_index(drop=True)\n",
    "y_proba = (\n",
    "    pd.DataFrame(yhat_proba).rename(columns={0: \"probability\"}).reset_index(drop=True)\n",
    ")\n",
    "y_predict = pd.DataFrame(yhat).rename(columns={0: \"prediction\"}).reset_index(drop=True)\n",
    "\n",
    "# Estimated salary without mms\n",
    "estimated_salary_frame = estimated_salary.to_frame().reset_index(drop=True)\n",
    "\n",
    "# Creating a dataframe with the results\n",
    "df_simulation = pd.concat(\n",
    "    (y_test_frame, y_proba, y_predict, estimated_salary_frame), axis=1\n",
    ")\n",
    "\n",
    "# Verify threshold\n",
    "df_simulation[\"threshold\"] = df_simulation[\"probability\"].apply(\n",
    "    lambda x: \"negative\" if x <= 0.4 else \"positive\"\n",
    ")\n",
    "\n",
    "# Reorder columns\n",
    "df_simulation = df_simulation[\n",
    "    [\"estimated_salary\", \"exited\", \"prediction\", \"probability\", \"threshold\"]\n",
    "]"
   ],
   "outputs": [],
   "execution_count": 66
  },
  {
   "cell_type": "code",
   "id": "5d6658a6",
   "metadata": {
    "ExecuteTime": {
     "end_time": "2024-08-22T16:08:05.400703Z",
     "start_time": "2024-08-22T16:08:05.397041Z"
    }
   },
   "source": [
    "salary_mean"
   ],
   "outputs": [
    {
     "data": {
      "text/plain": [
       "100090.24"
      ]
     },
     "execution_count": 67,
     "metadata": {},
     "output_type": "execute_result"
    }
   ],
   "execution_count": 67
  },
  {
   "cell_type": "code",
   "id": "acf8acd7",
   "metadata": {
    "ExecuteTime": {
     "end_time": "2024-08-22T16:08:05.444112Z",
     "start_time": "2024-08-22T16:08:05.439949Z"
    }
   },
   "source": [
    "df_simulation.head()"
   ],
   "outputs": [
    {
     "data": {
      "text/plain": [
       "   estimated_salary  exited  prediction  probability threshold\n",
       "0          94283.09       0           0     0.125404  negative\n",
       "1          55072.93       0           0     0.350899  negative\n",
       "2         105433.53       0           0     0.143586  negative\n",
       "3          33950.08       0           0     0.259019  negative\n",
       "4         168544.85       0           0     0.266519  negative"
      ],
      "text/html": [
       "<div>\n",
       "<style scoped>\n",
       "    .dataframe tbody tr th:only-of-type {\n",
       "        vertical-align: middle;\n",
       "    }\n",
       "\n",
       "    .dataframe tbody tr th {\n",
       "        vertical-align: top;\n",
       "    }\n",
       "\n",
       "    .dataframe thead th {\n",
       "        text-align: right;\n",
       "    }\n",
       "</style>\n",
       "<table border=\"1\" class=\"dataframe\">\n",
       "  <thead>\n",
       "    <tr style=\"text-align: right;\">\n",
       "      <th></th>\n",
       "      <th>estimated_salary</th>\n",
       "      <th>exited</th>\n",
       "      <th>prediction</th>\n",
       "      <th>probability</th>\n",
       "      <th>threshold</th>\n",
       "    </tr>\n",
       "  </thead>\n",
       "  <tbody>\n",
       "    <tr>\n",
       "      <th>0</th>\n",
       "      <td>94283.09</td>\n",
       "      <td>0</td>\n",
       "      <td>0</td>\n",
       "      <td>0.125404</td>\n",
       "      <td>negative</td>\n",
       "    </tr>\n",
       "    <tr>\n",
       "      <th>1</th>\n",
       "      <td>55072.93</td>\n",
       "      <td>0</td>\n",
       "      <td>0</td>\n",
       "      <td>0.350899</td>\n",
       "      <td>negative</td>\n",
       "    </tr>\n",
       "    <tr>\n",
       "      <th>2</th>\n",
       "      <td>105433.53</td>\n",
       "      <td>0</td>\n",
       "      <td>0</td>\n",
       "      <td>0.143586</td>\n",
       "      <td>negative</td>\n",
       "    </tr>\n",
       "    <tr>\n",
       "      <th>3</th>\n",
       "      <td>33950.08</td>\n",
       "      <td>0</td>\n",
       "      <td>0</td>\n",
       "      <td>0.259019</td>\n",
       "      <td>negative</td>\n",
       "    </tr>\n",
       "    <tr>\n",
       "      <th>4</th>\n",
       "      <td>168544.85</td>\n",
       "      <td>0</td>\n",
       "      <td>0</td>\n",
       "      <td>0.266519</td>\n",
       "      <td>negative</td>\n",
       "    </tr>\n",
       "  </tbody>\n",
       "</table>\n",
       "</div>"
      ]
     },
     "execution_count": 68,
     "metadata": {},
     "output_type": "execute_result"
    }
   ],
   "execution_count": 68
  },
  {
   "cell_type": "markdown",
   "id": "266ea7a4",
   "metadata": {},
   "source": [
    "#### 6.4.2 Return per Client"
   ]
  },
  {
   "cell_type": "markdown",
   "id": "ce146fd5",
   "metadata": {},
   "source": [
    "Considering a return per client:\n",
    "- *15%* if the `estimated_salary` is lower than avg;\n",
    "- *20%* if the `estimated_salary` is equal to the avg and is also less than two times the avg;\n",
    "- *25%* if the `estimated_salary` is two times higher or more than avg;"
   ]
  },
  {
   "cell_type": "code",
   "id": "30779af3",
   "metadata": {
    "ExecuteTime": {
     "end_time": "2024-08-22T16:08:05.496275Z",
     "start_time": "2024-08-22T16:08:05.492624Z"
    }
   },
   "source": [
    "df_simulation[\"financial_return\"] = df_simulation[\"estimated_salary\"].apply(\n",
    "    lambda x: x * 0.15\n",
    "    if x < salary_mean\n",
    "    else x * 0.2\n",
    "    if salary_mean <= x < 2 * salary_mean\n",
    "    else x * 0.25\n",
    ")\n",
    "\n",
    "return_clients = round(df_simulation[\"financial_return\"].sum(), 2)\n",
    "print(f\"The return of all clients in this dataframe are: ${return_clients}\")"
   ],
   "outputs": [
    {
     "name": "stdout",
     "output_type": "stream",
     "text": [
      "The return of all clients in this dataframe are: $38210856.42\n"
     ]
    }
   ],
   "execution_count": 69
  },
  {
   "cell_type": "code",
   "id": "05443f9d",
   "metadata": {
    "ExecuteTime": {
     "end_time": "2024-08-22T16:08:05.526433Z",
     "start_time": "2024-08-22T16:08:05.521841Z"
    }
   },
   "source": [
    "churn_loss = round(\n",
    "    df_simulation[df_simulation[\"exited\"] == 1][\"financial_return\"].sum(), 2\n",
    ")\n",
    "print(\n",
    "    f\"The bank is losing ${churn_loss}, that value represents {round ((churn_loss/return_clients)*100, 2)}% of the total return.\"\n",
    ")"
   ],
   "outputs": [
    {
     "name": "stdout",
     "output_type": "stream",
     "text": [
      "The bank is losing $7517032.21, that value represents 19.67% of the total return.\n"
     ]
    }
   ],
   "execution_count": 70
  },
  {
   "cell_type": "markdown",
   "id": "127fdb8e",
   "metadata": {},
   "source": [
    "**Simulation 1 - Discount Ticket of $100**\n",
    "\n",
    "With a budget of $10000.00, the bank can deliver $100 discount tickets to the top 100 clients with the highest probability of churn."
   ]
  },
  {
   "cell_type": "code",
   "id": "01ee1111",
   "metadata": {
    "ExecuteTime": {
     "end_time": "2024-08-22T16:08:05.567586Z",
     "start_time": "2024-08-22T16:08:05.561182Z"
    }
   },
   "source": [
    "simulation_1 = top_clients(\n",
    "    \"Simulation 1\",\n",
    "    df_simulation,\n",
    "    \"probability\",\n",
    "    \"prediction\",\n",
    "    \"financial_return\",\n",
    "    churn_loss,\n",
    "    100,\n",
    "    100,\n",
    ")"
   ],
   "outputs": [],
   "execution_count": 71
  },
  {
   "cell_type": "markdown",
   "id": "33ed608a",
   "metadata": {},
   "source": [
    "**Simulation 2 - Discount Ticket of $50**\n",
    "\n",
    "With a budget of $10000.00, the bank can deliver $50 discount tickets to the top 200 clients with the highest probability of churn."
   ]
  },
  {
   "cell_type": "code",
   "id": "971d2e21",
   "metadata": {
    "ExecuteTime": {
     "end_time": "2024-08-22T16:08:05.608323Z",
     "start_time": "2024-08-22T16:08:05.603419Z"
    }
   },
   "source": [
    "simulation_2 = top_clients(\n",
    "    \"Simulation 2\",\n",
    "    df_simulation,\n",
    "    \"probability\",\n",
    "    \"prediction\",\n",
    "    \"financial_return\",\n",
    "    churn_loss,\n",
    "    200,\n",
    "    50,\n",
    ")"
   ],
   "outputs": [],
   "execution_count": 72
  },
  {
   "cell_type": "markdown",
   "id": "c76724de",
   "metadata": {},
   "source": [
    "**Simulation 3 - knapsack with an incentive of $100**\n",
    "\n",
    "Select the optimal combination of clients that maximize the total returned value , without exceeding the total constraint.\n",
    "\n",
    "Using the 0-1 knapsack-problem with probabilities with a budget of $10000.00 and $100 tickets."
   ]
  },
  {
   "cell_type": "code",
   "id": "7f034c28",
   "metadata": {
    "ExecuteTime": {
     "end_time": "2024-08-22T16:08:08.797414Z",
     "start_time": "2024-08-22T16:08:05.640925Z"
    }
   },
   "source": [
    "df_simulation_3 = df_simulation[df_simulation[\"prediction\"] == 1].copy()\n",
    "df_simulation_3[\"incentive\"] = 100\n",
    "\n",
    "simulation_3 = knapsack_solver(\n",
    "    \"Simulation 3\",\n",
    "    df_simulation_3,\n",
    "    \"prediction\",\n",
    "    \"financial_return\",\n",
    "    churn_loss,\n",
    "    10000,\n",
    "    \"incentive\",\n",
    ")"
   ],
   "outputs": [],
   "execution_count": 73
  },
  {
   "cell_type": "markdown",
   "id": "68d3e56e",
   "metadata": {},
   "source": [
    "**Simulation 4 - knapsack with an incentive list**\n",
    "\n",
    "Select the optimal combination of clients that maximize the total returned value , without exceeding the total constraint.\n",
    "\n",
    "Using the 0-1 knapsack-problem with probabilities with a budget of $10000.00:\n",
    "- p(churn) >= 0.99: Client that will leave\n",
    "- 0.95 <= p(churn) < 0.99: Client with a high probability to stay with a $200 ticket;\n",
    "- 0.90 <= p(churn) < 0.99: Client that might stay with a $100 ;\n",
    "- p(churn) < 0.90: Client that might stay with a $50 ticket.\n",
    "\n"
   ]
  },
  {
   "cell_type": "code",
   "id": "cf45272a",
   "metadata": {
    "ExecuteTime": {
     "end_time": "2024-08-22T16:08:11.778570Z",
     "start_time": "2024-08-22T16:08:08.838223Z"
    }
   },
   "source": [
    "df_simulation_4 = df_simulation[df_simulation[\"prediction\"] == 1].copy()\n",
    "\n",
    "# list of available incentives as stated above\n",
    "# the incentive of 20000 is for clients with p(churn) > 0.99, it will be discarded in the knapsack function\n",
    "incentives_list = [200, 100, 50]\n",
    "incentives = []\n",
    "n = len(df_simulation_4)\n",
    "\n",
    "# set incentive value according churn predicted probability\n",
    "for i in range(n):\n",
    "    entry = df_simulation_4.iloc[i]\n",
    "    if entry[\"probability\"] >= 0.95 and entry[\"probability\"]:\n",
    "        incentives.append(incentives_list[0])\n",
    "    elif 0.90 <= entry[\"probability\"] < 0.95:\n",
    "        incentives.append(incentives_list[1])\n",
    "    else:\n",
    "        incentives.append(incentives_list[2])\n",
    "\n",
    "df_simulation_4[\"incentive\"] = incentives\n",
    "\n",
    "simulation_4 = knapsack_solver(\n",
    "    \"Simulation 4\",\n",
    "    df_simulation_4,\n",
    "    \"prediction\",\n",
    "    \"financial_return\",\n",
    "    churn_loss,\n",
    "    10000,\n",
    "    \"incentive\",\n",
    ")"
   ],
   "outputs": [],
   "execution_count": 74
  },
  {
   "cell_type": "code",
   "id": "abb7e4c1",
   "metadata": {
    "ExecuteTime": {
     "end_time": "2024-08-22T16:08:11.810522Z",
     "start_time": "2024-08-22T16:08:11.805625Z"
    }
   },
   "source": [
    "compare_df = pd.concat(\n",
    "    [simulation_1, simulation_2, simulation_3, simulation_4], axis=0, ignore_index=True\n",
    ")\n",
    "compare_df"
   ],
   "outputs": [
    {
     "data": {
      "text/plain": [
       "       Scenario Recovered Revenue Loss Recovered Investment       Profit  \\\n",
       "0  Simulation 1       $1650351.21         21.95%     $10000  $1640351.21   \n",
       "1  Simulation 2       $3152913.76         41.94%     $10000  $3142913.76   \n",
       "2  Simulation 3        $1649498.2         21.94%     $10000   $1639498.2   \n",
       "3  Simulation 4       $2717398.24         36.15%     $10000  $2707398.24   \n",
       "\n",
       "         ROI Clients Recovered Churn Reduction  \n",
       "0  16403.51%        93 clients          22.85%  \n",
       "1  31429.14%       163 clients          40.05%  \n",
       "2  16394.98%        44 clients          100.0%  \n",
       "3  27073.98%        80 clients          100.0%  "
      ],
      "text/html": [
       "<div>\n",
       "<style scoped>\n",
       "    .dataframe tbody tr th:only-of-type {\n",
       "        vertical-align: middle;\n",
       "    }\n",
       "\n",
       "    .dataframe tbody tr th {\n",
       "        vertical-align: top;\n",
       "    }\n",
       "\n",
       "    .dataframe thead th {\n",
       "        text-align: right;\n",
       "    }\n",
       "</style>\n",
       "<table border=\"1\" class=\"dataframe\">\n",
       "  <thead>\n",
       "    <tr style=\"text-align: right;\">\n",
       "      <th></th>\n",
       "      <th>Scenario</th>\n",
       "      <th>Recovered Revenue</th>\n",
       "      <th>Loss Recovered</th>\n",
       "      <th>Investment</th>\n",
       "      <th>Profit</th>\n",
       "      <th>ROI</th>\n",
       "      <th>Clients Recovered</th>\n",
       "      <th>Churn Reduction</th>\n",
       "    </tr>\n",
       "  </thead>\n",
       "  <tbody>\n",
       "    <tr>\n",
       "      <th>0</th>\n",
       "      <td>Simulation 1</td>\n",
       "      <td>$1650351.21</td>\n",
       "      <td>21.95%</td>\n",
       "      <td>$10000</td>\n",
       "      <td>$1640351.21</td>\n",
       "      <td>16403.51%</td>\n",
       "      <td>93 clients</td>\n",
       "      <td>22.85%</td>\n",
       "    </tr>\n",
       "    <tr>\n",
       "      <th>1</th>\n",
       "      <td>Simulation 2</td>\n",
       "      <td>$3152913.76</td>\n",
       "      <td>41.94%</td>\n",
       "      <td>$10000</td>\n",
       "      <td>$3142913.76</td>\n",
       "      <td>31429.14%</td>\n",
       "      <td>163 clients</td>\n",
       "      <td>40.05%</td>\n",
       "    </tr>\n",
       "    <tr>\n",
       "      <th>2</th>\n",
       "      <td>Simulation 3</td>\n",
       "      <td>$1649498.2</td>\n",
       "      <td>21.94%</td>\n",
       "      <td>$10000</td>\n",
       "      <td>$1639498.2</td>\n",
       "      <td>16394.98%</td>\n",
       "      <td>44 clients</td>\n",
       "      <td>100.0%</td>\n",
       "    </tr>\n",
       "    <tr>\n",
       "      <th>3</th>\n",
       "      <td>Simulation 4</td>\n",
       "      <td>$2717398.24</td>\n",
       "      <td>36.15%</td>\n",
       "      <td>$10000</td>\n",
       "      <td>$2707398.24</td>\n",
       "      <td>27073.98%</td>\n",
       "      <td>80 clients</td>\n",
       "      <td>100.0%</td>\n",
       "    </tr>\n",
       "  </tbody>\n",
       "</table>\n",
       "</div>"
      ]
     },
     "execution_count": 75,
     "metadata": {},
     "output_type": "execute_result"
    }
   ],
   "execution_count": 75
  },
  {
   "cell_type": "code",
   "id": "3063f14727c74525",
   "metadata": {
    "ExecuteTime": {
     "end_time": "2024-08-22T16:08:11.862584Z",
     "start_time": "2024-08-22T16:08:11.857881Z"
    }
   },
   "source": [
    "compare_df.T"
   ],
   "outputs": [
    {
     "data": {
      "text/plain": [
       "                              0             1             2             3\n",
       "Scenario           Simulation 1  Simulation 2  Simulation 3  Simulation 4\n",
       "Recovered Revenue   $1650351.21   $3152913.76    $1649498.2   $2717398.24\n",
       "Loss Recovered           21.95%        41.94%        21.94%        36.15%\n",
       "Investment               $10000        $10000        $10000        $10000\n",
       "Profit              $1640351.21   $3142913.76    $1639498.2   $2707398.24\n",
       "ROI                   16403.51%     31429.14%     16394.98%     27073.98%\n",
       "Clients Recovered    93 clients   163 clients    44 clients    80 clients\n",
       "Churn Reduction          22.85%        40.05%        100.0%        100.0%"
      ],
      "text/html": [
       "<div>\n",
       "<style scoped>\n",
       "    .dataframe tbody tr th:only-of-type {\n",
       "        vertical-align: middle;\n",
       "    }\n",
       "\n",
       "    .dataframe tbody tr th {\n",
       "        vertical-align: top;\n",
       "    }\n",
       "\n",
       "    .dataframe thead th {\n",
       "        text-align: right;\n",
       "    }\n",
       "</style>\n",
       "<table border=\"1\" class=\"dataframe\">\n",
       "  <thead>\n",
       "    <tr style=\"text-align: right;\">\n",
       "      <th></th>\n",
       "      <th>0</th>\n",
       "      <th>1</th>\n",
       "      <th>2</th>\n",
       "      <th>3</th>\n",
       "    </tr>\n",
       "  </thead>\n",
       "  <tbody>\n",
       "    <tr>\n",
       "      <th>Scenario</th>\n",
       "      <td>Simulation 1</td>\n",
       "      <td>Simulation 2</td>\n",
       "      <td>Simulation 3</td>\n",
       "      <td>Simulation 4</td>\n",
       "    </tr>\n",
       "    <tr>\n",
       "      <th>Recovered Revenue</th>\n",
       "      <td>$1650351.21</td>\n",
       "      <td>$3152913.76</td>\n",
       "      <td>$1649498.2</td>\n",
       "      <td>$2717398.24</td>\n",
       "    </tr>\n",
       "    <tr>\n",
       "      <th>Loss Recovered</th>\n",
       "      <td>21.95%</td>\n",
       "      <td>41.94%</td>\n",
       "      <td>21.94%</td>\n",
       "      <td>36.15%</td>\n",
       "    </tr>\n",
       "    <tr>\n",
       "      <th>Investment</th>\n",
       "      <td>$10000</td>\n",
       "      <td>$10000</td>\n",
       "      <td>$10000</td>\n",
       "      <td>$10000</td>\n",
       "    </tr>\n",
       "    <tr>\n",
       "      <th>Profit</th>\n",
       "      <td>$1640351.21</td>\n",
       "      <td>$3142913.76</td>\n",
       "      <td>$1639498.2</td>\n",
       "      <td>$2707398.24</td>\n",
       "    </tr>\n",
       "    <tr>\n",
       "      <th>ROI</th>\n",
       "      <td>16403.51%</td>\n",
       "      <td>31429.14%</td>\n",
       "      <td>16394.98%</td>\n",
       "      <td>27073.98%</td>\n",
       "    </tr>\n",
       "    <tr>\n",
       "      <th>Clients Recovered</th>\n",
       "      <td>93 clients</td>\n",
       "      <td>163 clients</td>\n",
       "      <td>44 clients</td>\n",
       "      <td>80 clients</td>\n",
       "    </tr>\n",
       "    <tr>\n",
       "      <th>Churn Reduction</th>\n",
       "      <td>22.85%</td>\n",
       "      <td>40.05%</td>\n",
       "      <td>100.0%</td>\n",
       "      <td>100.0%</td>\n",
       "    </tr>\n",
       "  </tbody>\n",
       "</table>\n",
       "</div>"
      ]
     },
     "execution_count": 76,
     "metadata": {},
     "output_type": "execute_result"
    }
   ],
   "execution_count": 76
  },
  {
   "cell_type": "markdown",
   "id": "7ebeeacf",
   "metadata": {},
   "source": [
    "### 6.5 Business Performance Summary\n",
    "- The Top Bank's **churn rate is 20.37%**\n",
    "- The monthly churn rate varies, on average, 8.33%\n",
    "- The model has an accuracy of 77.9% and a recall of 81.2% in classifying clients as churn\n",
    "- The bank is **losing *$7,517,032.21* in this dataframe because of the churn effect**\n",
    "- The return of all clients in this dataframe are: *$38,210,856.42*\n",
    "- Using the knapsack approach with an incentive list with tickets of $200, $100 and $50 depending on the probability to client's churn can give:\n",
    "  - Recovered Revenue: *$2717398.24*\n",
    "  - Churn Loss Recovered: **100%**\n",
    "  - Investment: *$10000*\n",
    "  - Profit: *$2,707,398.24*\n",
    "  - ROI: **27,073.98%**\n",
    "  - Potential clients recovered with the model: 87 clients "
   ]
  }
 ],
 "metadata": {
  "kernelspec": {
   "display_name": "Python 3",
   "language": "python",
   "name": "python3"
  },
  "language_info": {
   "codemirror_mode": {
    "name": "ipython",
    "version": 2
   },
   "file_extension": ".py",
   "mimetype": "text/x-python",
   "name": "python",
   "nbconvert_exporter": "python",
   "pygments_lexer": "ipython2",
   "version": "3.12.4"
  }
 },
 "nbformat": 4,
 "nbformat_minor": 5
}
