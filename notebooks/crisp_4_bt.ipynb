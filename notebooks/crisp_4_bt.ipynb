{
 "cells": [
  {
   "cell_type": "markdown",
   "id": "c0bbc7b8df29ac87",
   "metadata": {},
   "source": [
    "# Client Churn Prediction\n",
    "### CRISP-DM Cycle 4\n",
    "---\n",
    "The Top Bank company operates in Europe with a bank account as the main product, this product can keep client's salary and make payments. This account doesn't have any cost in the first 12 months, however, after that time trial, the client needs to rehire the bank for upcoming 12 months and redo this process every year. Recently the Analytics Team noticed that the churn rate is increasing.\n",
    "\n",
    "As a Data Science Consultant, you need to create an action plan to decrease the number of churn customers and show the financial return on your solution.\n",
    "At the end of your consultancy, you need to deliver to the TopBottom CEO a model in production, which will receive a customer base via API and return that same base with an extra column with the probability of each customer going into churn.\n",
    "In addition, you will need to provide a report reporting your model's performance and the financial impact of your solution. Questions that the CEO and the Analytics team would like to see in their report:\n",
    "\n",
    "1.  What is Top Bank's current Churn rate?\n",
    "2.  How does the churn rate vary monthly?\n",
    "3.  What is the performance of the model in classifying customers as churns\n",
    "4.  What is the expected return, in terms of revenue, if the company uses its model to avoid churn from customers?\n",
    "\n",
    "> Disclaimer: This is a fictional business case"
   ]
  },
  {
   "cell_type": "markdown",
   "id": "a2278ba4be70ee7f",
   "metadata": {},
   "source": [
    "## 0. Preparation"
   ]
  },
  {
   "cell_type": "markdown",
   "id": "86c764e109a1e137",
   "metadata": {},
   "source": [
    "### 0.1 Imports & Settings"
   ]
  },
  {
   "cell_type": "code",
   "execution_count": 20,
   "id": "cb0e332e88cd304f",
   "metadata": {
    "ExecuteTime": {
     "end_time": "2024-08-18T20:13:06.071215Z",
     "start_time": "2024-08-18T20:13:06.048704Z"
    }
   },
   "outputs": [],
   "source": [
    "from IPython.core.display import HTML\n",
    "from pathlib import Path\n",
    "import pandas as pd\n",
    "from matplotlib import pyplot as plt\n",
    "import seaborn as sns\n",
    "\n",
    "from src.utils_feature_selection import multiple_histplots, apply_log_transformation, apply_one_hot_encoder, apply_standard_scaler, apply_min_max_scaler, apply_robust_scaler, plot_feature_importance, select_features_with_rfe"
   ]
  },
  {
   "cell_type": "code",
   "execution_count": 21,
   "id": "79e7a9595993a836",
   "metadata": {
    "ExecuteTime": {
     "end_time": "2024-08-18T20:13:06.179793Z",
     "start_time": "2024-08-18T20:13:06.106319Z"
    }
   },
   "outputs": [
    {
     "data": {
      "text/html": [
       "<style>.container {width:100% !important;}</style>"
      ],
      "text/plain": [
       "<IPython.core.display.HTML object>"
      ]
     },
     "metadata": {},
     "output_type": "display_data"
    }
   ],
   "source": [
    "def jupyter_settings():\n",
    "    \"\"\"\n",
    "    Plots pre settings.\n",
    "    \"\"\"\n",
    "\n",
    "    %matplotlib inline\n",
    "    plt.style.use(\"seaborn-v0_8-whitegrid\")\n",
    "    plt.rcParams[\"figure.figsize\"] = [25, 12]\n",
    "    plt.rcParams[\"font.size\"] = 24\n",
    "    display(HTML(\"<style>.container {width:100% !important;}</style>\"))\n",
    "    sns.set()\n",
    "\n",
    "\n",
    "jupyter_settings()\n",
    "\n",
    "seed = 42"
   ]
  },
  {
   "cell_type": "markdown",
   "id": "3c2fb0f70226b5b",
   "metadata": {},
   "source": [
    "### 0.3 Path"
   ]
  },
  {
   "cell_type": "code",
   "execution_count": 22,
   "id": "acb77a0b4f289eaa",
   "metadata": {
    "ExecuteTime": {
     "end_time": "2024-08-18T20:13:06.381681Z",
     "start_time": "2024-08-18T20:13:06.360622Z"
    }
   },
   "outputs": [],
   "source": [
    "# found the main project folders\n",
    "path = Path().resolve().parent\n",
    "data_path = path / \"data/processed\"\n",
    "fig_path = path / \"pics\"\n"
   ]
  },
  {
   "cell_type": "markdown",
   "id": "4b21149ef752225e",
   "metadata": {},
   "source": [
    "### 0.4 Data\n",
    "\n",
    "This dataset is available [here](https://www.kaggle.com/mervetorkan/churndataset).\n",
    "\n",
    "\n",
    "**Data fields**\n",
    "\n",
    "- **RowNumber**: the number of the columns\n",
    "- **CustomerID**: unique identifier of clients\n",
    "- **Surname**: client's last name\n",
    "- **CreditScore**: clients credit score for the financial market\n",
    "- **Geography**: the country of the client\n",
    "- **Gender**: the gender of the client\n",
    "- **Age**: the client's age\n",
    "- **Tenure**: number of years the client is in the bank \n",
    "- **Balance**: the amount that the client has in their account \n",
    "- **NumOfProducts**: the number of products that the client bought \n",
    "- **HasCrCard**: if the client has a credit card \n",
    "- **IsActiveMember**: if the client is active (within the last 12 months) \n",
    "- **EstimateSalary**: estimate of annual salary of clients \n",
    "- **Exited**: if the client is a churn (*target variable*)"
   ]
  },
  {
   "cell_type": "code",
   "execution_count": 23,
   "id": "a31a1c92abc1c3cd",
   "metadata": {
    "ExecuteTime": {
     "end_time": "2024-08-18T20:13:06.713578Z",
     "start_time": "2024-08-18T20:13:06.628246Z"
    }
   },
   "outputs": [],
   "source": [
    "X_train = pd.read_parquet(data_path / \"X_train.parquet\")\n",
    "X_test = pd.read_parquet(data_path / \"X_test.parquet\")\n",
    "X_val = pd.read_parquet(data_path / \"X_val.parquet\")\n",
    "y_train = pd.read_pickle(data_path / \"y_train.pkl\")\n",
    "y_test = pd.read_pickle(data_path / \"y_test.pkl\")\n",
    "y_val = pd.read_pickle(data_path / \"y_val.pkl\")"
   ]
  },
  {
   "cell_type": "markdown",
   "id": "6112a3be",
   "metadata": {},
   "source": [
    "## 7. Bussiness Translation"
   ]
  },
  {
   "cell_type": "code",
   "execution_count": null,
   "id": "54a56b2f",
   "metadata": {},
   "outputs": [],
   "source": [
    "X_data = pd.read_pickle(homepath + 'data/processed/X_data.pkl')\n",
    "y_data = pd.read_pickle(homepath + 'data/processed/y_data.pkl')\n",
    "\n",
    "X_test = pd.read_pickle(homepath + 'data/processed/X_test.pkl')\n",
    "y_test = pd.read_pickle(homepath + 'data/processed/y_test.pkl')\n",
    "\n",
    "estimated_salary = pd.read_pickle(homepath + 'data/processed/estimated_salary.pkl')\n",
    "\n",
    "model = pickle.load(open(homepath + 'models/model.pkl', 'rb'))\n",
    "threshold = pickle.load(open(homepath + 'models/threshold.pkl', 'rb'))\n",
    "yhat_proba = model.predict_proba(X_test)[: , 1]\n",
    "yhat = (yhat_proba >= threshold).astype(int)"
   ]
  },
  {
   "cell_type": "markdown",
   "id": "f5f770c5",
   "metadata": {},
   "source": [
    "### 7.1 What is Top Bank's current Churn rate?"
   ]
  },
  {
   "cell_type": "code",
   "execution_count": null,
   "id": "dbf8ed89",
   "metadata": {},
   "outputs": [
    {
     "data": {
      "text/plain": [
       "20.37"
      ]
     },
     "metadata": {},
     "output_type": "display_data"
    }
   ],
   "source": [
    "churn_rate = df1_cat[df1_cat['exited'] == 'yes']['exited'].count()/(len(df1_cat))\n",
    "round(churn_rate*100, 2)"
   ]
  },
  {
   "cell_type": "markdown",
   "id": "c532b17b",
   "metadata": {},
   "source": [
    "The current churn rate is 20.37%"
   ]
  },
  {
   "cell_type": "markdown",
   "id": "7b00d108",
   "metadata": {},
   "source": [
    "### 7.2 How does the churn rate vary monthly?"
   ]
  },
  {
   "cell_type": "code",
   "execution_count": null,
   "id": "65deb79c",
   "metadata": {},
   "outputs": [
    {
     "name": "stdout",
     "output_type": "stream",
     "text": [
      " The churn rate varies 8.33 per month.\n"
     ]
    }
   ],
   "source": [
    "monthly_churn_rate = churn_rate_per_month(df1)\n",
    "\n",
    "print(f' The churn rate varies {round(monthly_churn_rate, 2)} per month.')"
   ]
  },
  {
   "cell_type": "markdown",
   "id": "de322777",
   "metadata": {},
   "source": [
    "### 7.2 What is the performance of the model in classifying customers as churns?\n"
   ]
  },
  {
   "cell_type": "code",
   "execution_count": null,
   "id": "06244c84",
   "metadata": {},
   "outputs": [
    {
     "name": "stdout",
     "output_type": "stream",
     "text": [
      "Please wait a moment - Doing CV\n"
     ]
    },
    {
     "name": "stdout",
     "output_type": "stream",
     "text": [
      "Finished, check the results\n"
     ]
    },
    {
     "data": {
      "text/html": [
       "<div>\n",
       "<style scoped>\n",
       "    .dataframe tbody tr th:only-of-type {\n",
       "        vertical-align: middle;\n",
       "    }\n",
       "\n",
       "    .dataframe tbody tr th {\n",
       "        vertical-align: top;\n",
       "    }\n",
       "\n",
       "    .dataframe thead th {\n",
       "        text-align: right;\n",
       "    }\n",
       "</style>\n",
       "<table border=\"1\" class=\"dataframe\">\n",
       "  <thead>\n",
       "    <tr style=\"text-align: right;\">\n",
       "      <th></th>\n",
       "      <th>Model_Name</th>\n",
       "      <th>Threshold</th>\n",
       "      <th>Balanced_Accuracy Mean</th>\n",
       "      <th>Balanced_Accuracy STD</th>\n",
       "      <th>Precision Mean</th>\n",
       "      <th>Precision STD</th>\n",
       "      <th>Recall Mean</th>\n",
       "      <th>Recall STD</th>\n",
       "      <th>F1 Score Mean</th>\n",
       "      <th>F1 Score STD</th>\n",
       "      <th>ROCAUC Mean</th>\n",
       "      <th>ROCAUC STD</th>\n",
       "    </tr>\n",
       "  </thead>\n",
       "  <tbody>\n",
       "    <tr>\n",
       "      <th>0</th>\n",
       "      <td>CatBoostClassifier</td>\n",
       "      <td>0.430</td>\n",
       "      <td>0.761</td>\n",
       "      <td>0.011</td>\n",
       "      <td>0.536</td>\n",
       "      <td>0.005</td>\n",
       "      <td>0.671</td>\n",
       "      <td>0.026</td>\n",
       "      <td>0.596</td>\n",
       "      <td>0.012</td>\n",
       "      <td>0.761</td>\n",
       "      <td>0.761</td>\n",
       "    </tr>\n",
       "  </tbody>\n",
       "</table>\n",
       "</div>"
      ],
      "text/plain": [
       "           Model_Name  Threshold  Balanced_Accuracy Mean  Balanced_Accuracy STD  Precision Mean  Precision STD  Recall Mean  Recall STD  F1 Score Mean  F1 Score STD  ROCAUC Mean  ROCAUC STD\n",
       "0  CatBoostClassifier      0.430                   0.761                  0.011           0.536          0.005        0.671       0.026          0.596         0.012        0.761       0.761"
      ]
     },
     "metadata": {},
     "output_type": "display_data"
    }
   ],
   "source": [
    "metrics_cv([model], X_data, y_data, threshold = 0.43, verbose = False)\n"
   ]
  },
  {
   "cell_type": "markdown",
   "id": "a1ab5644",
   "metadata": {},
   "source": [
    "### 7.3 What is the expected return, in terms of revenue, if the company uses its model to avoid churn from customers?"
   ]
  },
  {
   "cell_type": "markdown",
   "id": "d2f8ddc1",
   "metadata": {},
   "source": [
    "#### 7.3.1 Creating DataFrame"
   ]
  },
  {
   "cell_type": "code",
   "execution_count": null,
   "id": "3759f16a",
   "metadata": {},
   "outputs": [],
   "source": [
    "#df2['estimated_salary_regular'] = estimated_salary"
   ]
  },
  {
   "cell_type": "code",
   "execution_count": null,
   "id": "69ddced2",
   "metadata": {},
   "outputs": [],
   "source": [
    "# df2 is a dataframe before the transformations\n",
    "salary_mean = round(df2['estimated_salary'].mean(), 2)\n",
    "\n",
    "# Predictions and Results\n",
    "y_test_frame = y_test.to_frame().reset_index(drop = True)\n",
    "y_proba = pd.DataFrame(yhat_proba).rename(columns = {0: 'probability'}).reset_index(drop = True)\n",
    "y_predict = pd.DataFrame(yhat).rename(columns = {0: 'prediction'}).reset_index(drop = True)\n",
    "\n",
    "# Estimated salary without mms\n",
    "estimated_salary_frame = estimated_salary.to_frame().reset_index(drop = True)\n",
    "\n",
    "# Creating a dataframe with the results\n",
    "df_simulation = pd.concat((y_test_frame, y_proba, y_predict, estimated_salary_frame), axis = 1)\n",
    "\n",
    "# Verify threshold\n",
    "df_simulation['threshold'] = df_simulation['probability'].apply(lambda x: 'negative' if x <= 0.4 else 'positive')\n",
    "\n",
    "# Reorder columns\n",
    "df_simulation = df_simulation[['estimated_salary' , 'exited', 'prediction', 'probability', 'threshold']]"
   ]
  },
  {
   "cell_type": "code",
   "execution_count": null,
   "id": "5d6658a6",
   "metadata": {},
   "outputs": [
    {
     "data": {
      "text/plain": [
       "100090.24"
      ]
     },
     "metadata": {},
     "output_type": "display_data"
    }
   ],
   "source": [
    "salary_mean"
   ]
  },
  {
   "cell_type": "code",
   "execution_count": null,
   "id": "acf8acd7",
   "metadata": {},
   "outputs": [
    {
     "data": {
      "text/html": [
       "<div>\n",
       "<style scoped>\n",
       "    .dataframe tbody tr th:only-of-type {\n",
       "        vertical-align: middle;\n",
       "    }\n",
       "\n",
       "    .dataframe tbody tr th {\n",
       "        vertical-align: top;\n",
       "    }\n",
       "\n",
       "    .dataframe thead th {\n",
       "        text-align: right;\n",
       "    }\n",
       "</style>\n",
       "<table border=\"1\" class=\"dataframe\">\n",
       "  <thead>\n",
       "    <tr style=\"text-align: right;\">\n",
       "      <th></th>\n",
       "      <th>estimated_salary</th>\n",
       "      <th>exited</th>\n",
       "      <th>prediction</th>\n",
       "      <th>probability</th>\n",
       "      <th>threshold</th>\n",
       "    </tr>\n",
       "  </thead>\n",
       "  <tbody>\n",
       "    <tr>\n",
       "      <th>0</th>\n",
       "      <td>94283.090</td>\n",
       "      <td>0</td>\n",
       "      <td>0</td>\n",
       "      <td>0.067</td>\n",
       "      <td>negative</td>\n",
       "    </tr>\n",
       "    <tr>\n",
       "      <th>1</th>\n",
       "      <td>55072.930</td>\n",
       "      <td>0</td>\n",
       "      <td>0</td>\n",
       "      <td>0.348</td>\n",
       "      <td>negative</td>\n",
       "    </tr>\n",
       "    <tr>\n",
       "      <th>2</th>\n",
       "      <td>105433.530</td>\n",
       "      <td>0</td>\n",
       "      <td>0</td>\n",
       "      <td>0.039</td>\n",
       "      <td>negative</td>\n",
       "    </tr>\n",
       "    <tr>\n",
       "      <th>3</th>\n",
       "      <td>33950.080</td>\n",
       "      <td>0</td>\n",
       "      <td>0</td>\n",
       "      <td>0.178</td>\n",
       "      <td>negative</td>\n",
       "    </tr>\n",
       "    <tr>\n",
       "      <th>4</th>\n",
       "      <td>168544.850</td>\n",
       "      <td>0</td>\n",
       "      <td>0</td>\n",
       "      <td>0.224</td>\n",
       "      <td>negative</td>\n",
       "    </tr>\n",
       "  </tbody>\n",
       "</table>\n",
       "</div>"
      ],
      "text/plain": [
       "   estimated_salary  exited  prediction  probability threshold\n",
       "0         94283.090       0           0        0.067  negative\n",
       "1         55072.930       0           0        0.348  negative\n",
       "2        105433.530       0           0        0.039  negative\n",
       "3         33950.080       0           0        0.178  negative\n",
       "4        168544.850       0           0        0.224  negative"
      ]
     },
     "metadata": {},
     "output_type": "display_data"
    }
   ],
   "source": [
    "df_simulation.head()"
   ]
  },
  {
   "cell_type": "markdown",
   "id": "266ea7a4",
   "metadata": {},
   "source": [
    "#### 7.3.2 Return per Client"
   ]
  },
  {
   "cell_type": "markdown",
   "id": "ce146fd5",
   "metadata": {},
   "source": [
    "Considering a return per client:\n",
    "- *15%* if the `estimated_salary` is lower than avg;\n",
    "- *20%* if the `estimated_salary` is equal to the avg and is also less than two times the avg;\n",
    "- *25%* if the `estimated_salary` is two times higher or more than avg;"
   ]
  },
  {
   "cell_type": "code",
   "execution_count": null,
   "id": "30779af3",
   "metadata": {},
   "outputs": [
    {
     "name": "stdout",
     "output_type": "stream",
     "text": [
      "The return of all clients in this dataframe are: $38210856.42\n"
     ]
    }
   ],
   "source": [
    "df_simulation['financial_return'] = df_simulation['estimated_salary'].apply(lambda x: x * 0.15 if x < salary_mean\n",
    "                                                      else x * 0.2 if x >= salary_mean and x < 2 * salary_mean\n",
    "                                                      else x * 0.25)\n",
    "\n",
    "return_clients = round(df_simulation['financial_return'].sum(), 2)\n",
    "print(f'The return of all clients in this dataframe are: ${return_clients}')"
   ]
  },
  {
   "cell_type": "code",
   "execution_count": null,
   "id": "05443f9d",
   "metadata": {},
   "outputs": [
    {
     "name": "stdout",
     "output_type": "stream",
     "text": [
      "The bank is losing $7517032.21, that value represents 19.67% of the total return.\n"
     ]
    }
   ],
   "source": [
    "churn_loss = round(df_simulation[df_simulation['exited'] == 1]['financial_return'].sum(), 2)\n",
    "print(f'The bank is losing ${churn_loss}, that value represents {round ((churn_loss/return_clients)*100, 2)}% of the total return.')"
   ]
  },
  {
   "cell_type": "markdown",
   "id": "127fdb8e",
   "metadata": {},
   "source": [
    "**Simulation 1 - Discount Coupon of $100**\n",
    "\n",
    "With a budget of $10000.00, the bank can deliver $100 discount coupons to the top 100 clients with highest probability of churn."
   ]
  },
  {
   "cell_type": "code",
   "execution_count": null,
   "id": "01ee1111",
   "metadata": {},
   "outputs": [],
   "source": [
    "simulation_1 = top_clients('Simulation 1', df_simulation, 'probability','prediction', 'financial_return', churn_loss, 100, 100)"
   ]
  },
  {
   "cell_type": "markdown",
   "id": "33ed608a",
   "metadata": {},
   "source": [
    "**Simulation 2 - Discount Cupom of $50**\n",
    "\n",
    "With a budget of $10000.00, the bank can deliver $50 discount coupons to the top 200 clients with highest probability of churn."
   ]
  },
  {
   "cell_type": "code",
   "execution_count": null,
   "id": "971d2e21",
   "metadata": {},
   "outputs": [],
   "source": [
    "simulation_2 = top_clients('Simulation 2', df_simulation, 'probability','prediction', 'financial_return', churn_loss, 200, 50)"
   ]
  },
  {
   "cell_type": "markdown",
   "id": "c76724de",
   "metadata": {},
   "source": [
    "**Simulation 3 - knapsack with a incentive of $100**\n",
    "\n",
    "Select the optimal combination of clients that maximize the total returned value , without exceeding the total constraint.\n",
    "\n",
    "Using the 0-1 knapsack-problem with probabilities with a budget of $10000.00 and $100 coupons."
   ]
  },
  {
   "cell_type": "code",
   "execution_count": null,
   "id": "7f034c28",
   "metadata": {},
   "outputs": [],
   "source": [
    "df_simulation_3 = df_simulation[df_simulation['prediction'] == 1]\n",
    "df_simulation_3['incentive'] = 100\n",
    "\n",
    "simulation_3 = knapsack_solver('Simulation 3', df_simulation_3, 'prediction', 'financial_return', churn_loss, 10000, 'incentive')"
   ]
  },
  {
   "cell_type": "markdown",
   "id": "68d3e56e",
   "metadata": {},
   "source": [
    "**Simulation 4 - knapsack with a incentive list**\n",
    "\n",
    "Select the optimal combination of clients that maximize the total returned value , without exceeding the total constraint.\n",
    "\n",
    "Using the 0-1 knapsack-problem with probabilities with a budget of $10000.00:\n",
    "- p(churn) >= 0.99: Client that will leave\n",
    "- 0.95 <= p(churn) < 0.99: Client with a high probability to stay with a $200 coupon;\n",
    "- 0.90 <= p(churn) < 0.99: Client that might stay with a $100 coupon;\n",
    "- p(churn) < 0.90: Client that might stay with a $500 coupon.\n",
    "\n"
   ]
  },
  {
   "cell_type": "code",
   "execution_count": null,
   "id": "cf45272a",
   "metadata": {},
   "outputs": [],
   "source": [
    "df_simulation_4 = df_simulation[df_simulation['prediction'] == 1]\n",
    "  \n",
    "# list of available incentives as stated above\n",
    "# the incentive of 20000 is for clients with p(churn) > 0.99, it will be discarded in the knapsack function\n",
    "incentives_list = [200, 100, 50]\n",
    "incentives = []\n",
    "n = len(df_simulation_4)\n",
    "\n",
    "# set incentive value according churn predicted probability\n",
    "for i in range(n):\n",
    "    entry = df_simulation_4.iloc[i]\n",
    "    if entry['probability'] >= 0.95 and entry['probability']:\n",
    "        incentives.append(incentives_list[0])\n",
    "    elif entry['probability'] >= 0.90 and entry['probability'] < 0.95:\n",
    "        incentives.append(incentives_list[1])\n",
    "    else:\n",
    "        incentives.append(incentives_list[2])\n",
    "\n",
    "df_simulation_4['incentive'] = incentives\n",
    "\n",
    "simulation_4 = knapsack_solver('Simulation 4', df_simulation_4, 'prediction', 'financial_return', churn_loss, 10000, 'incentive')\n"
   ]
  },
  {
   "cell_type": "code",
   "execution_count": null,
   "id": "abb7e4c1",
   "metadata": {},
   "outputs": [
    {
     "data": {
      "text/html": [
       "<div>\n",
       "<style scoped>\n",
       "    .dataframe tbody tr th:only-of-type {\n",
       "        vertical-align: middle;\n",
       "    }\n",
       "\n",
       "    .dataframe tbody tr th {\n",
       "        vertical-align: top;\n",
       "    }\n",
       "\n",
       "    .dataframe thead th {\n",
       "        text-align: right;\n",
       "    }\n",
       "</style>\n",
       "<table border=\"1\" class=\"dataframe\">\n",
       "  <thead>\n",
       "    <tr style=\"text-align: right;\">\n",
       "      <th></th>\n",
       "      <th>Scenario</th>\n",
       "      <th>Recovered Revenue</th>\n",
       "      <th>Loss Recovered</th>\n",
       "      <th>Investment</th>\n",
       "      <th>Profit</th>\n",
       "      <th>ROI</th>\n",
       "      <th>Clients Recovered</th>\n",
       "      <th>Churn Reduction</th>\n",
       "    </tr>\n",
       "  </thead>\n",
       "  <tbody>\n",
       "    <tr>\n",
       "      <th>0</th>\n",
       "      <td>Simulation 1</td>\n",
       "      <td>$1685796.24</td>\n",
       "      <td>22.43%</td>\n",
       "      <td>$10000</td>\n",
       "      <td>$1675796.24</td>\n",
       "      <td>16757.96%</td>\n",
       "      <td>91 clients</td>\n",
       "      <td>22.36%</td>\n",
       "    </tr>\n",
       "    <tr>\n",
       "      <th>1</th>\n",
       "      <td>Simulation 2</td>\n",
       "      <td>$2906302.0</td>\n",
       "      <td>38.66%</td>\n",
       "      <td>$10000</td>\n",
       "      <td>$2896302.0</td>\n",
       "      <td>28963.02%</td>\n",
       "      <td>158 clients</td>\n",
       "      <td>38.82%</td>\n",
       "    </tr>\n",
       "    <tr>\n",
       "      <th>2</th>\n",
       "      <td>Simulation 3</td>\n",
       "      <td>$2179274.99</td>\n",
       "      <td>28.99%</td>\n",
       "      <td>$10000</td>\n",
       "      <td>$2169274.99</td>\n",
       "      <td>21692.75%</td>\n",
       "      <td>60 clients</td>\n",
       "      <td>100.0%</td>\n",
       "    </tr>\n",
       "    <tr>\n",
       "      <th>3</th>\n",
       "      <td>Simulation 4</td>\n",
       "      <td>$2733157.31</td>\n",
       "      <td>36.36%</td>\n",
       "      <td>$10000</td>\n",
       "      <td>$2723157.31</td>\n",
       "      <td>27231.57%</td>\n",
       "      <td>87 clients</td>\n",
       "      <td>100.0%</td>\n",
       "    </tr>\n",
       "  </tbody>\n",
       "</table>\n",
       "</div>"
      ],
      "text/plain": [
       "       Scenario Recovered Revenue Loss Recovered Investment       Profit        ROI Clients Recovered Churn Reduction\n",
       "0  Simulation 1       $1685796.24         22.43%     $10000  $1675796.24  16757.96%        91 clients          22.36%\n",
       "1  Simulation 2        $2906302.0         38.66%     $10000   $2896302.0  28963.02%       158 clients          38.82%\n",
       "2  Simulation 3       $2179274.99         28.99%     $10000  $2169274.99  21692.75%        60 clients          100.0%\n",
       "3  Simulation 4       $2733157.31         36.36%     $10000  $2723157.31  27231.57%        87 clients          100.0%"
      ]
     },
     "metadata": {},
     "output_type": "display_data"
    }
   ],
   "source": [
    "comparation = pd.concat([simulation_1, simulation_2, simulation_3, simulation_4], axis = 0, ignore_index = True)\n",
    "comparation"
   ]
  },
  {
   "cell_type": "markdown",
   "id": "7ebeeacf",
   "metadata": {},
   "source": [
    "### 7.4 Bussiness Performance Summary\n",
    "- The Top Bank's **churn rate is 20.37%**\n",
    "- The monthly churn rate varies, on average, 8.33%\n",
    "- The model has a accuracy of 76.1% and a recall of 67.1% in classifying clients as churn\n",
    "- The bank is **losing *$7,517,032.21* in this dataframe because of the churn**\n",
    "- The return of all clients in this dataframe are: *$38,210,856.42*\n",
    "- Using the knapsack approach with an incentive list with coupons of $200, $100 and $50 depending of the probability to client's churn can give:\n",
    "  - Recovered Revenue: *$2733157.31*\n",
    "  - Churn Loss Recovered: **100%**\n",
    "  - Investment: *$10000*\n",
    "  - Profit: *$2,723,157.31*\n",
    "  - ROI: **21,913.87%**\n",
    "  - Potential clients recovered with the model: 87 clients "
   ]
  }
 ],
 "metadata": {
  "kernelspec": {
   "display_name": "Python 3",
   "language": "python",
   "name": "python3"
  },
  "language_info": {
   "codemirror_mode": {
    "name": "ipython",
    "version": 2
   },
   "file_extension": ".py",
   "mimetype": "text/x-python",
   "name": "python",
   "nbconvert_exporter": "python",
   "pygments_lexer": "ipython2",
   "version": "2.7.6"
  }
 },
 "nbformat": 4,
 "nbformat_minor": 5
}
