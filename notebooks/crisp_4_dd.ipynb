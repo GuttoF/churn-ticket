{
 "cells": [
  {
   "cell_type": "markdown",
   "id": "c0bbc7b8df29ac87",
   "metadata": {},
   "source": [
    "# Client Churn Prediction\n",
    "### CRISP-DM Cycle 4\n",
    "---\n",
    "The Top Bank company operates in Europe with a bank account as the main product, this product can keep client's salary and make payments. This account doesn't have any cost in the first 12 months, however, after that time trial, the client needs to rehire the bank for upcoming 12 months and redo this process every year. Recently the Analytics Team noticed that the churn rate is increasing.\n",
    "\n",
    "As a Data Science Consultant, you need to create an action plan to decrease the number of churn customers and show the financial return on your solution.\n",
    "At the end of your consultancy, you need to deliver to the TopBottom CEO a model in production, which will receive a customer base via API and return that same base with an extra column with the probability of each customer going into churn.\n",
    "In addition, you will need to provide a report reporting your model's performance and the financial impact of your solution. Questions that the CEO and the Analytics team would like to see in their report:\n",
    "\n",
    "1.  What is Top Bank's current Churn rate?\n",
    "2.  How does the churn rate vary monthly?\n",
    "3.  What is the performance of the model in classifying customers as churns\n",
    "4.  What is the expected return, in terms of revenue, if the company uses its model to avoid churn from customers?\n",
    "\n",
    "> Disclaimer: This is a fictional business case"
   ]
  },
  {
   "cell_type": "markdown",
   "id": "a2278ba4be70ee7f",
   "metadata": {},
   "source": [
    "## 0. Preparation"
   ]
  },
  {
   "cell_type": "markdown",
   "id": "f750ed65402f14bf",
   "metadata": {},
   "source": [
    "### 0.1 Planning"
   ]
  },
  {
   "cell_type": "markdown",
   "id": "23c2b4911cc2e16a",
   "metadata": {},
   "source": [
    "#### Input\n",
    "\n",
    "- Predict whether customer will be in churn;\n",
    "- Dataset with sales records and customers info.\n",
    "\n",
    "#### Output\n",
    "\n",
    "- Which customer will be in churn;\n",
    "- Churn rate of the company;\n",
    "- Performance of the model;\n",
    "- Action plan\n",
    "\n",
    "\n",
    "#### Tasks\n",
    "\n",
    "1. Which customer will be in churn:\n",
    "    - What is the criterion?\n",
    "        - Downtime\n",
    "        - Time remaining until the contract ends\n",
    "\n",
    "\n",
    "1. Current churn rate of the company:\n",
    "    - Calculate churn rate\n",
    "    - Calculate monthly churn rate and variation\n",
    "\n",
    "2. Performance of the model:\n",
    "Metrics:\n",
    "    - Precision at K score\n",
    "    - Recall at K score\n",
    "\n",
    "3. Action plan:\n",
    "    - Discount?\n",
    "    - Voucher?\n",
    "    - Deposit bonus?"
   ]
  },
  {
   "cell_type": "markdown",
   "id": "86c764e109a1e137",
   "metadata": {},
   "source": [
    "### 0.2 Imports & Settings"
   ]
  },
  {
   "cell_type": "code",
   "execution_count": 1,
   "id": "cb0e332e88cd304f",
   "metadata": {
    "ExecuteTime": {
     "end_time": "2024-08-18T20:22:04.245558Z",
     "start_time": "2024-08-18T20:22:03.069708Z"
    }
   },
   "outputs": [],
   "source": [
    "import polars as pl\n",
    "from matplotlib import pyplot as plt\n",
    "import seaborn as sns\n",
    "from IPython.core.display import HTML\n",
    "import duckdb\n",
    "from pathlib import Path\n",
    "\n",
    "\n",
    "from src.utils_data_description import (\n",
    "    DataDescription,\n",
    "    plot_features,\n",
    "    categorical_metrics,\n",
    ")\n",
    "from src.utils_feature_engineering import FeatureEngineering"
   ]
  },
  {
   "cell_type": "code",
   "execution_count": 2,
   "id": "79e7a9595993a836",
   "metadata": {
    "ExecuteTime": {
     "end_time": "2024-08-18T20:22:04.258636Z",
     "start_time": "2024-08-18T20:22:04.249938Z"
    }
   },
   "outputs": [
    {
     "data": {
      "text/html": [
       "<style>.container {width:100% !important;}</style>"
      ],
      "text/plain": [
       "<IPython.core.display.HTML object>"
      ]
     },
     "metadata": {},
     "output_type": "display_data"
    }
   ],
   "source": [
    "def jupyter_settings():\n",
    "    \"\"\"\n",
    "    Plots pre settings.\n",
    "    \"\"\"\n",
    "\n",
    "    %matplotlib inline\n",
    "    plt.style.use(\"seaborn-v0_8-whitegrid\")\n",
    "    plt.rcParams[\"figure.figsize\"] = [25, 12]\n",
    "    plt.rcParams[\"font.size\"] = 24\n",
    "    display(HTML(\"<style>.container {width:100% !important;}</style>\"))\n",
    "    sns.set()\n",
    "\n",
    "\n",
    "jupyter_settings()\n",
    "\n",
    "seed = 42"
   ]
  },
  {
   "cell_type": "markdown",
   "id": "3c2fb0f70226b5b",
   "metadata": {},
   "source": [
    "### 0.3 Path"
   ]
  },
  {
   "cell_type": "code",
   "execution_count": 3,
   "id": "acb77a0b4f289eaa",
   "metadata": {
    "ExecuteTime": {
     "end_time": "2024-08-18T20:22:04.315868Z",
     "start_time": "2024-08-18T20:22:04.313954Z"
    }
   },
   "outputs": [],
   "source": [
    "# found the main project folders\n",
    "path = Path().resolve().parent\n",
    "data_path = path / \"data\"\n",
    "fig_path = path / \"pics\"\n",
    "reports_path = path / \"reports\""
   ]
  },
  {
   "cell_type": "markdown",
   "id": "4b21149ef752225e",
   "metadata": {},
   "source": [
    "### 0.4 Data\n",
    "\n",
    "This dataset is available [here](https://www.kaggle.com/mervetorkan/churndataset).\n",
    "\n",
    "\n",
    "**Data fields**\n",
    "\n",
    "- **RowNumber**: the number of the columns\n",
    "- **CustomerID**: unique identifier of clients\n",
    "- **Surname**: client's last name\n",
    "- **CreditScore**: clients credit score for the financial market\n",
    "- **Geography**: the country of the client\n",
    "- **Gender**: the gender of the client\n",
    "- **Age**: the client's age\n",
    "- **Tenure**: number of years the client is in the bank \n",
    "- **Balance**: the amount that the client has in their account \n",
    "- **NumOfProducts**: the number of products that the client bought \n",
    "- **HasCrCard**: if the client has a credit card \n",
    "- **IsActiveMember**: if the client is active (within the last 12 months) \n",
    "- **EstimateSalary**: estimate of annual salary of clients \n",
    "- **Exited**: if the client is a churn (*target variable*)"
   ]
  },
  {
   "cell_type": "code",
   "execution_count": 4,
   "id": "a31a1c92abc1c3cd",
   "metadata": {
    "ExecuteTime": {
     "end_time": "2024-08-18T20:22:04.353967Z",
     "start_time": "2024-08-18T20:22:04.322538Z"
    }
   },
   "outputs": [],
   "source": [
    "# Load data in duckdb\n",
    "conn_path = str(data_path / \"interim/churn.db\")\n",
    "conn = duckdb.connect(database=conn_path, read_only=False)\n",
    "query = conn.execute(\"SELECT * FROM churn\")\n",
    "df = pl.DataFrame(query.fetchdf())\n",
    "conn.close()"
   ]
  },
  {
   "cell_type": "markdown",
   "id": "7d718f7920a1cd85",
   "metadata": {},
   "source": [
    "## 1. Data Description"
   ]
  },
  {
   "cell_type": "code",
   "execution_count": 5,
   "id": "7a752e52ca469b7a",
   "metadata": {
    "ExecuteTime": {
     "end_time": "2024-08-18T20:22:04.367504Z",
     "start_time": "2024-08-18T20:22:04.362939Z"
    }
   },
   "outputs": [
    {
     "data": {
      "text/html": [
       "<div><style>\n",
       ".dataframe > thead > tr,\n",
       ".dataframe > tbody > tr {\n",
       "  text-align: right;\n",
       "  white-space: pre-wrap;\n",
       "}\n",
       "</style>\n",
       "<small>shape: (5, 14)</small><table border=\"1\" class=\"dataframe\"><thead><tr><th>row_number</th><th>customer_id</th><th>surname</th><th>credit_score</th><th>geography</th><th>gender</th><th>age</th><th>tenure</th><th>balance</th><th>num_of_products</th><th>has_cr_card</th><th>is_active_member</th><th>estimated_salary</th><th>exited</th></tr><tr><td>i64</td><td>i64</td><td>str</td><td>i64</td><td>str</td><td>str</td><td>i64</td><td>i64</td><td>f64</td><td>i64</td><td>i64</td><td>i64</td><td>f64</td><td>i64</td></tr></thead><tbody><tr><td>1</td><td>15634602</td><td>&quot;Hargrave&quot;</td><td>619</td><td>&quot;France&quot;</td><td>&quot;Female&quot;</td><td>42</td><td>2</td><td>0.0</td><td>1</td><td>1</td><td>1</td><td>101348.88</td><td>1</td></tr><tr><td>2</td><td>15647311</td><td>&quot;Hill&quot;</td><td>608</td><td>&quot;Spain&quot;</td><td>&quot;Female&quot;</td><td>41</td><td>1</td><td>83807.86</td><td>1</td><td>0</td><td>1</td><td>112542.58</td><td>0</td></tr><tr><td>3</td><td>15619304</td><td>&quot;Onio&quot;</td><td>502</td><td>&quot;France&quot;</td><td>&quot;Female&quot;</td><td>42</td><td>8</td><td>159660.8</td><td>3</td><td>1</td><td>0</td><td>113931.57</td><td>1</td></tr><tr><td>4</td><td>15701354</td><td>&quot;Boni&quot;</td><td>699</td><td>&quot;France&quot;</td><td>&quot;Female&quot;</td><td>39</td><td>1</td><td>0.0</td><td>2</td><td>0</td><td>0</td><td>93826.63</td><td>0</td></tr><tr><td>5</td><td>15737888</td><td>&quot;Mitchell&quot;</td><td>850</td><td>&quot;Spain&quot;</td><td>&quot;Female&quot;</td><td>43</td><td>2</td><td>125510.82</td><td>1</td><td>1</td><td>1</td><td>79084.1</td><td>0</td></tr></tbody></table></div>"
      ],
      "text/plain": [
       "shape: (5, 14)\n",
       "┌────────────┬────────────┬──────────┬────────────┬───┬───────────┬───────────┬───────────┬────────┐\n",
       "│ row_number ┆ customer_i ┆ surname  ┆ credit_sco ┆ … ┆ has_cr_ca ┆ is_active ┆ estimated ┆ exited │\n",
       "│ ---        ┆ d          ┆ ---      ┆ re         ┆   ┆ rd        ┆ _member   ┆ _salary   ┆ ---    │\n",
       "│ i64        ┆ ---        ┆ str      ┆ ---        ┆   ┆ ---       ┆ ---       ┆ ---       ┆ i64    │\n",
       "│            ┆ i64        ┆          ┆ i64        ┆   ┆ i64       ┆ i64       ┆ f64       ┆        │\n",
       "╞════════════╪════════════╪══════════╪════════════╪═══╪═══════════╪═══════════╪═══════════╪════════╡\n",
       "│ 1          ┆ 15634602   ┆ Hargrave ┆ 619        ┆ … ┆ 1         ┆ 1         ┆ 101348.88 ┆ 1      │\n",
       "│ 2          ┆ 15647311   ┆ Hill     ┆ 608        ┆ … ┆ 0         ┆ 1         ┆ 112542.58 ┆ 0      │\n",
       "│ 3          ┆ 15619304   ┆ Onio     ┆ 502        ┆ … ┆ 1         ┆ 0         ┆ 113931.57 ┆ 1      │\n",
       "│ 4          ┆ 15701354   ┆ Boni     ┆ 699        ┆ … ┆ 0         ┆ 0         ┆ 93826.63  ┆ 0      │\n",
       "│ 5          ┆ 15737888   ┆ Mitchell ┆ 850        ┆ … ┆ 1         ┆ 1         ┆ 79084.1   ┆ 0      │\n",
       "└────────────┴────────────┴──────────┴────────────┴───┴───────────┴───────────┴───────────┴────────┘"
      ]
     },
     "execution_count": 5,
     "metadata": {},
     "output_type": "execute_result"
    }
   ],
   "source": [
    "# class instance\n",
    "dd = DataDescription(df)\n",
    "\n",
    "dd.show_data()"
   ]
  },
  {
   "cell_type": "markdown",
   "id": "474e3d8f1545a774",
   "metadata": {},
   "source": [
    "### 1.1 Data Dimensions"
   ]
  },
  {
   "cell_type": "code",
   "execution_count": 6,
   "id": "a7aa3e48a91ede01",
   "metadata": {
    "ExecuteTime": {
     "end_time": "2024-08-18T20:22:04.414963Z",
     "start_time": "2024-08-18T20:22:04.412929Z"
    }
   },
   "outputs": [
    {
     "name": "stdout",
     "output_type": "stream",
     "text": [
      "Number of Rows: 10000\n",
      "Number of Columns: 14\n"
     ]
    }
   ],
   "source": [
    "dd.data_dimensions()"
   ]
  },
  {
   "cell_type": "markdown",
   "id": "b3f0972583cd54e3",
   "metadata": {},
   "source": [
    "### 1.2 Data Types"
   ]
  },
  {
   "cell_type": "code",
   "execution_count": 7,
   "id": "2f6b680557b5e7d9",
   "metadata": {
    "ExecuteTime": {
     "end_time": "2024-08-18T20:22:04.495804Z",
     "start_time": "2024-08-18T20:22:04.493569Z"
    }
   },
   "outputs": [
    {
     "data": {
      "text/plain": [
       "{'row_number': Int64,\n",
       " 'customer_id': Int64,\n",
       " 'surname': String,\n",
       " 'credit_score': Int64,\n",
       " 'geography': String,\n",
       " 'gender': String,\n",
       " 'age': Int64,\n",
       " 'tenure': Int64,\n",
       " 'balance': Float64,\n",
       " 'num_of_products': Int64,\n",
       " 'has_cr_card': Int64,\n",
       " 'is_active_member': Int64,\n",
       " 'estimated_salary': Float64,\n",
       " 'exited': Int64}"
      ]
     },
     "execution_count": 7,
     "metadata": {},
     "output_type": "execute_result"
    }
   ],
   "source": [
    "dd.data_types()"
   ]
  },
  {
   "cell_type": "markdown",
   "id": "27e50b681e6acc67",
   "metadata": {},
   "source": [
    "Some features are categorical but has some encoding technique.\n",
    "`is_active_member`, `exited` and `has_cr_card` should be strings."
   ]
  },
  {
   "cell_type": "code",
   "execution_count": 8,
   "id": "547549ea30ae22ed",
   "metadata": {
    "ExecuteTime": {
     "end_time": "2024-08-18T20:22:04.599785Z",
     "start_time": "2024-08-18T20:22:04.579039Z"
    }
   },
   "outputs": [],
   "source": [
    "df_col = df.with_columns(\n",
    "    [\n",
    "        pl.when(pl.col(col) == 1)\n",
    "        .then(pl.lit(\"yes\"))\n",
    "        .otherwise(pl.lit(\"no\"))\n",
    "        .alias(col)  # lit is a literal value\n",
    "        for col in [\"is_active_member\", \"exited\", \"has_cr_card\"]\n",
    "    ]\n",
    ")"
   ]
  },
  {
   "cell_type": "code",
   "execution_count": 9,
   "id": "f846ef37fe006aa6",
   "metadata": {
    "ExecuteTime": {
     "end_time": "2024-08-18T20:22:04.641687Z",
     "start_time": "2024-08-18T20:22:04.639058Z"
    }
   },
   "outputs": [],
   "source": [
    "dd = DataDescription(df_col)"
   ]
  },
  {
   "cell_type": "markdown",
   "id": "35b7ccf8a0c87a3f",
   "metadata": {},
   "source": [
    "### 1.3 Check NA"
   ]
  },
  {
   "cell_type": "code",
   "execution_count": 10,
   "id": "1489e8acb5319ca0",
   "metadata": {
    "ExecuteTime": {
     "end_time": "2024-08-18T20:22:04.984299Z",
     "start_time": "2024-08-18T20:22:04.971150Z"
    }
   },
   "outputs": [
    {
     "data": {
      "text/html": [
       "<div><style>\n",
       ".dataframe > thead > tr,\n",
       ".dataframe > tbody > tr {\n",
       "  text-align: right;\n",
       "  white-space: pre-wrap;\n",
       "}\n",
       "</style>\n",
       "<small>shape: (1, 14)</small><table border=\"1\" class=\"dataframe\"><thead><tr><th>row_number</th><th>customer_id</th><th>surname</th><th>credit_score</th><th>geography</th><th>gender</th><th>age</th><th>tenure</th><th>balance</th><th>num_of_products</th><th>has_cr_card</th><th>is_active_member</th><th>estimated_salary</th><th>exited</th></tr><tr><td>u32</td><td>u32</td><td>u32</td><td>u32</td><td>u32</td><td>u32</td><td>u32</td><td>u32</td><td>u32</td><td>u32</td><td>u32</td><td>u32</td><td>u32</td><td>u32</td></tr></thead><tbody><tr><td>0</td><td>0</td><td>0</td><td>0</td><td>0</td><td>0</td><td>0</td><td>0</td><td>0</td><td>0</td><td>0</td><td>0</td><td>0</td><td>0</td></tr></tbody></table></div>"
      ],
      "text/plain": [
       "shape: (1, 14)\n",
       "┌────────────┬────────────┬─────────┬────────────┬───┬────────────┬───────────┬───────────┬────────┐\n",
       "│ row_number ┆ customer_i ┆ surname ┆ credit_sco ┆ … ┆ has_cr_car ┆ is_active ┆ estimated ┆ exited │\n",
       "│ ---        ┆ d          ┆ ---     ┆ re         ┆   ┆ d          ┆ _member   ┆ _salary   ┆ ---    │\n",
       "│ u32        ┆ ---        ┆ u32     ┆ ---        ┆   ┆ ---        ┆ ---       ┆ ---       ┆ u32    │\n",
       "│            ┆ u32        ┆         ┆ u32        ┆   ┆ u32        ┆ u32       ┆ u32       ┆        │\n",
       "╞════════════╪════════════╪═════════╪════════════╪═══╪════════════╪═══════════╪═══════════╪════════╡\n",
       "│ 0          ┆ 0          ┆ 0       ┆ 0          ┆ … ┆ 0          ┆ 0         ┆ 0         ┆ 0      │\n",
       "└────────────┴────────────┴─────────┴────────────┴───┴────────────┴───────────┴───────────┴────────┘"
      ]
     },
     "execution_count": 10,
     "metadata": {},
     "output_type": "execute_result"
    }
   ],
   "source": [
    "dd.check_na()"
   ]
  },
  {
   "cell_type": "markdown",
   "id": "e0ff2f606849af9b",
   "metadata": {},
   "source": [
    "There's no NA in this dataset, however, there's a possibility that there are zeros in place of NAs."
   ]
  },
  {
   "cell_type": "code",
   "execution_count": 11,
   "id": "27a41cd1a18db352",
   "metadata": {
    "ExecuteTime": {
     "end_time": "2024-08-18T20:22:05.017254Z",
     "start_time": "2024-08-18T20:22:05.010105Z"
    }
   },
   "outputs": [
    {
     "data": {
      "text/html": [
       "<div><style>\n",
       ".dataframe > thead > tr,\n",
       ".dataframe > tbody > tr {\n",
       "  text-align: right;\n",
       "  white-space: pre-wrap;\n",
       "}\n",
       "</style>\n",
       "<small>shape: (5, 3)</small><table border=\"1\" class=\"dataframe\"><thead><tr><th>column</th><th>column_0</th><th>column_1</th></tr><tr><td>str</td><td>str</td><td>str</td></tr></thead><tbody><tr><td>&quot;credit_score&quot;</td><td>&quot;another_value&quot;</td><td>&quot;another_value&quot;</td></tr><tr><td>&quot;num_of_products&quot;</td><td>&quot;another_value&quot;</td><td>&quot;another_value&quot;</td></tr><tr><td>&quot;estimated_salary&quot;</td><td>&quot;another_value&quot;</td><td>&quot;another_value&quot;</td></tr><tr><td>&quot;balance&quot;</td><td>&quot;zero&quot;</td><td>&quot;another_value&quot;</td></tr><tr><td>&quot;age&quot;</td><td>&quot;another_value&quot;</td><td>&quot;another_value&quot;</td></tr></tbody></table></div>"
      ],
      "text/plain": [
       "shape: (5, 3)\n",
       "┌──────────────────┬───────────────┬───────────────┐\n",
       "│ column           ┆ column_0      ┆ column_1      │\n",
       "│ ---              ┆ ---           ┆ ---           │\n",
       "│ str              ┆ str           ┆ str           │\n",
       "╞══════════════════╪═══════════════╪═══════════════╡\n",
       "│ credit_score     ┆ another_value ┆ another_value │\n",
       "│ num_of_products  ┆ another_value ┆ another_value │\n",
       "│ estimated_salary ┆ another_value ┆ another_value │\n",
       "│ balance          ┆ zero          ┆ another_value │\n",
       "│ age              ┆ another_value ┆ another_value │\n",
       "└──────────────────┴───────────────┴───────────────┘"
      ]
     },
     "execution_count": 11,
     "metadata": {},
     "output_type": "execute_result"
    }
   ],
   "source": [
    "df_verify = df_col.select(\n",
    "    [\"credit_score\", \"num_of_products\", \"estimated_salary\", \"balance\", \"age\"]\n",
    ")\n",
    "\n",
    "# Verify if there are zeros in the dataset\n",
    "df_verify = df_verify.with_columns(\n",
    "    [\n",
    "        pl.when(pl.col(col) != 0)\n",
    "        .then(pl.lit(\"another_value\"))\n",
    "        .otherwise(pl.lit(\"zero\"))\n",
    "        .alias(col)\n",
    "        for col in df_verify.columns\n",
    "    ]\n",
    ")\n",
    "\n",
    "unique_values = df_verify.select(\n",
    "    [pl.col(col).unique().alias(col) for col in df_verify.columns]\n",
    ")\n",
    "unique_values.transpose(include_header=True)"
   ]
  },
  {
   "cell_type": "code",
   "execution_count": 12,
   "id": "c4e60f26f35b0901",
   "metadata": {
    "ExecuteTime": {
     "end_time": "2024-08-18T20:22:05.059687Z",
     "start_time": "2024-08-18T20:22:05.052849Z"
    }
   },
   "outputs": [
    {
     "data": {
      "text/html": [
       "<div><style>\n",
       ".dataframe > thead > tr,\n",
       ".dataframe > tbody > tr {\n",
       "  text-align: right;\n",
       "  white-space: pre-wrap;\n",
       "}\n",
       "</style>\n",
       "<small>shape: (2, 2)</small><table border=\"1\" class=\"dataframe\"><thead><tr><th>balance</th><th>count</th></tr><tr><td>str</td><td>u32</td></tr></thead><tbody><tr><td>&quot;another_value&quot;</td><td>6383</td></tr><tr><td>&quot;zero&quot;</td><td>3617</td></tr></tbody></table></div>"
      ],
      "text/plain": [
       "shape: (2, 2)\n",
       "┌───────────────┬───────┐\n",
       "│ balance       ┆ count │\n",
       "│ ---           ┆ ---   │\n",
       "│ str           ┆ u32   │\n",
       "╞═══════════════╪═══════╡\n",
       "│ another_value ┆ 6383  │\n",
       "│ zero          ┆ 3617  │\n",
       "└───────────────┴───────┘"
      ]
     },
     "execution_count": 12,
     "metadata": {},
     "output_type": "execute_result"
    }
   ],
   "source": [
    "df_verify[\"balance\"].value_counts()"
   ]
  },
  {
   "cell_type": "markdown",
   "id": "eccb297a589b0279",
   "metadata": {},
   "source": [
    "The balance columns has more than 1/3 of zero values, it doesn't mean that they're missing values but the DS team should get more information about this."
   ]
  },
  {
   "cell_type": "markdown",
   "id": "d4f5a9983edb8633",
   "metadata": {},
   "source": [
    "### 1.4 Descriptive Statistics"
   ]
  },
  {
   "cell_type": "markdown",
   "id": "7d1668d61bdb915f",
   "metadata": {},
   "source": [
    "#### 1.4.1 Numerical Features"
   ]
  },
  {
   "cell_type": "code",
   "execution_count": 13,
   "id": "35613c13b5d8ea70",
   "metadata": {
    "ExecuteTime": {
     "end_time": "2024-08-18T20:22:05.158985Z",
     "start_time": "2024-08-18T20:22:05.148976Z"
    }
   },
   "outputs": [
    {
     "data": {
      "text/html": [
       "<div><style>\n",
       ".dataframe > thead > tr,\n",
       ".dataframe > tbody > tr {\n",
       "  text-align: right;\n",
       "  white-space: pre-wrap;\n",
       "}\n",
       "</style>\n",
       "<small>shape: (7, 10)</small><table border=\"1\" class=\"dataframe\"><thead><tr><th>column</th><th>column_0</th><th>column_1</th><th>column_2</th><th>column_3</th><th>column_4</th><th>column_5</th><th>column_6</th><th>column_7</th><th>column_8</th></tr><tr><td>str</td><td>str</td><td>str</td><td>str</td><td>str</td><td>str</td><td>str</td><td>str</td><td>str</td><td>str</td></tr></thead><tbody><tr><td>&quot;statistic&quot;</td><td>&quot;count&quot;</td><td>&quot;null_count&quot;</td><td>&quot;mean&quot;</td><td>&quot;std&quot;</td><td>&quot;min&quot;</td><td>&quot;25%&quot;</td><td>&quot;50%&quot;</td><td>&quot;75%&quot;</td><td>&quot;max&quot;</td></tr><tr><td>&quot;credit_score&quot;</td><td>&quot;10000.0&quot;</td><td>&quot;0.0&quot;</td><td>&quot;650.5288&quot;</td><td>&quot;96.65329873613035&quot;</td><td>&quot;350.0&quot;</td><td>&quot;584.0&quot;</td><td>&quot;652.0&quot;</td><td>&quot;718.0&quot;</td><td>&quot;850.0&quot;</td></tr><tr><td>&quot;age&quot;</td><td>&quot;10000.0&quot;</td><td>&quot;0.0&quot;</td><td>&quot;38.9218&quot;</td><td>&quot;10.487806451704609&quot;</td><td>&quot;18.0&quot;</td><td>&quot;32.0&quot;</td><td>&quot;37.0&quot;</td><td>&quot;44.0&quot;</td><td>&quot;92.0&quot;</td></tr><tr><td>&quot;tenure&quot;</td><td>&quot;10000.0&quot;</td><td>&quot;0.0&quot;</td><td>&quot;5.0128&quot;</td><td>&quot;2.8921743770496837&quot;</td><td>&quot;0.0&quot;</td><td>&quot;3.0&quot;</td><td>&quot;5.0&quot;</td><td>&quot;7.0&quot;</td><td>&quot;10.0&quot;</td></tr><tr><td>&quot;balance&quot;</td><td>&quot;10000.0&quot;</td><td>&quot;0.0&quot;</td><td>&quot;76485.889288&quot;</td><td>&quot;62397.405202385955&quot;</td><td>&quot;0.0&quot;</td><td>&quot;0.0&quot;</td><td>&quot;97208.46&quot;</td><td>&quot;127642.44&quot;</td><td>&quot;250898.09&quot;</td></tr><tr><td>&quot;num_of_products&quot;</td><td>&quot;10000.0&quot;</td><td>&quot;0.0&quot;</td><td>&quot;1.5302&quot;</td><td>&quot;0.5816543579989906&quot;</td><td>&quot;1.0&quot;</td><td>&quot;1.0&quot;</td><td>&quot;1.0&quot;</td><td>&quot;2.0&quot;</td><td>&quot;4.0&quot;</td></tr><tr><td>&quot;estimated_salary&quot;</td><td>&quot;10000.0&quot;</td><td>&quot;0.0&quot;</td><td>&quot;100090.23988099999&quot;</td><td>&quot;57510.49281769816&quot;</td><td>&quot;11.58&quot;</td><td>&quot;51011.29&quot;</td><td>&quot;100200.4&quot;</td><td>&quot;149384.43&quot;</td><td>&quot;199992.48&quot;</td></tr></tbody></table></div>"
      ],
      "text/plain": [
       "shape: (7, 10)\n",
       "┌────────────┬──────────┬────────────┬───────────┬───┬──────────┬──────────┬───────────┬───────────┐\n",
       "│ column     ┆ column_0 ┆ column_1   ┆ column_2  ┆ … ┆ column_5 ┆ column_6 ┆ column_7  ┆ column_8  │\n",
       "│ ---        ┆ ---      ┆ ---        ┆ ---       ┆   ┆ ---      ┆ ---      ┆ ---       ┆ ---       │\n",
       "│ str        ┆ str      ┆ str        ┆ str       ┆   ┆ str      ┆ str      ┆ str       ┆ str       │\n",
       "╞════════════╪══════════╪════════════╪═══════════╪═══╪══════════╪══════════╪═══════════╪═══════════╡\n",
       "│ statistic  ┆ count    ┆ null_count ┆ mean      ┆ … ┆ 25%      ┆ 50%      ┆ 75%       ┆ max       │\n",
       "│ credit_sco ┆ 10000.0  ┆ 0.0        ┆ 650.5288  ┆ … ┆ 584.0    ┆ 652.0    ┆ 718.0     ┆ 850.0     │\n",
       "│ re         ┆          ┆            ┆           ┆   ┆          ┆          ┆           ┆           │\n",
       "│ age        ┆ 10000.0  ┆ 0.0        ┆ 38.9218   ┆ … ┆ 32.0     ┆ 37.0     ┆ 44.0      ┆ 92.0      │\n",
       "│ tenure     ┆ 10000.0  ┆ 0.0        ┆ 5.0128    ┆ … ┆ 3.0      ┆ 5.0      ┆ 7.0       ┆ 10.0      │\n",
       "│ balance    ┆ 10000.0  ┆ 0.0        ┆ 76485.889 ┆ … ┆ 0.0      ┆ 97208.46 ┆ 127642.44 ┆ 250898.09 │\n",
       "│            ┆          ┆            ┆ 288       ┆   ┆          ┆          ┆           ┆           │\n",
       "│ num_of_pro ┆ 10000.0  ┆ 0.0        ┆ 1.5302    ┆ … ┆ 1.0      ┆ 1.0      ┆ 2.0       ┆ 4.0       │\n",
       "│ ducts      ┆          ┆            ┆           ┆   ┆          ┆          ┆           ┆           │\n",
       "│ estimated_ ┆ 10000.0  ┆ 0.0        ┆ 100090.23 ┆ … ┆ 51011.29 ┆ 100200.4 ┆ 149384.43 ┆ 199992.48 │\n",
       "│ salary     ┆          ┆            ┆ 988099999 ┆   ┆          ┆          ┆           ┆           │\n",
       "└────────────┴──────────┴────────────┴───────────┴───┴──────────┴──────────┴───────────┴───────────┘"
      ]
     },
     "execution_count": 13,
     "metadata": {},
     "output_type": "execute_result"
    }
   ],
   "source": [
    "num_features = dd.select_numeric_features()\n",
    "num_features = num_features.drop([\"row_number\", \"customer_id\"])\n",
    "num_features.describe().transpose(include_header=True)"
   ]
  },
  {
   "cell_type": "code",
   "execution_count": 14,
   "id": "f60465d915b4540f",
   "metadata": {
    "ExecuteTime": {
     "end_time": "2024-08-18T20:22:05.307474Z",
     "start_time": "2024-08-18T20:22:05.290433Z"
    }
   },
   "outputs": [],
   "source": [
    "num_features_pandas = num_features.to_pandas()"
   ]
  },
  {
   "cell_type": "code",
   "execution_count": 15,
   "id": "a7b9fcdc8dee5fdc",
   "metadata": {
    "ExecuteTime": {
     "end_time": "2024-08-18T20:22:06.634123Z",
     "start_time": "2024-08-18T20:22:05.371180Z"
    }
   },
   "outputs": [
    {
     "data": {
      "image/png": "[encoded data removed]",
      "text/plain": [
       "<Figure size 1500x1000 with 6 Axes>"
      ]
     },
     "metadata": {},
     "output_type": "display_data"
    }
   ],
   "source": [
    "plot_features(num_features_pandas, plot_type=\"histplot\")"
   ]
  },
  {
   "cell_type": "code",
   "execution_count": 16,
   "id": "a3f4bd590f0a80ae",
   "metadata": {
    "ExecuteTime": {
     "end_time": "2024-08-18T20:22:07.177695Z",
     "start_time": "2024-08-18T20:22:06.860082Z"
    }
   },
   "outputs": [
    {
     "data": {
      "image/png": "[encoded data removed]",
      "text/plain": [
       "<Figure size 1500x1000 with 6 Axes>"
      ]
     },
     "metadata": {},
     "output_type": "display_data"
    }
   ],
   "source": [
    "plot_features(num_features_pandas, plot_type=\"boxplot\")"
   ]
  },
  {
   "cell_type": "markdown",
   "id": "8c253c4996905651",
   "metadata": {},
   "source": [
    "Negative outliers in `credit_score` and positive outliers in `num_of_products` and `age`"
   ]
  },
  {
   "cell_type": "markdown",
   "id": "d077c2d6c4108c92",
   "metadata": {},
   "source": [
    "#### 1.4.2 Categorical Features"
   ]
  },
  {
   "cell_type": "code",
   "execution_count": 17,
   "id": "9b07c1a408f8d316",
   "metadata": {
    "ExecuteTime": {
     "end_time": "2024-08-18T20:22:07.251692Z",
     "start_time": "2024-08-18T20:22:07.245772Z"
    }
   },
   "outputs": [],
   "source": [
    "cat_features = dd.select_categorical_features()\n",
    "cat_features = cat_features.to_pandas()"
   ]
  },
  {
   "cell_type": "code",
   "execution_count": 18,
   "id": "c2ddad2fca1b9972",
   "metadata": {
    "ExecuteTime": {
     "end_time": "2024-08-18T20:22:07.268449Z",
     "start_time": "2024-08-18T20:22:07.261187Z"
    }
   },
   "outputs": [
    {
     "data": {
      "text/html": [
       "<div>\n",
       "<style scoped>\n",
       "    .dataframe tbody tr th:only-of-type {\n",
       "        vertical-align: middle;\n",
       "    }\n",
       "\n",
       "    .dataframe tbody tr th {\n",
       "        vertical-align: top;\n",
       "    }\n",
       "\n",
       "    .dataframe thead th {\n",
       "        text-align: right;\n",
       "    }\n",
       "</style>\n",
       "<table border=\"1\" class=\"dataframe\">\n",
       "  <thead>\n",
       "    <tr style=\"text-align: right;\">\n",
       "      <th></th>\n",
       "      <th>absolute</th>\n",
       "      <th>percent %</th>\n",
       "    </tr>\n",
       "    <tr>\n",
       "      <th>is_active_member</th>\n",
       "      <th></th>\n",
       "      <th></th>\n",
       "    </tr>\n",
       "  </thead>\n",
       "  <tbody>\n",
       "    <tr>\n",
       "      <th>yes</th>\n",
       "      <td>5151</td>\n",
       "      <td>51.51</td>\n",
       "    </tr>\n",
       "    <tr>\n",
       "      <th>no</th>\n",
       "      <td>4849</td>\n",
       "      <td>48.49</td>\n",
       "    </tr>\n",
       "  </tbody>\n",
       "</table>\n",
       "</div>"
      ],
      "text/plain": [
       "                  absolute  percent %\n",
       "is_active_member                     \n",
       "yes                   5151      51.51\n",
       "no                    4849      48.49"
      ]
     },
     "execution_count": 18,
     "metadata": {},
     "output_type": "execute_result"
    }
   ],
   "source": [
    "categorical_metrics(cat_features, \"is_active_member\")"
   ]
  },
  {
   "cell_type": "code",
   "execution_count": 19,
   "id": "52ef77d5dd57979a",
   "metadata": {
    "ExecuteTime": {
     "end_time": "2024-08-18T20:22:07.298091Z",
     "start_time": "2024-08-18T20:22:07.292975Z"
    }
   },
   "outputs": [
    {
     "data": {
      "text/html": [
       "<div>\n",
       "<style scoped>\n",
       "    .dataframe tbody tr th:only-of-type {\n",
       "        vertical-align: middle;\n",
       "    }\n",
       "\n",
       "    .dataframe tbody tr th {\n",
       "        vertical-align: top;\n",
       "    }\n",
       "\n",
       "    .dataframe thead th {\n",
       "        text-align: right;\n",
       "    }\n",
       "</style>\n",
       "<table border=\"1\" class=\"dataframe\">\n",
       "  <thead>\n",
       "    <tr style=\"text-align: right;\">\n",
       "      <th></th>\n",
       "      <th>absolute</th>\n",
       "      <th>percent %</th>\n",
       "    </tr>\n",
       "    <tr>\n",
       "      <th>has_cr_card</th>\n",
       "      <th></th>\n",
       "      <th></th>\n",
       "    </tr>\n",
       "  </thead>\n",
       "  <tbody>\n",
       "    <tr>\n",
       "      <th>yes</th>\n",
       "      <td>7055</td>\n",
       "      <td>70.55</td>\n",
       "    </tr>\n",
       "    <tr>\n",
       "      <th>no</th>\n",
       "      <td>2945</td>\n",
       "      <td>29.45</td>\n",
       "    </tr>\n",
       "  </tbody>\n",
       "</table>\n",
       "</div>"
      ],
      "text/plain": [
       "             absolute  percent %\n",
       "has_cr_card                     \n",
       "yes              7055      70.55\n",
       "no               2945      29.45"
      ]
     },
     "execution_count": 19,
     "metadata": {},
     "output_type": "execute_result"
    }
   ],
   "source": [
    "categorical_metrics(cat_features, \"has_cr_card\")"
   ]
  },
  {
   "cell_type": "code",
   "execution_count": 20,
   "id": "78664f0832982cc",
   "metadata": {
    "ExecuteTime": {
     "end_time": "2024-08-18T20:22:07.332674Z",
     "start_time": "2024-08-18T20:22:07.327962Z"
    }
   },
   "outputs": [
    {
     "data": {
      "text/html": [
       "<div>\n",
       "<style scoped>\n",
       "    .dataframe tbody tr th:only-of-type {\n",
       "        vertical-align: middle;\n",
       "    }\n",
       "\n",
       "    .dataframe tbody tr th {\n",
       "        vertical-align: top;\n",
       "    }\n",
       "\n",
       "    .dataframe thead th {\n",
       "        text-align: right;\n",
       "    }\n",
       "</style>\n",
       "<table border=\"1\" class=\"dataframe\">\n",
       "  <thead>\n",
       "    <tr style=\"text-align: right;\">\n",
       "      <th></th>\n",
       "      <th>absolute</th>\n",
       "      <th>percent %</th>\n",
       "    </tr>\n",
       "    <tr>\n",
       "      <th>exited</th>\n",
       "      <th></th>\n",
       "      <th></th>\n",
       "    </tr>\n",
       "  </thead>\n",
       "  <tbody>\n",
       "    <tr>\n",
       "      <th>no</th>\n",
       "      <td>7963</td>\n",
       "      <td>79.63</td>\n",
       "    </tr>\n",
       "    <tr>\n",
       "      <th>yes</th>\n",
       "      <td>2037</td>\n",
       "      <td>20.37</td>\n",
       "    </tr>\n",
       "  </tbody>\n",
       "</table>\n",
       "</div>"
      ],
      "text/plain": [
       "        absolute  percent %\n",
       "exited                     \n",
       "no          7963      79.63\n",
       "yes         2037      20.37"
      ]
     },
     "execution_count": 20,
     "metadata": {},
     "output_type": "execute_result"
    }
   ],
   "source": [
    "categorical_metrics(cat_features, \"exited\")"
   ]
  },
  {
   "cell_type": "code",
   "execution_count": 21,
   "id": "f5d5acb86d5271bb",
   "metadata": {
    "ExecuteTime": {
     "end_time": "2024-08-18T20:22:07.445517Z",
     "start_time": "2024-08-18T20:22:07.439077Z"
    }
   },
   "outputs": [
    {
     "data": {
      "text/html": [
       "<div>\n",
       "<style scoped>\n",
       "    .dataframe tbody tr th:only-of-type {\n",
       "        vertical-align: middle;\n",
       "    }\n",
       "\n",
       "    .dataframe tbody tr th {\n",
       "        vertical-align: top;\n",
       "    }\n",
       "\n",
       "    .dataframe thead th {\n",
       "        text-align: right;\n",
       "    }\n",
       "</style>\n",
       "<table border=\"1\" class=\"dataframe\">\n",
       "  <thead>\n",
       "    <tr style=\"text-align: right;\">\n",
       "      <th></th>\n",
       "      <th>absolute</th>\n",
       "      <th>percent %</th>\n",
       "    </tr>\n",
       "    <tr>\n",
       "      <th>geography</th>\n",
       "      <th></th>\n",
       "      <th></th>\n",
       "    </tr>\n",
       "  </thead>\n",
       "  <tbody>\n",
       "    <tr>\n",
       "      <th>France</th>\n",
       "      <td>5014</td>\n",
       "      <td>50.14</td>\n",
       "    </tr>\n",
       "    <tr>\n",
       "      <th>Germany</th>\n",
       "      <td>2509</td>\n",
       "      <td>25.09</td>\n",
       "    </tr>\n",
       "    <tr>\n",
       "      <th>Spain</th>\n",
       "      <td>2477</td>\n",
       "      <td>24.77</td>\n",
       "    </tr>\n",
       "  </tbody>\n",
       "</table>\n",
       "</div>"
      ],
      "text/plain": [
       "           absolute  percent %\n",
       "geography                     \n",
       "France         5014      50.14\n",
       "Germany        2509      25.09\n",
       "Spain          2477      24.77"
      ]
     },
     "execution_count": 21,
     "metadata": {},
     "output_type": "execute_result"
    }
   ],
   "source": [
    "categorical_metrics(cat_features, \"geography\")"
   ]
  },
  {
   "cell_type": "code",
   "execution_count": 22,
   "id": "baa2b01a3854dfc6",
   "metadata": {
    "ExecuteTime": {
     "end_time": "2024-08-18T20:22:07.564763Z",
     "start_time": "2024-08-18T20:22:07.560196Z"
    }
   },
   "outputs": [
    {
     "data": {
      "text/html": [
       "<div>\n",
       "<style scoped>\n",
       "    .dataframe tbody tr th:only-of-type {\n",
       "        vertical-align: middle;\n",
       "    }\n",
       "\n",
       "    .dataframe tbody tr th {\n",
       "        vertical-align: top;\n",
       "    }\n",
       "\n",
       "    .dataframe thead th {\n",
       "        text-align: right;\n",
       "    }\n",
       "</style>\n",
       "<table border=\"1\" class=\"dataframe\">\n",
       "  <thead>\n",
       "    <tr style=\"text-align: right;\">\n",
       "      <th></th>\n",
       "      <th>absolute</th>\n",
       "      <th>percent %</th>\n",
       "    </tr>\n",
       "    <tr>\n",
       "      <th>gender</th>\n",
       "      <th></th>\n",
       "      <th></th>\n",
       "    </tr>\n",
       "  </thead>\n",
       "  <tbody>\n",
       "    <tr>\n",
       "      <th>Male</th>\n",
       "      <td>5457</td>\n",
       "      <td>54.57</td>\n",
       "    </tr>\n",
       "    <tr>\n",
       "      <th>Female</th>\n",
       "      <td>4543</td>\n",
       "      <td>45.43</td>\n",
       "    </tr>\n",
       "  </tbody>\n",
       "</table>\n",
       "</div>"
      ],
      "text/plain": [
       "        absolute  percent %\n",
       "gender                     \n",
       "Male        5457      54.57\n",
       "Female      4543      45.43"
      ]
     },
     "execution_count": 22,
     "metadata": {},
     "output_type": "execute_result"
    }
   ],
   "source": [
    "categorical_metrics(cat_features, \"gender\")"
   ]
  },
  {
   "cell_type": "markdown",
   "id": "252d9e0dabfa2bf2",
   "metadata": {},
   "source": [
    "Important information:\n",
    "- There are outliers in **credit_score, num_of_products and age**\n",
    "- The **churn ratio is 20.37%**;\n",
    "- **70.6%** of the members **has credit card**;\n",
    "- More than **50% of the clients** are **from France**"
   ]
  },
  {
   "cell_type": "markdown",
   "id": "5ab279dae8344add",
   "metadata": {},
   "source": [
    "## 2. Feature Engineering"
   ]
  },
  {
   "cell_type": "markdown",
   "id": "cda172132d381ae1",
   "metadata": {},
   "source": [
    "### 2.1 Create Features"
   ]
  },
  {
   "cell_type": "code",
   "execution_count": 23,
   "id": "a1037c031dfdf992",
   "metadata": {
    "ExecuteTime": {
     "end_time": "2024-08-18T20:22:07.677240Z",
     "start_time": "2024-08-18T20:22:07.641862Z"
    }
   },
   "outputs": [],
   "source": [
    "df = df.to_pandas()\n",
    "\n",
    "fe = FeatureEngineering(seed=seed)\n",
    "X_train, X_test, X_val, y_train, y_test, y_val, id_train, id_test, id_val = (\n",
    "    fe.transform(df)\n",
    ")"
   ]
  },
  {
   "cell_type": "markdown",
   "id": "872ed7df496ca39c",
   "metadata": {},
   "source": [
    "### 2.2 Check NA"
   ]
  },
  {
   "cell_type": "code",
   "execution_count": 24,
   "id": "7e1048ad3d1e0d33",
   "metadata": {
    "ExecuteTime": {
     "end_time": "2024-08-18T20:22:07.780190Z",
     "start_time": "2024-08-18T20:22:07.776171Z"
    }
   },
   "outputs": [
    {
     "name": "stderr",
     "output_type": "stream",
     "text": [
      "INFO - There are no NA values in any column.\n"
     ]
    }
   ],
   "source": [
    "fe.report_na(X_train)"
   ]
  },
  {
   "cell_type": "code",
   "execution_count": 25,
   "id": "969fc8ebc0c20680",
   "metadata": {
    "ExecuteTime": {
     "end_time": "2024-08-18T20:22:07.814291Z",
     "start_time": "2024-08-18T20:22:07.810177Z"
    }
   },
   "outputs": [
    {
     "name": "stderr",
     "output_type": "stream",
     "text": [
      "INFO - There are no NA values in any column.\n"
     ]
    }
   ],
   "source": [
    "fe.report_na(X_test)"
   ]
  },
  {
   "cell_type": "code",
   "execution_count": 26,
   "id": "245e6a7b11aacc65",
   "metadata": {
    "ExecuteTime": {
     "end_time": "2024-08-18T20:22:07.976671Z",
     "start_time": "2024-08-18T20:22:07.972919Z"
    }
   },
   "outputs": [
    {
     "name": "stderr",
     "output_type": "stream",
     "text": [
      "INFO - There are no NA values in any column.\n"
     ]
    }
   ],
   "source": [
    "fe.report_na(X_val)"
   ]
  },
  {
   "cell_type": "markdown",
   "id": "2bd987eb04f8e52d",
   "metadata": {},
   "source": [
    "### 2.3 Comparing Train, Test and Validation"
   ]
  },
  {
   "cell_type": "code",
   "execution_count": 27,
   "id": "f3cdf22a7cc72a30",
   "metadata": {
    "ExecuteTime": {
     "end_time": "2024-08-18T20:24:29.960631Z",
     "start_time": "2024-08-18T20:22:08.011100Z"
    }
   },
   "outputs": [
    {
     "data": {
      "application/vnd.jupyter.widget-view+json": {
       "model_id": "8f492eb3deea4894970416fdff9d3007",
       "version_major": 2,
       "version_minor": 0
      },
      "text/plain": [
       "Summarize dataset:   0%|          | 0/5 [00:00<?, ?it/s]"
      ]
     },
     "metadata": {},
     "output_type": "display_data"
    },
    {
     "data": {
      "application/vnd.jupyter.widget-view+json": {
       "model_id": "527f8ff3683b4ec68b6ca27b2485f9e6",
       "version_major": 2,
       "version_minor": 0
      },
      "text/plain": [
       "Summarize dataset:   0%|          | 0/5 [00:00<?, ?it/s]"
      ]
     },
     "metadata": {},
     "output_type": "display_data"
    },
    {
     "name": "stderr",
     "output_type": "stream",
     "text": [
      "WARNING - File already exists. It will be overwritten.\n"
     ]
    },
    {
     "data": {
      "application/vnd.jupyter.widget-view+json": {
       "model_id": "054be977f7c744abb8c22f6f35c42819",
       "version_major": 2,
       "version_minor": 0
      },
      "text/plain": [
       "Generate report structure:   0%|          | 0/1 [00:00<?, ?it/s]"
      ]
     },
     "metadata": {},
     "output_type": "display_data"
    },
    {
     "data": {
      "application/vnd.jupyter.widget-view+json": {
       "model_id": "5196660798fc4d939c19bfe34ecbc4d3",
       "version_major": 2,
       "version_minor": 0
      },
      "text/plain": [
       "Render HTML:   0%|          | 0/1 [00:00<?, ?it/s]"
      ]
     },
     "metadata": {},
     "output_type": "display_data"
    },
    {
     "data": {
      "application/vnd.jupyter.widget-view+json": {
       "model_id": "d9f733cc1c8e4167baf64b8bb7e6243d",
       "version_major": 2,
       "version_minor": 0
      },
      "text/plain": [
       "Export report to file:   0%|          | 0/1 [00:00<?, ?it/s]"
      ]
     },
     "metadata": {},
     "output_type": "display_data"
    },
    {
     "name": "stderr",
     "output_type": "stream",
     "text": [
      "INFO - Comparison report saved.\n"
     ]
    },
    {
     "data": {
      "application/vnd.jupyter.widget-view+json": {
       "model_id": "be906dd4135c40c586bf76a5e6315a38",
       "version_major": 2,
       "version_minor": 0
      },
      "text/plain": [
       "Summarize dataset:   0%|          | 0/5 [00:00<?, ?it/s]"
      ]
     },
     "metadata": {},
     "output_type": "display_data"
    },
    {
     "data": {
      "application/vnd.jupyter.widget-view+json": {
       "model_id": "8ba22d887a4b4a35a060a22ce37b8a5c",
       "version_major": 2,
       "version_minor": 0
      },
      "text/plain": [
       "Summarize dataset:   0%|          | 0/5 [00:00<?, ?it/s]"
      ]
     },
     "metadata": {},
     "output_type": "display_data"
    },
    {
     "name": "stderr",
     "output_type": "stream",
     "text": [
      "WARNING - File already exists. It will be overwritten.\n"
     ]
    },
    {
     "data": {
      "application/vnd.jupyter.widget-view+json": {
       "model_id": "01933ff9edc34f8dab91aef1bd3904d1",
       "version_major": 2,
       "version_minor": 0
      },
      "text/plain": [
       "Generate report structure:   0%|          | 0/1 [00:00<?, ?it/s]"
      ]
     },
     "metadata": {},
     "output_type": "display_data"
    },
    {
     "data": {
      "application/vnd.jupyter.widget-view+json": {
       "model_id": "2c58973c14e04bf3affeddf20ea5b594",
       "version_major": 2,
       "version_minor": 0
      },
      "text/plain": [
       "Render HTML:   0%|          | 0/1 [00:00<?, ?it/s]"
      ]
     },
     "metadata": {},
     "output_type": "display_data"
    },
    {
     "data": {
      "application/vnd.jupyter.widget-view+json": {
       "model_id": "b2e4bd1d555a48d3964e83f55d16b500",
       "version_major": 2,
       "version_minor": 0
      },
      "text/plain": [
       "Export report to file:   0%|          | 0/1 [00:00<?, ?it/s]"
      ]
     },
     "metadata": {},
     "output_type": "display_data"
    },
    {
     "name": "stderr",
     "output_type": "stream",
     "text": [
      "INFO - Comparison report saved.\n"
     ]
    },
    {
     "data": {
      "application/vnd.jupyter.widget-view+json": {
       "model_id": "b42e198af09d491b998f19f0f696d406",
       "version_major": 2,
       "version_minor": 0
      },
      "text/plain": [
       "Summarize dataset:   0%|          | 0/5 [00:00<?, ?it/s]"
      ]
     },
     "metadata": {},
     "output_type": "display_data"
    },
    {
     "data": {
      "application/vnd.jupyter.widget-view+json": {
       "model_id": "75731e994a824a8aa056413bd58fd017",
       "version_major": 2,
       "version_minor": 0
      },
      "text/plain": [
       "Summarize dataset:   0%|          | 0/5 [00:00<?, ?it/s]"
      ]
     },
     "metadata": {},
     "output_type": "display_data"
    },
    {
     "name": "stderr",
     "output_type": "stream",
     "text": [
      "WARNING - File already exists. It will be overwritten.\n"
     ]
    },
    {
     "data": {
      "application/vnd.jupyter.widget-view+json": {
       "model_id": "ea04fcd8bd7e4b858c76b99f7189c721",
       "version_major": 2,
       "version_minor": 0
      },
      "text/plain": [
       "Generate report structure:   0%|          | 0/1 [00:00<?, ?it/s]"
      ]
     },
     "metadata": {},
     "output_type": "display_data"
    },
    {
     "data": {
      "application/vnd.jupyter.widget-view+json": {
       "model_id": "ade814b0e3da472792417c85f47a53c9",
       "version_major": 2,
       "version_minor": 0
      },
      "text/plain": [
       "Render HTML:   0%|          | 0/1 [00:00<?, ?it/s]"
      ]
     },
     "metadata": {},
     "output_type": "display_data"
    },
    {
     "data": {
      "application/vnd.jupyter.widget-view+json": {
       "model_id": "6b8e50912e1d4f3383c38316a8c06448",
       "version_major": 2,
       "version_minor": 0
      },
      "text/plain": [
       "Export report to file:   0%|          | 0/1 [00:00<?, ?it/s]"
      ]
     },
     "metadata": {},
     "output_type": "display_data"
    },
    {
     "name": "stderr",
     "output_type": "stream",
     "text": [
      "INFO - Comparison report saved.\n"
     ]
    }
   ],
   "source": [
    "reports_path = str(reports_path)\n",
    "fe.get_comparative_reports(\n",
    "    X_train, X_test, (reports_path + \"/comp_report_train_test.html\")\n",
    ")\n",
    "fe.get_comparative_reports(\n",
    "    X_train, X_val, (reports_path + \"/comp_report_train_val.html\")\n",
    ")\n",
    "fe.get_comparative_reports(X_test, X_val, (reports_path + \"/comp_report_test_val.html\"))"
   ]
  },
  {
   "cell_type": "code",
   "execution_count": 28,
   "id": "b0c1623ae4a1743e",
   "metadata": {
    "ExecuteTime": {
     "end_time": "2024-08-18T20:24:30.053554Z",
     "start_time": "2024-08-18T20:24:30.000780Z"
    }
   },
   "outputs": [
    {
     "name": "stderr",
     "output_type": "stream",
     "text": [
      "WARNING - File already exists. It will be overwritten.\n",
      "INFO - Dataframe successfully saved as /Users/gutto/Repos/churn-ticket/data/processed/X_train.parquet\n",
      "WARNING - File already exists. It will be overwritten.\n",
      "INFO - Dataframe successfully saved as /Users/gutto/Repos/churn-ticket/data/processed/X_test.parquet\n",
      "WARNING - File already exists. It will be overwritten.\n",
      "INFO - Dataframe successfully saved as /Users/gutto/Repos/churn-ticket/data/processed/X_val.parquet\n",
      "WARNING - File already exists. It will be overwritten.\n",
      "INFO - Series successfully saved as /Users/gutto/Repos/churn-ticket/data/processed/y_train.pkl\n",
      "WARNING - File already exists. It will be overwritten.\n",
      "INFO - Series successfully saved as /Users/gutto/Repos/churn-ticket/data/processed/y_test.pkl\n",
      "WARNING - File already exists. It will be overwritten.\n",
      "INFO - Series successfully saved as /Users/gutto/Repos/churn-ticket/data/processed/y_val.pkl\n"
     ]
    }
   ],
   "source": [
    "data_path = str(data_path / \"processed\")\n",
    "fe.save_data(X_train, (data_path + \"/X_train.parquet\"))\n",
    "fe.save_data(X_test, (data_path + \"/X_test.parquet\"))\n",
    "fe.save_data(X_val, (data_path + \"/X_val.parquet\"))\n",
    "fe.save_data(y_train, (data_path + \"/y_train.pkl\"))\n",
    "fe.save_data(y_test, (data_path + \"/y_test.pkl\"))\n",
    "fe.save_data(y_val, (data_path + \"/y_val.pkl\"))"
   ]
  },
  {
   "cell_type": "code",
   "execution_count": null,
   "id": "ea1fee7304f3c79e",
   "metadata": {
    "ExecuteTime": {
     "end_time": "2024-08-18T20:24:30.072455Z",
     "start_time": "2024-08-18T20:24:30.071377Z"
    }
   },
   "outputs": [],
   "source": []
  }
 ],
 "metadata": {
  "kernelspec": {
   "display_name": "Python 3",
   "language": "python",
   "name": "python3"
  },
  "language_info": {
   "codemirror_mode": {
    "name": "ipython",
    "version": 2
   },
   "file_extension": ".py",
   "mimetype": "text/x-python",
   "name": "python",
   "nbconvert_exporter": "python",
   "pygments_lexer": "ipython2",
   "version": "2.7.6"
  }
 },
 "nbformat": 4,
 "nbformat_minor": 5
}
