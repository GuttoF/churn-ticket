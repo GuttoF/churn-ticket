{
 "cells": [
  {
   "cell_type": "markdown",
   "id": "c0bbc7b8df29ac87",
   "metadata": {},
   "source": [
    "# Client Churn Prediction\n",
    "### CRISP-DM Cycle 4\n",
    "---\n",
    "The Top Bank company operates in Europe with a bank account as the main product, this product can keep client's salary and make payments. This account doesn't have any cost in the first 12 months, however, after that time trial, the client needs to rehire the bank for upcoming 12 months and redo this process every year. Recently the Analytics Team noticed that the churn rate is increasing.\n",
    "\n",
    "As a Data Science Consultant, you need to create an action plan to decrease the number of churn customers and show the financial return on your solution.\n",
    "At the end of your consultancy, you need to deliver to the TopBottom CEO a model in production, which will receive a customer base via API and return that same base with an extra column with the probability of each customer going into churn.\n",
    "In addition, you will need to provide a report reporting your model's performance and the financial impact of your solution. Questions that the CEO and the Analytics team would like to see in their report:\n",
    "\n",
    "1.  What is Top Bank's current Churn rate?\n",
    "2.  How does the churn rate vary monthly?\n",
    "3.  What is the performance of the model in classifying customers as churns\n",
    "4.  What is the expected return, in terms of revenue, if the company uses its model to avoid churn from customers?\n",
    "\n",
    "> Disclaimer: This is a fictional bussiness case"
   ]
  },
  {
   "cell_type": "markdown",
   "id": "a2278ba4be70ee7f",
   "metadata": {},
   "source": "## 0. Preparation"
  },
  {
   "cell_type": "markdown",
   "id": "f750ed65402f14bf",
   "metadata": {},
   "source": "### 0.1 Planning"
  },
  {
   "cell_type": "markdown",
   "id": "23c2b4911cc2e16a",
   "metadata": {},
   "source": [
    "#### Input\n",
    "\n",
    "- Predict wheter customer will be in churn;\n",
    "- Dataset with sales records and customers info.\n",
    "\n",
    "#### Output\n",
    "\n",
    "- Which customer will be in churn;\n",
    "- Churn rate of the company;\n",
    "- Performance of the model;\n",
    "- Action plan\n",
    "\n",
    "\n",
    "#### Tasks\n",
    "\n",
    "1. Which customer will be in churn:\n",
    "    - What is the criterion?\n",
    "        - Downtime\n",
    "        - Time remaining until the contract ends\n",
    "\n",
    "\n",
    "2. Current churn rate of the company:\n",
    "    - Calculate churn rate\n",
    "    - Calculate monthly churn rate and variation\n",
    "\n",
    "3. Performance of the model:\n",
    "    - Precision at K score\n",
    "    - Recall at K score\n",
    "\n",
    "4. Action plan:\n",
    "    - Discount?\n",
    "    - Voucher?\n",
    "    - Deposit bonus?"
   ]
  },
  {
   "cell_type": "markdown",
   "id": "86c764e109a1e137",
   "metadata": {},
   "source": "### 0.2 Imports"
  },
  {
   "cell_type": "code",
   "id": "cb0e332e88cd304f",
   "metadata": {
    "ExecuteTime": {
     "end_time": "2024-08-17T19:32:48.906534Z",
     "start_time": "2024-08-17T19:32:48.902152Z"
    }
   },
   "source": [
    "import polars as pl\n",
    "from matplotlib import pyplot as plt\n",
    "import seaborn as sns\n",
    "from IPython.core.display import HTML, Image\n",
    "import optuna\n",
    "import duckdb\n",
    "from pathlib import Path\n"
   ],
   "outputs": [],
   "execution_count": 50
  },
  {
   "metadata": {},
   "cell_type": "markdown",
   "source": "### 0.3 Path",
   "id": "3c2fb0f70226b5b"
  },
  {
   "metadata": {
    "ExecuteTime": {
     "end_time": "2024-08-17T19:32:48.913984Z",
     "start_time": "2024-08-17T19:32:48.911620Z"
    }
   },
   "cell_type": "code",
   "source": [
    "# found the main project folders\n",
    "path = Path().resolve().parent\n",
    "data_path = path / \"data\"\n"
   ],
   "id": "acb77a0b4f289eaa",
   "outputs": [],
   "execution_count": 51
  },
  {
   "metadata": {
    "ExecuteTime": {
     "end_time": "2024-08-17T19:32:48.926475Z",
     "start_time": "2024-08-17T19:32:48.920477Z"
    }
   },
   "cell_type": "code",
   "source": [
    "def jupyter_settings():\n",
    "    \"\"\"\n",
    "    Plots pre settings.\n",
    "    \"\"\"\n",
    "\n",
    "    %matplotlib inline\n",
    "    plt.style.use(\"seaborn-v0_8-whitegrid\")\n",
    "    plt.rcParams[\"figure.figsize\"] = [25, 12]\n",
    "    plt.rcParams[\"font.size\"] = 24\n",
    "    display(HTML(\"<style>.container {width:100% !important;}</style>\"))\n",
    "    sns.set()\n",
    "\n",
    "\n",
    "jupyter_settings()\n",
    "\n",
    "sns.set_style(\"white\")\n",
    "\n",
    "# optuna\n",
    "optuna.logging.set_verbosity(optuna.logging.WARNING)\n",
    "\n",
    "# random state seed\n",
    "seed = 42"
   ],
   "id": "e191f7172fcce41b",
   "outputs": [
    {
     "data": {
      "text/plain": [
       "<IPython.core.display.HTML object>"
      ],
      "text/html": [
       "<style>.container {width:100% !important;}</style>"
      ]
     },
     "metadata": {},
     "output_type": "display_data"
    }
   ],
   "execution_count": 52
  },
  {
   "metadata": {},
   "cell_type": "markdown",
   "source": [
    "### 0.4 Data\n",
    "\n",
    "This dataset is avaliable [here](https://www.kaggle.com/mervetorkan/churndataset).\n",
    "\n",
    "\n",
    "**Data fields**\n",
    "\n",
    "- **RowNumber**: the number of the columns\n",
    "- **CustomerID**: unique identifier of clients\n",
    "- **Surname**: client's last name\n",
    "- **CreditScore**: clien'ts credit score for the financial market\n",
    "- **Geography**: the country of the client\n",
    "- **Gender**: the gender of the client\n",
    "- **Age**: the client's age\n",
    "- **Tenure**: number of years the client is in the bank \n",
    "- **Balance**: the amount that the client has in their account \n",
    "- **NumOfProducts**: the number of products that the client bought \n",
    "- **HasCrCard**: if the client has a credit card \n",
    "- **IsActiveMember**: if the client is active (within the last 12 months) \n",
    "- **EstimateSalary**: estimative of anual salary of clients \n",
    "- **Exited**: if the client is a churn (*target variable*)"
   ],
   "id": "4b21149ef752225e"
  },
  {
   "metadata": {
    "ExecuteTime": {
     "end_time": "2024-08-17T19:32:48.970605Z",
     "start_time": "2024-08-17T19:32:48.933045Z"
    }
   },
   "cell_type": "code",
   "source": [
    "# Load data in duckdb\n",
    "conn_path = str(data_path / \"interim/churn.db\")\n",
    "conn = duckdb.connect(database=conn_path, read_only=False)\n",
    "query = conn.execute(\"SELECT * FROM churn\")\n",
    "df = pl.DataFrame(query.fetchdf())"
   ],
   "id": "a31a1c92abc1c3cd",
   "outputs": [],
   "execution_count": 53
  },
  {
   "metadata": {},
   "cell_type": "markdown",
   "source": "## 1. Data Description",
   "id": "7d718f7920a1cd85"
  },
  {
   "metadata": {
    "ExecuteTime": {
     "end_time": "2024-08-17T19:33:42.332837Z",
     "start_time": "2024-08-17T19:33:42.324375Z"
    }
   },
   "cell_type": "code",
   "source": "df.head().transpose(include_header=True)",
   "id": "7a752e52ca469b7a",
   "outputs": [
    {
     "data": {
      "text/plain": [
       "shape: (14, 6)\n",
       "┌──────────────────┬───────────┬───────────┬───────────┬──────────┬──────────┐\n",
       "│ column           ┆ column_0  ┆ column_1  ┆ column_2  ┆ column_3 ┆ column_4 │\n",
       "│ ---              ┆ ---       ┆ ---       ┆ ---       ┆ ---      ┆ ---      │\n",
       "│ str              ┆ str       ┆ str       ┆ str       ┆ str      ┆ str      │\n",
       "╞══════════════════╪═══════════╪═══════════╪═══════════╪══════════╪══════════╡\n",
       "│ row_number       ┆ 1         ┆ 2         ┆ 3         ┆ 4        ┆ 5        │\n",
       "│ customer_id      ┆ 15634602  ┆ 15647311  ┆ 15619304  ┆ 15701354 ┆ 15737888 │\n",
       "│ surname          ┆ Hargrave  ┆ Hill      ┆ Onio      ┆ Boni     ┆ Mitchell │\n",
       "│ credit_score     ┆ 619       ┆ 608       ┆ 502       ┆ 699      ┆ 850      │\n",
       "│ geography        ┆ France    ┆ Spain     ┆ France    ┆ France   ┆ Spain    │\n",
       "│ …                ┆ …         ┆ …         ┆ …         ┆ …        ┆ …        │\n",
       "│ num_of_products  ┆ 1         ┆ 1         ┆ 3         ┆ 2        ┆ 1        │\n",
       "│ has_cr_card      ┆ 1         ┆ 0         ┆ 1         ┆ 0        ┆ 1        │\n",
       "│ is_active_member ┆ 1         ┆ 1         ┆ 0         ┆ 0        ┆ 1        │\n",
       "│ estimated_salary ┆ 101348.88 ┆ 112542.58 ┆ 113931.57 ┆ 93826.63 ┆ 79084.1  │\n",
       "│ exited           ┆ 1         ┆ 0         ┆ 1         ┆ 0        ┆ 0        │\n",
       "└──────────────────┴───────────┴───────────┴───────────┴──────────┴──────────┘"
      ],
      "text/html": [
       "<div><style>\n",
       ".dataframe > thead > tr,\n",
       ".dataframe > tbody > tr {\n",
       "  text-align: right;\n",
       "  white-space: pre-wrap;\n",
       "}\n",
       "</style>\n",
       "<small>shape: (14, 6)</small><table border=\"1\" class=\"dataframe\"><thead><tr><th>column</th><th>column_0</th><th>column_1</th><th>column_2</th><th>column_3</th><th>column_4</th></tr><tr><td>str</td><td>str</td><td>str</td><td>str</td><td>str</td><td>str</td></tr></thead><tbody><tr><td>&quot;row_number&quot;</td><td>&quot;1&quot;</td><td>&quot;2&quot;</td><td>&quot;3&quot;</td><td>&quot;4&quot;</td><td>&quot;5&quot;</td></tr><tr><td>&quot;customer_id&quot;</td><td>&quot;15634602&quot;</td><td>&quot;15647311&quot;</td><td>&quot;15619304&quot;</td><td>&quot;15701354&quot;</td><td>&quot;15737888&quot;</td></tr><tr><td>&quot;surname&quot;</td><td>&quot;Hargrave&quot;</td><td>&quot;Hill&quot;</td><td>&quot;Onio&quot;</td><td>&quot;Boni&quot;</td><td>&quot;Mitchell&quot;</td></tr><tr><td>&quot;credit_score&quot;</td><td>&quot;619&quot;</td><td>&quot;608&quot;</td><td>&quot;502&quot;</td><td>&quot;699&quot;</td><td>&quot;850&quot;</td></tr><tr><td>&quot;geography&quot;</td><td>&quot;France&quot;</td><td>&quot;Spain&quot;</td><td>&quot;France&quot;</td><td>&quot;France&quot;</td><td>&quot;Spain&quot;</td></tr><tr><td>&hellip;</td><td>&hellip;</td><td>&hellip;</td><td>&hellip;</td><td>&hellip;</td><td>&hellip;</td></tr><tr><td>&quot;num_of_products&quot;</td><td>&quot;1&quot;</td><td>&quot;1&quot;</td><td>&quot;3&quot;</td><td>&quot;2&quot;</td><td>&quot;1&quot;</td></tr><tr><td>&quot;has_cr_card&quot;</td><td>&quot;1&quot;</td><td>&quot;0&quot;</td><td>&quot;1&quot;</td><td>&quot;0&quot;</td><td>&quot;1&quot;</td></tr><tr><td>&quot;is_active_member&quot;</td><td>&quot;1&quot;</td><td>&quot;1&quot;</td><td>&quot;0&quot;</td><td>&quot;0&quot;</td><td>&quot;1&quot;</td></tr><tr><td>&quot;estimated_salary&quot;</td><td>&quot;101348.88&quot;</td><td>&quot;112542.58&quot;</td><td>&quot;113931.57&quot;</td><td>&quot;93826.63&quot;</td><td>&quot;79084.1&quot;</td></tr><tr><td>&quot;exited&quot;</td><td>&quot;1&quot;</td><td>&quot;0&quot;</td><td>&quot;1&quot;</td><td>&quot;0&quot;</td><td>&quot;0&quot;</td></tr></tbody></table></div>"
      ]
     },
     "execution_count": 56,
     "metadata": {},
     "output_type": "execute_result"
    }
   ],
   "execution_count": 56
  },
  {
   "metadata": {},
   "cell_type": "markdown",
   "source": "### 1.1 Data Dimensions",
   "id": "474e3d8f1545a774"
  },
  {
   "metadata": {
    "ExecuteTime": {
     "end_time": "2024-08-17T19:35:06.173015Z",
     "start_time": "2024-08-17T19:35:06.164513Z"
    }
   },
   "cell_type": "code",
   "source": "df.shape",
   "id": "a7aa3e48a91ede01",
   "outputs": [
    {
     "data": {
      "text/plain": [
       "(10000, 14)"
      ]
     },
     "execution_count": 57,
     "metadata": {},
     "output_type": "execute_result"
    }
   ],
   "execution_count": 57
  },
  {
   "metadata": {},
   "cell_type": "code",
   "outputs": [],
   "execution_count": null,
   "source": "",
   "id": "829a18a60949bbb8"
  }
 ],
 "metadata": {
  "kernelspec": {
   "display_name": "Python 3",
   "language": "python",
   "name": "python3"
  },
  "language_info": {
   "codemirror_mode": {
    "name": "ipython",
    "version": 2
   },
   "file_extension": ".py",
   "mimetype": "text/x-python",
   "name": "python",
   "nbconvert_exporter": "python",
   "pygments_lexer": "ipython2",
   "version": "2.7.6"
  }
 },
 "nbformat": 4,
 "nbformat_minor": 5
}
