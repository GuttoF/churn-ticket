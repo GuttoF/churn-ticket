{
 "cells": [
  {
   "cell_type": "markdown",
   "id": "c0bbc7b8df29ac87",
   "metadata": {},
   "source": [
    "# Client Churn Prediction\n",
    "### CRISP-DM Cycle 4\n",
    "---\n",
    "The Top Bank company operates in Europe with a bank account as the main product, this product can keep client's salary and make payments. This account doesn't have any cost in the first 12 months, however, after that time trial, the client needs to rehire the bank for upcoming 12 months and redo this process every year. Recently the Analytics Team noticed that the churn rate is increasing.\n",
    "\n",
    "As a Data Science Consultant, you need to create an action plan to decrease the number of churn customers and show the financial return on your solution.\n",
    "At the end of your consultancy, you need to deliver to the TopBottom CEO a model in production, which will receive a customer base via API and return that same base with an extra column with the probability of each customer going into churn.\n",
    "In addition, you will need to provide a report reporting your model's performance and the financial impact of your solution. Questions that the CEO and the Analytics team would like to see in their report:\n",
    "\n",
    "1.  What is Top Bank's current Churn rate?\n",
    "2.  How does the churn rate vary monthly?\n",
    "3.  What is the performance of the model in classifying customers as churns\n",
    "4.  What is the expected return, in terms of revenue, if the company uses its model to avoid churn from customers?\n",
    "\n",
    "> Disclaimer: This is a fictional business case"
   ]
  },
  {
   "cell_type": "markdown",
   "id": "a2278ba4be70ee7f",
   "metadata": {},
   "source": "## 0. Preparation"
  },
  {
   "cell_type": "markdown",
   "id": "86c764e109a1e137",
   "metadata": {},
   "source": "### 0.1 Imports & Settings"
  },
  {
   "cell_type": "code",
   "execution_count": 1,
   "id": "cb0e332e88cd304f",
   "metadata": {
    "ExecuteTime": {
     "end_time": "2024-08-18T23:14:30.572652Z",
     "start_time": "2024-08-18T23:14:30.332922Z"
    }
   },
   "outputs": [],
   "source": [
    "from IPython.core.display import HTML\n",
    "from pathlib import Path\n",
    "import pandas as pd\n",
    "from matplotlib import pyplot as plt\n",
    "import seaborn as sns\n",
    "import optuna\n",
    "import numpy as np\n",
    "from catboost import CatBoostClassifier\n"
   ]
  },
  {
   "cell_type": "code",
   "execution_count": 2,
   "id": "79e7a9595993a836",
   "metadata": {
    "ExecuteTime": {
     "end_time": "2024-08-18T23:14:30.613074Z",
     "start_time": "2024-08-18T23:14:30.603206Z"
    }
   },
   "outputs": [
    {
     "data": {
      "text/html": [
       "<style>.container {width:100% !important;}</style>"
      ],
      "text/plain": [
       "<IPython.core.display.HTML object>"
      ]
     },
     "metadata": {},
     "output_type": "display_data"
    }
   ],
   "source": [
    "def jupyter_settings():\n",
    "    \"\"\"\n",
    "    Plots pre settings.\n",
    "    \"\"\"\n",
    "\n",
    "    %matplotlib inline\n",
    "    plt.style.use(\"seaborn-v0_8-whitegrid\")\n",
    "    plt.rcParams[\"figure.figsize\"] = [25, 12]\n",
    "    plt.rcParams[\"font.size\"] = 24\n",
    "    display(HTML(\"<style>.container {width:100% !important;}</style>\"))\n",
    "    sns.set()\n",
    "\n",
    "\n",
    "jupyter_settings()\n",
    "\n",
    "seed = 42"
   ]
  },
  {
   "cell_type": "markdown",
   "id": "3c2fb0f70226b5b",
   "metadata": {},
   "source": "### 0.3 Path"
  },
  {
   "cell_type": "code",
   "execution_count": 3,
   "id": "acb77a0b4f289eaa",
   "metadata": {
    "ExecuteTime": {
     "end_time": "2024-08-18T23:14:30.626439Z",
     "start_time": "2024-08-18T23:14:30.623508Z"
    }
   },
   "outputs": [],
   "source": [
    "# found the main project folders\n",
    "path = Path().resolve().parent\n",
    "data_path = path / \"data/processed\""
   ]
  },
  {
   "cell_type": "markdown",
   "id": "4b21149ef752225e",
   "metadata": {},
   "source": [
    "### 0.4 Data\n",
    "\n",
    "This dataset is available [here](https://www.kaggle.com/mervetorkan/churndataset).\n",
    "\n",
    "\n",
    "**Data fields**\n",
    "\n",
    "- **RowNumber**: the number of the columns\n",
    "- **CustomerID**: unique identifier of clients\n",
    "- **Surname**: client's last name\n",
    "- **CreditScore**: clients credit score for the financial market\n",
    "- **Geography**: the country of the client\n",
    "- **Gender**: the gender of the client\n",
    "- **Age**: the client's age\n",
    "- **Tenure**: number of years the client is in the bank \n",
    "- **Balance**: the amount that the client has in their account \n",
    "- **NumOfProducts**: the number of products that the client bought \n",
    "- **HasCrCard**: if the client has a credit card \n",
    "- **IsActiveMember**: if the client is active (within the last 12 months) \n",
    "- **EstimateSalary**: estimate of annual salary of clients \n",
    "- **Exited**: if the client is a churn (*target variable*)"
   ]
  },
  {
   "cell_type": "code",
   "execution_count": 4,
   "id": "a31a1c92abc1c3cd",
   "metadata": {
    "ExecuteTime": {
     "end_time": "2024-08-18T23:14:30.822124Z",
     "start_time": "2024-08-18T23:14:30.720007Z"
    }
   },
   "outputs": [],
   "source": [
    "X_train = pd.read_parquet(data_path / \"X_train_fs.parquet\")\n",
    "X_test = pd.read_parquet(data_path / \"X_test_fs.parquet\")\n",
    "X_val = pd.read_parquet(data_path / \"X_val_fs.parquet\")\n",
    "y_train = pd.read_pickle(data_path / \"y_train.pkl\")\n",
    "y_test = pd.read_pickle(data_path / \"y_test.pkl\")\n",
    "y_val = pd.read_pickle(data_path / \"y_val.pkl\")"
   ]
  },
  {
   "cell_type": "markdown",
   "id": "ed455dcf6a6e4f16",
   "metadata": {},
   "source": "### 0.5 Optuna Trial"
  },
  {
   "cell_type": "code",
   "execution_count": 5,
   "id": "efd94ad3e5ac020f",
   "metadata": {
    "ExecuteTime": {
     "end_time": "2024-08-18T23:14:30.861576Z",
     "start_time": "2024-08-18T23:14:30.857111Z"
    }
   },
   "outputs": [],
   "source": [
    "from sklearn.metrics import recall_score, precision_score, f1_score\n",
    "from sklearn.model_selection import StratifiedKFold\n",
    "\n",
    "\n",
    "def catboost_objective(\n",
    "    trial: int,\n",
    "    X: pd.DataFrame,\n",
    "    y: pd.DataFrame,\n",
    "    weight: float,\n",
    "    threshold: float,\n",
    "    kfold: int = 5,\n",
    "    selected_score: str = \"recall\",\n",
    "):\n",
    "    \"\"\"Objective function for Optuna optimization.\n",
    "\n",
    "    Args:\n",
    "        trial (int): Number of trials.\n",
    "        X (dataframe): Dataframe with training data.\n",
    "        y (dataframe): Dataframe with target data.\n",
    "        weight (float): Scale pos weight.\n",
    "        threshold (float): Threshold for the model.\n",
    "        kfold (int): Number of folds.\n",
    "        selected_score (str): Selected score.\n",
    "\n",
    "    Returns:\n",
    "        int: Recall mean.\n",
    "    \"\"\"\n",
    "\n",
    "    # Catboost parameters\n",
    "    param_grid = {\n",
    "        \"learning_rate\": trial.suggest_float(\"learning_rate\", 0.01, 0.1),\n",
    "        \"depth\": trial.suggest_int(\"depth\", 3, 10),\n",
    "        \"n_estimators\": trial.suggest_int(\"n_estimators\", 100, 2000, step=100),\n",
    "    }\n",
    "\n",
    "    model = CatBoostClassifier(scale_pos_weight=weight, verbose=False, **param_grid)\n",
    "\n",
    "    # Stratified Kfold\n",
    "    folds = StratifiedKFold(n_splits=kfold)\n",
    "\n",
    "    # List of recalls for each fold\n",
    "    score_list = []\n",
    "\n",
    "    for train_cv, val_cv in folds.split(X, y):\n",
    "        # Split into train and validation\n",
    "        X_train_fold = X.iloc[train_cv]\n",
    "        y_train_fold = y.iloc[train_cv]\n",
    "        X_val_fold = X.iloc[val_cv]\n",
    "        y_val_fold = y.iloc[val_cv]\n",
    "\n",
    "        # Train the model\n",
    "        model.fit(X_train_fold, y_train_fold)\n",
    "\n",
    "        # Predict the validation fold\n",
    "        y_pred_val = model.predict_proba(X_val_fold)[:, 1]\n",
    "\n",
    "        if selected_score == \"recall\":\n",
    "            score_val = recall_score(y_val_fold, y_pred_val >= threshold)\n",
    "        elif selected_score == \"precision\":\n",
    "            score_val = precision_score(y_val_fold, y_pred_val >= threshold)\n",
    "        elif selected_score == \"f1\":\n",
    "            score_val = f1_score(y_val_fold, y_pred_val >= threshold)\n",
    "        else:\n",
    "            print(\"Please, select a valid score\")\n",
    "\n",
    "        # Add to the list\n",
    "        score_list.append(score_val)\n",
    "\n",
    "    mean_score = np.mean(score_list)\n",
    "\n",
    "    return mean_score"
   ]
  },
  {
   "cell_type": "markdown",
   "id": "7d718f7920a1cd85",
   "metadata": {},
   "source": "## 5. Hyperparameter Fine Tuning"
  },
  {
   "cell_type": "markdown",
   "id": "be1911635d1ca952",
   "metadata": {},
   "source": "### 5.1 Bayesian Search"
  },
  {
   "cell_type": "markdown",
   "id": "1f865a5ae95fd12c",
   "metadata": {},
   "source": "Bayesian Optimization provides a principled technique based on Bayes Theorem to direct a search of a global optimization problem that is efficient and effective. In this case, Optuna was used."
  },
  {
   "cell_type": "markdown",
   "id": "cc95dea78e89c696",
   "metadata": {},
   "source": "#### 5.1.1 Threshold 0.43"
  },
  {
   "cell_type": "code",
   "execution_count": 6,
   "id": "efff2a165095f0e",
   "metadata": {
    "ExecuteTime": {
     "end_time": "2024-08-18T23:14:30.867714Z",
     "start_time": "2024-08-18T23:14:30.865441Z"
    }
   },
   "outputs": [],
   "source": [
    "proportion = float(len(y_train[y_train == 0])) / len(y_train[y_train == 1])"
   ]
  },
  {
   "cell_type": "code",
   "execution_count": 7,
   "id": "924c28885ec2abb8",
   "metadata": {
    "ExecuteTime": {
     "end_time": "2024-08-18T23:21:26.422556Z",
     "start_time": "2024-08-18T23:14:30.883693Z"
    }
   },
   "outputs": [
    {
     "name": "stderr",
     "output_type": "stream",
     "text": [
      "[I 2024-08-18 20:14:30,884] A new study created in memory with name: no-name-b589822b-f509-4fd8-8e70-e35b9bf27c1a\n",
      "[I 2024-08-18 20:14:32,848] Trial 4 finished with value: 0.8050717703349282 and parameters: {'learning_rate': 0.0828846412106792, 'depth': 4, 'n_estimators': 100}. Best is trial 4 with value: 0.8050717703349282.\n",
      "[I 2024-08-18 20:14:36,356] Trial 8 finished with value: 0.8001693043798307 and parameters: {'learning_rate': 0.04820793668202971, 'depth': 3, 'n_estimators': 300}. Best is trial 4 with value: 0.8050717703349282.\n",
      "[I 2024-08-18 20:14:39,071] Trial 6 finished with value: 0.8064801864801865 and parameters: {'learning_rate': 0.019762640038526593, 'depth': 3, 'n_estimators': 700}. Best is trial 6 with value: 0.8064801864801865.\n",
      "[I 2024-08-18 20:14:40,800] Trial 1 finished with value: 0.7419506808980494 and parameters: {'learning_rate': 0.05409051977091841, 'depth': 5, 'n_estimators': 500}. Best is trial 6 with value: 0.8064801864801865.\n",
      "[I 2024-08-18 20:14:43,010] Trial 10 finished with value: 0.7840387682492945 and parameters: {'learning_rate': 0.05737530188064642, 'depth': 5, 'n_estimators': 200}. Best is trial 6 with value: 0.8064801864801865.\n",
      "[I 2024-08-18 20:14:47,818] Trial 5 finished with value: 0.7370384001962949 and parameters: {'learning_rate': 0.04639466847625514, 'depth': 4, 'n_estimators': 1100}. Best is trial 6 with value: 0.8064801864801865.\n",
      "[I 2024-08-18 20:14:57,325] Trial 13 finished with value: 0.8029640534903691 and parameters: {'learning_rate': 0.015095073651388215, 'depth': 7, 'n_estimators': 200}. Best is trial 6 with value: 0.8064801864801865.\n",
      "[I 2024-08-18 20:14:57,392] Trial 0 finished with value: 0.6115126978284873 and parameters: {'learning_rate': 0.09698647148919136, 'depth': 6, 'n_estimators': 900}. Best is trial 6 with value: 0.8064801864801865.\n",
      "[I 2024-08-18 20:15:00,400] Trial 15 finished with value: 0.7994626426205373 and parameters: {'learning_rate': 0.05164220785300217, 'depth': 6, 'n_estimators': 100}. Best is trial 6 with value: 0.8064801864801865.\n",
      "[I 2024-08-18 20:15:02,860] Trial 2 finished with value: 0.6458716721874616 and parameters: {'learning_rate': 0.06597219601687097, 'depth': 4, 'n_estimators': 2000}. Best is trial 6 with value: 0.8064801864801865.\n",
      "[I 2024-08-18 20:15:21,887] Trial 9 finished with value: 0.6556815114709853 and parameters: {'learning_rate': 0.035991166269778815, 'depth': 6, 'n_estimators': 1400}. Best is trial 6 with value: 0.8064801864801865.\n",
      "[I 2024-08-18 20:15:29,791] Trial 7 finished with value: 0.6325481536007852 and parameters: {'learning_rate': 0.03872485344705896, 'depth': 7, 'n_estimators': 1200}. Best is trial 6 with value: 0.8064801864801865.\n",
      "[I 2024-08-18 20:15:38,258] Trial 16 finished with value: 0.6479867500920132 and parameters: {'learning_rate': 0.0677897009441049, 'depth': 4, 'n_estimators': 2000}. Best is trial 6 with value: 0.8064801864801865.\n",
      "[I 2024-08-18 20:15:52,846] Trial 12 finished with value: 0.6479744816586922 and parameters: {'learning_rate': 0.04081183649055077, 'depth': 9, 'n_estimators': 500}. Best is trial 6 with value: 0.8064801864801865.\n",
      "[I 2024-08-18 20:16:04,754] Trial 21 finished with value: 0.7454594528278738 and parameters: {'learning_rate': 0.09108079320403875, 'depth': 3, 'n_estimators': 800}. Best is trial 6 with value: 0.8064801864801865.\n",
      "[I 2024-08-18 20:16:20,633] Trial 11 finished with value: 0.629032020610968 and parameters: {'learning_rate': 0.027496058144229715, 'depth': 7, 'n_estimators': 1900}. Best is trial 6 with value: 0.8064801864801865.\n",
      "[I 2024-08-18 20:17:00,919] Trial 14 finished with value: 0.5855674150410992 and parameters: {'learning_rate': 0.05046703143942735, 'depth': 8, 'n_estimators': 1400}. Best is trial 6 with value: 0.8064801864801865.\n",
      "[I 2024-08-18 20:17:03,431] Trial 3 finished with value: 0.6009986504723347 and parameters: {'learning_rate': 0.033192921505690684, 'depth': 8, 'n_estimators': 1800}. Best is trial 6 with value: 0.8064801864801865.\n",
      "[I 2024-08-18 20:17:13,466] Trial 25 finished with value: 0.7643945528156054 and parameters: {'learning_rate': 0.08267105936921484, 'depth': 3, 'n_estimators': 600}. Best is trial 6 with value: 0.8064801864801865.\n",
      "[I 2024-08-18 20:18:10,195] Trial 20 finished with value: 0.5694295178505705 and parameters: {'learning_rate': 0.09264839945136448, 'depth': 10, 'n_estimators': 600}. Best is trial 6 with value: 0.8064801864801865.\n",
      "[I 2024-08-18 20:18:16,360] Trial 18 finished with value: 0.568744939271255 and parameters: {'learning_rate': 0.08158125189319661, 'depth': 10, 'n_estimators': 700}. Best is trial 6 with value: 0.8064801864801865.\n",
      "[I 2024-08-18 20:18:24,696] Trial 28 finished with value: 0.811382652435284 and parameters: {'learning_rate': 0.01024757558337061, 'depth': 5, 'n_estimators': 300}. Best is trial 28 with value: 0.811382652435284.\n",
      "[I 2024-08-18 20:18:25,958] Trial 19 finished with value: 0.569434425223899 and parameters: {'learning_rate': 0.09545749163555807, 'depth': 10, 'n_estimators': 700}. Best is trial 28 with value: 0.811382652435284.\n",
      "[I 2024-08-18 20:18:35,401] Trial 30 finished with value: 0.8092749355907249 and parameters: {'learning_rate': 0.01367435323777037, 'depth': 5, 'n_estimators': 300}. Best is trial 28 with value: 0.811382652435284.\n",
      "[I 2024-08-18 20:18:36,654] Trial 27 finished with value: 0.7882394798184272 and parameters: {'learning_rate': 0.013413791438041181, 'depth': 5, 'n_estimators': 900}. Best is trial 28 with value: 0.811382652435284.\n",
      "[I 2024-08-18 20:18:36,820] Trial 29 finished with value: 0.8050742240215925 and parameters: {'learning_rate': 0.014327036527364717, 'depth': 5, 'n_estimators': 400}. Best is trial 28 with value: 0.811382652435284.\n",
      "[I 2024-08-18 20:18:42,379] Trial 22 finished with value: 0.7026892405839774 and parameters: {'learning_rate': 0.012870569967306705, 'depth': 10, 'n_estimators': 600}. Best is trial 28 with value: 0.811382652435284.\n",
      "[I 2024-08-18 20:18:43,825] Trial 31 finished with value: 0.8169844190896823 and parameters: {'learning_rate': 0.010419041976940002, 'depth': 5, 'n_estimators': 300}. Best is trial 31 with value: 0.8169844190896823.\n",
      "[I 2024-08-18 20:18:45,369] Trial 33 finished with value: 0.8029640534903691 and parameters: {'learning_rate': 0.02228470574713278, 'depth': 4, 'n_estimators': 400}. Best is trial 31 with value: 0.8169844190896823.\n",
      "[I 2024-08-18 20:18:47,668] Trial 32 finished with value: 0.7973549257759783 and parameters: {'learning_rate': 0.021215323030837785, 'depth': 5, 'n_estimators': 400}. Best is trial 31 with value: 0.8169844190896823.\n",
      "[I 2024-08-18 20:18:51,208] Trial 34 finished with value: 0.8022672064777329 and parameters: {'learning_rate': 0.022337605446652177, 'depth': 4, 'n_estimators': 400}. Best is trial 31 with value: 0.8169844190896823.\n",
      "[I 2024-08-18 20:18:52,747] Trial 35 finished with value: 0.8057588026009078 and parameters: {'learning_rate': 0.02324590273839431, 'depth': 5, 'n_estimators': 300}. Best is trial 31 with value: 0.8169844190896823.\n",
      "[I 2024-08-18 20:18:57,455] Trial 36 finished with value: 0.7847282542019384 and parameters: {'learning_rate': 0.02731235364918434, 'depth': 6, 'n_estimators': 300}. Best is trial 31 with value: 0.8169844190896823.\n",
      "[I 2024-08-18 20:18:57,844] Trial 23 finished with value: 0.5729407434670593 and parameters: {'learning_rate': 0.08148858378558413, 'depth': 10, 'n_estimators': 600}. Best is trial 31 with value: 0.8169844190896823.\n",
      "[I 2024-08-18 20:18:59,128] Trial 38 finished with value: 0.8148914243651086 and parameters: {'learning_rate': 0.010570735163676678, 'depth': 6, 'n_estimators': 200}. Best is trial 31 with value: 0.8169844190896823.\n",
      "[I 2024-08-18 20:18:59,218] Trial 40 finished with value: 0.8464581033002085 and parameters: {'learning_rate': 0.010732547330507854, 'depth': 3, 'n_estimators': 100}. Best is trial 40 with value: 0.8464581033002085.\n",
      "[I 2024-08-18 20:18:59,592] Trial 37 finished with value: 0.7889314194577353 and parameters: {'learning_rate': 0.030231218603205136, 'depth': 6, 'n_estimators': 300}. Best is trial 40 with value: 0.8464581033002085.\n",
      "[I 2024-08-18 20:19:03,666] Trial 43 finished with value: 0.8085756348914244 and parameters: {'learning_rate': 0.028909290818945728, 'depth': 6, 'n_estimators': 100}. Best is trial 40 with value: 0.8464581033002085.\n",
      "[I 2024-08-18 20:19:03,689] Trial 42 finished with value: 0.8113728376886271 and parameters: {'learning_rate': 0.031183718240130522, 'depth': 6, 'n_estimators': 100}. Best is trial 40 with value: 0.8464581033002085.\n",
      "[I 2024-08-18 20:19:10,348] Trial 44 finished with value: 0.8359244264507423 and parameters: {'learning_rate': 0.010208587082183012, 'depth': 8, 'n_estimators': 100}. Best is trial 40 with value: 0.8464581033002085.\n",
      "[I 2024-08-18 20:19:15,143] Trial 45 finished with value: 0.8338191632928476 and parameters: {'learning_rate': 0.01016254401799782, 'depth': 8, 'n_estimators': 100}. Best is trial 40 with value: 0.8464581033002085.\n",
      "[I 2024-08-18 20:19:15,195] Trial 41 finished with value: 0.8141847626058152 and parameters: {'learning_rate': 0.010307417540336886, 'depth': 3, 'n_estimators': 900}. Best is trial 40 with value: 0.8464581033002085.\n",
      "[I 2024-08-18 20:19:25,695] Trial 46 finished with value: 0.7910366826156301 and parameters: {'learning_rate': 0.017149467027543386, 'depth': 8, 'n_estimators': 200}. Best is trial 40 with value: 0.8464581033002085.\n",
      "[I 2024-08-18 20:19:30,720] Trial 39 finished with value: 0.7833222917433444 and parameters: {'learning_rate': 0.010139809231919776, 'depth': 6, 'n_estimators': 900}. Best is trial 40 with value: 0.8464581033002085.\n",
      "[I 2024-08-18 20:19:31,715] Trial 47 finished with value: 0.786831063673169 and parameters: {'learning_rate': 0.017980172926153237, 'depth': 8, 'n_estimators': 200}. Best is trial 40 with value: 0.8464581033002085.\n",
      "[I 2024-08-18 20:19:35,418] Trial 48 finished with value: 0.7861317629738682 and parameters: {'learning_rate': 0.017791248598594777, 'depth': 8, 'n_estimators': 200}. Best is trial 40 with value: 0.8464581033002085.\n",
      "[I 2024-08-18 20:19:35,460] Trial 49 finished with value: 0.786831063673169 and parameters: {'learning_rate': 0.01797809447726458, 'depth': 8, 'n_estimators': 200}. Best is trial 40 with value: 0.8464581033002085.\n",
      "[I 2024-08-18 20:19:41,732] Trial 50 finished with value: 0.8008612440191388 and parameters: {'learning_rate': 0.017690200982541156, 'depth': 9, 'n_estimators': 100}. Best is trial 40 with value: 0.8464581033002085.\n",
      "[I 2024-08-18 20:19:45,200] Trial 24 finished with value: 0.5673438841859895 and parameters: {'learning_rate': 0.08125789950538101, 'depth': 10, 'n_estimators': 600}. Best is trial 40 with value: 0.8464581033002085.\n",
      "[I 2024-08-18 20:19:46,880] Trial 51 finished with value: 0.8001570359465097 and parameters: {'learning_rate': 0.018578006646269636, 'depth': 9, 'n_estimators': 100}. Best is trial 40 with value: 0.8464581033002085.\n",
      "[I 2024-08-18 20:19:47,939] Trial 52 finished with value: 0.7875254569991412 and parameters: {'learning_rate': 0.024953974372322572, 'depth': 9, 'n_estimators': 100}. Best is trial 40 with value: 0.8464581033002085.\n",
      "[I 2024-08-18 20:19:51,442] Trial 54 finished with value: 0.7636977058029689 and parameters: {'learning_rate': 0.043373356559251855, 'depth': 9, 'n_estimators': 100}. Best is trial 40 with value: 0.8464581033002085.\n",
      "[I 2024-08-18 20:19:51,588] Trial 53 finished with value: 0.7749135075450866 and parameters: {'learning_rate': 0.034872974471159335, 'depth': 9, 'n_estimators': 100}. Best is trial 40 with value: 0.8464581033002085.\n",
      "[I 2024-08-18 20:20:39,492] Trial 26 finished with value: 0.6683130904183536 and parameters: {'learning_rate': 0.014875153251647701, 'depth': 10, 'n_estimators': 800}. Best is trial 40 with value: 0.8464581033002085.\n",
      "[I 2024-08-18 20:20:43,513] Trial 17 finished with value: 0.6374604343025395 and parameters: {'learning_rate': 0.01187903732621616, 'depth': 10, 'n_estimators': 1400}. Best is trial 40 with value: 0.8464581033002085.\n",
      "[I 2024-08-18 20:20:58,546] Trial 60 finished with value: 0.7433566433566433 and parameters: {'learning_rate': 0.01035051662992804, 'depth': 7, 'n_estimators': 1300}. Best is trial 40 with value: 0.8464581033002085.\n",
      "[I 2024-08-18 20:20:58,725] Trial 59 finished with value: 0.7349306833517361 and parameters: {'learning_rate': 0.011581531762419172, 'depth': 7, 'n_estimators': 1300}. Best is trial 40 with value: 0.8464581033002085.\n",
      "[I 2024-08-18 20:21:04,323] Trial 57 finished with value: 0.608698319224635 and parameters: {'learning_rate': 0.04297572755267473, 'depth': 7, 'n_estimators': 1500}. Best is trial 40 with value: 0.8464581033002085.\n",
      "[I 2024-08-18 20:21:07,830] Trial 56 finished with value: 0.6423579928843087 and parameters: {'learning_rate': 0.024771122738500507, 'depth': 7, 'n_estimators': 1600}. Best is trial 40 with value: 0.8464581033002085.\n",
      "[I 2024-08-18 20:21:09,537] Trial 55 finished with value: 0.6087032265979635 and parameters: {'learning_rate': 0.03563652747030778, 'depth': 7, 'n_estimators': 1700}. Best is trial 40 with value: 0.8464581033002085.\n",
      "[I 2024-08-18 20:21:09,850] Trial 58 finished with value: 0.7293264630106735 and parameters: {'learning_rate': 0.01004557173458112, 'depth': 7, 'n_estimators': 1600}. Best is trial 40 with value: 0.8464581033002085.\n",
      "[I 2024-08-18 20:21:11,155] Trial 65 finished with value: 0.7889485952643847 and parameters: {'learning_rate': 0.06152643858429131, 'depth': 3, 'n_estimators': 500}. Best is trial 40 with value: 0.8464581033002085.\n",
      "[I 2024-08-18 20:21:12,425] Trial 67 finished with value: 0.8015703594650964 and parameters: {'learning_rate': 0.06699746126895456, 'depth': 3, 'n_estimators': 200}. Best is trial 40 with value: 0.8464581033002085.\n",
      "[I 2024-08-18 20:21:13,485] Trial 64 finished with value: 0.7875426328057907 and parameters: {'learning_rate': 0.025718121324737366, 'depth': 3, 'n_estimators': 1100}. Best is trial 40 with value: 0.8464581033002085.\n",
      "[I 2024-08-18 20:21:13,486] Trial 63 finished with value: 0.7566777082566556 and parameters: {'learning_rate': 0.06264956303096623, 'depth': 3, 'n_estimators': 1100}. Best is trial 40 with value: 0.8464581033002085.\n",
      "[I 2024-08-18 20:21:14,321] Trial 66 finished with value: 0.8141847626058152 and parameters: {'learning_rate': 0.015275178089383036, 'depth': 3, 'n_estimators': 500}. Best is trial 40 with value: 0.8464581033002085.\n",
      "[I 2024-08-18 20:21:15,763] Trial 68 finished with value: 0.7910538584222795 and parameters: {'learning_rate': 0.06171447663067643, 'depth': 3, 'n_estimators': 500}. Best is trial 40 with value: 0.8464581033002085.\n",
      "[I 2024-08-18 20:21:23,218] Trial 69 finished with value: 0.7896528033370138 and parameters: {'learning_rate': 0.015994049931412423, 'depth': 4, 'n_estimators': 1100}. Best is trial 40 with value: 0.8464581033002085.\n",
      "[I 2024-08-18 20:21:23,272] Trial 62 finished with value: 0.7552791068580543 and parameters: {'learning_rate': 0.010469591133529745, 'depth': 7, 'n_estimators': 1100}. Best is trial 40 with value: 0.8464581033002085.\n",
      "[I 2024-08-18 20:21:26,416] Trial 61 finished with value: 0.732131026867869 and parameters: {'learning_rate': 0.010381866287212651, 'depth': 7, 'n_estimators': 1400}. Best is trial 40 with value: 0.8464581033002085.\n"
     ]
    },
    {
     "data": {
      "text/plain": [
       "{'learning_rate': 0.010732547330507854, 'depth': 3, 'n_estimators': 100}"
      ]
     },
     "execution_count": 7,
     "metadata": {},
     "output_type": "execute_result"
    }
   ],
   "source": [
    "cb_study = optuna.create_study(direction=\"maximize\")\n",
    "\n",
    "func = lambda trial: catboost_objective(trial, X_train, y_train, proportion, 0.43)\n",
    "\n",
    "cb_study.optimize(func, n_trials=70, n_jobs=-1)\n",
    "cb_best_params = cb_study.best_params\n",
    "\n",
    "cb_best_params"
   ]
  },
  {
   "cell_type": "code",
   "execution_count": 8,
   "id": "78609db884ec43c",
   "metadata": {
    "ExecuteTime": {
     "end_time": "2024-08-18T23:49:47.123933Z",
     "start_time": "2024-08-18T23:21:26.511857Z"
    }
   },
   "outputs": [
    {
     "name": "stderr",
     "output_type": "stream",
     "text": [
      "[I 2024-08-18 20:21:26,513] A new study created in memory with name: no-name-8eb10120-1c54-49b5-87f5-87f7d28d42d4\n",
      "[I 2024-08-18 20:21:28,360] Trial 4 finished with value: 0.4475268258063281 and parameters: {'learning_rate': 0.06759275692624069, 'depth': 4, 'n_estimators': 100}. Best is trial 4 with value: 0.4475268258063281.\n",
      "[I 2024-08-18 20:21:38,434] Trial 5 finished with value: 0.5082858799418871 and parameters: {'learning_rate': 0.06877353651313951, 'depth': 4, 'n_estimators': 700}. Best is trial 5 with value: 0.5082858799418871.\n",
      "[I 2024-08-18 20:21:44,694] Trial 3 finished with value: 0.47323645983911905 and parameters: {'learning_rate': 0.022507495336396663, 'depth': 3, 'n_estimators': 1300}. Best is trial 5 with value: 0.5082858799418871.\n",
      "[I 2024-08-18 20:21:47,061] Trial 6 finished with value: 0.5087661938676742 and parameters: {'learning_rate': 0.03400272539490122, 'depth': 5, 'n_estimators': 900}. Best is trial 6 with value: 0.5087661938676742.\n",
      "[I 2024-08-18 20:21:49,946] Trial 11 finished with value: 0.4338513239136287 and parameters: {'learning_rate': 0.024965215557081054, 'depth': 3, 'n_estimators': 200}. Best is trial 6 with value: 0.5087661938676742.\n",
      "[I 2024-08-18 20:22:08,180] Trial 10 finished with value: 0.4987662978406221 and parameters: {'learning_rate': 0.051706188049578376, 'depth': 3, 'n_estimators': 1600}. Best is trial 6 with value: 0.5087661938676742.\n",
      "[I 2024-08-18 20:22:08,941] Trial 1 finished with value: 0.5180727275420395 and parameters: {'learning_rate': 0.01886480356247492, 'depth': 6, 'n_estimators': 1300}. Best is trial 1 with value: 0.5180727275420395.\n",
      "[I 2024-08-18 20:22:21,998] Trial 13 finished with value: 0.47519984642163926 and parameters: {'learning_rate': 0.041645167167329564, 'depth': 9, 'n_estimators': 100}. Best is trial 1 with value: 0.5180727275420395.\n",
      "[I 2024-08-18 20:22:25,185] Trial 8 finished with value: 0.5881880984461023 and parameters: {'learning_rate': 0.0681034300026611, 'depth': 6, 'n_estimators': 1700}. Best is trial 8 with value: 0.5881880984461023.\n",
      "[I 2024-08-18 20:22:27,239] Trial 9 finished with value: 0.6011806560225834 and parameters: {'learning_rate': 0.08788357384443003, 'depth': 8, 'n_estimators': 600}. Best is trial 9 with value: 0.6011806560225834.\n",
      "[I 2024-08-18 20:22:30,432] Trial 2 finished with value: 0.6005551577262894 and parameters: {'learning_rate': 0.06679206506906614, 'depth': 6, 'n_estimators': 1900}. Best is trial 9 with value: 0.6011806560225834.\n",
      "[I 2024-08-18 20:22:32,437] Trial 7 finished with value: 0.5687561005582034 and parameters: {'learning_rate': 0.036013952194122546, 'depth': 7, 'n_estimators': 1300}. Best is trial 9 with value: 0.6011806560225834.\n",
      "[I 2024-08-18 20:22:35,261] Trial 14 finished with value: 0.5066168697924721 and parameters: {'learning_rate': 0.05130731395325574, 'depth': 3, 'n_estimators': 1700}. Best is trial 9 with value: 0.6011806560225834.\n",
      "[I 2024-08-18 20:22:39,816] Trial 15 finished with value: 0.49715437202721136 and parameters: {'learning_rate': 0.052019439956106, 'depth': 8, 'n_estimators': 200}. Best is trial 9 with value: 0.6011806560225834.\n",
      "[I 2024-08-18 20:23:29,443] Trial 19 finished with value: 0.6037073744953617 and parameters: {'learning_rate': 0.09247708533845515, 'depth': 8, 'n_estimators': 600}. Best is trial 19 with value: 0.6037073744953617.\n",
      "[I 2024-08-18 20:24:54,929] Trial 17 finished with value: 0.6234215242905404 and parameters: {'learning_rate': 0.09522075071985041, 'depth': 10, 'n_estimators': 600}. Best is trial 17 with value: 0.6234215242905404.\n",
      "[I 2024-08-18 20:25:09,491] Trial 21 finished with value: 0.6274452914659472 and parameters: {'learning_rate': 0.09605977927848333, 'depth': 10, 'n_estimators': 600}. Best is trial 21 with value: 0.6274452914659472.\n",
      "[I 2024-08-18 20:25:34,002] Trial 22 finished with value: 0.6092066852715314 and parameters: {'learning_rate': 0.09943243115646105, 'depth': 10, 'n_estimators': 500}. Best is trial 21 with value: 0.6274452914659472.\n",
      "[I 2024-08-18 20:25:40,187] Trial 18 finished with value: 0.6195803683904028 and parameters: {'learning_rate': 0.0949113507237871, 'depth': 8, 'n_estimators': 2000}. Best is trial 21 with value: 0.6274452914659472.\n",
      "[I 2024-08-18 20:25:46,264] Trial 20 finished with value: 0.6212391008104801 and parameters: {'learning_rate': 0.09790379257702563, 'depth': 8, 'n_estimators': 2000}. Best is trial 21 with value: 0.6274452914659472.\n",
      "[I 2024-08-18 20:26:08,275] Trial 12 finished with value: 0.6242512984726081 and parameters: {'learning_rate': 0.06903660326867349, 'depth': 9, 'n_estimators': 1700}. Best is trial 21 with value: 0.6274452914659472.\n",
      "[I 2024-08-18 20:26:52,085] Trial 16 finished with value: 0.6173183465050257 and parameters: {'learning_rate': 0.04219178601698203, 'depth': 9, 'n_estimators': 1700}. Best is trial 21 with value: 0.6274452914659472.\n",
      "[I 2024-08-18 20:26:54,160] Trial 24 finished with value: 0.6061066296311723 and parameters: {'learning_rate': 0.08260845071059854, 'depth': 10, 'n_estimators': 400}. Best is trial 21 with value: 0.6274452914659472.\n",
      "[I 2024-08-18 20:27:04,457] Trial 23 finished with value: 0.617152485318869 and parameters: {'learning_rate': 0.09376880253952463, 'depth': 10, 'n_estimators': 500}. Best is trial 21 with value: 0.6274452914659472.\n",
      "[I 2024-08-18 20:28:38,026] Trial 0 finished with value: 0.6370968678317592 and parameters: {'learning_rate': 0.05435234440315061, 'depth': 10, 'n_estimators': 1800}. Best is trial 0 with value: 0.6370968678317592.\n",
      "[I 2024-08-18 20:29:30,869] Trial 25 finished with value: 0.627686321016781 and parameters: {'learning_rate': 0.08474871868515327, 'depth': 10, 'n_estimators': 900}. Best is trial 0 with value: 0.6370968678317592.\n",
      "[I 2024-08-18 20:29:33,844] Trial 31 finished with value: 0.6192936428335742 and parameters: {'learning_rate': 0.07875275279097466, 'depth': 9, 'n_estimators': 900}. Best is trial 0 with value: 0.6370968678317592.\n",
      "[I 2024-08-18 20:29:37,532] Trial 26 finished with value: 0.6219150157180835 and parameters: {'learning_rate': 0.08282271626692361, 'depth': 10, 'n_estimators': 900}. Best is trial 0 with value: 0.6370968678317592.\n",
      "[I 2024-08-18 20:29:43,267] Trial 27 finished with value: 0.6323244040162381 and parameters: {'learning_rate': 0.08231795347924369, 'depth': 10, 'n_estimators': 900}. Best is trial 0 with value: 0.6370968678317592.\n",
      "[I 2024-08-18 20:30:03,014] Trial 28 finished with value: 0.6310407712213164 and parameters: {'learning_rate': 0.08190282537609338, 'depth': 10, 'n_estimators': 900}. Best is trial 0 with value: 0.6370968678317592.\n",
      "[I 2024-08-18 20:30:50,195] Trial 36 finished with value: 0.5903970086184438 and parameters: {'learning_rate': 0.061897222301765524, 'depth': 7, 'n_estimators': 1100}. Best is trial 0 with value: 0.6370968678317592.\n",
      "[I 2024-08-18 20:31:08,643] Trial 29 finished with value: 0.6297146366413695 and parameters: {'learning_rate': 0.08354570913935477, 'depth': 10, 'n_estimators': 1000}. Best is trial 0 with value: 0.6370968678317592.\n",
      "[I 2024-08-18 20:31:10,028] Trial 37 finished with value: 0.5992311823266683 and parameters: {'learning_rate': 0.05997628290183092, 'depth': 7, 'n_estimators': 1100}. Best is trial 0 with value: 0.6370968678317592.\n",
      "[I 2024-08-18 20:31:13,673] Trial 30 finished with value: 0.6284435783029133 and parameters: {'learning_rate': 0.0793502855378877, 'depth': 10, 'n_estimators': 1000}. Best is trial 0 with value: 0.6370968678317592.\n",
      "[I 2024-08-18 20:32:09,603] Trial 33 finished with value: 0.6230678461045632 and parameters: {'learning_rate': 0.08043322056745433, 'depth': 9, 'n_estimators': 1000}. Best is trial 0 with value: 0.6370968678317592.\n",
      "[I 2024-08-18 20:32:31,482] Trial 35 finished with value: 0.6148114770897379 and parameters: {'learning_rate': 0.05795784103242973, 'depth': 9, 'n_estimators': 1100}. Best is trial 0 with value: 0.6370968678317592.\n",
      "[I 2024-08-18 20:32:35,454] Trial 32 finished with value: 0.6374631185512302 and parameters: {'learning_rate': 0.07790765187207421, 'depth': 9, 'n_estimators': 1500}. Best is trial 32 with value: 0.6374631185512302.\n",
      "[I 2024-08-18 20:33:42,694] Trial 34 finished with value: 0.624158939055626 and parameters: {'learning_rate': 0.0778189307268919, 'depth': 10, 'n_estimators': 1000}. Best is trial 32 with value: 0.6374631185512302.\n",
      "[I 2024-08-18 20:33:44,044] Trial 38 finished with value: 0.6214631214521452 and parameters: {'learning_rate': 0.07622242809491436, 'depth': 9, 'n_estimators': 1100}. Best is trial 32 with value: 0.6374631185512302.\n",
      "[I 2024-08-18 20:34:00,822] Trial 39 finished with value: 0.6187347608190524 and parameters: {'learning_rate': 0.07422146584901175, 'depth': 9, 'n_estimators': 1100}. Best is trial 32 with value: 0.6374631185512302.\n",
      "[I 2024-08-18 20:34:17,617] Trial 40 finished with value: 0.6233836850773491 and parameters: {'learning_rate': 0.07558822193757997, 'depth': 9, 'n_estimators': 1200}. Best is trial 32 with value: 0.6374631185512302.\n",
      "[I 2024-08-18 20:34:24,690] Trial 46 finished with value: 0.5774868990658465 and parameters: {'learning_rate': 0.08967273331850945, 'depth': 5, 'n_estimators': 1500}. Best is trial 32 with value: 0.6374631185512302.\n",
      "[I 2024-08-18 20:34:41,668] Trial 47 finished with value: 0.48435201427304814 and parameters: {'learning_rate': 0.011595862155218198, 'depth': 5, 'n_estimators': 1500}. Best is trial 32 with value: 0.6374631185512302.\n",
      "[I 2024-08-18 20:34:50,909] Trial 41 finished with value: 0.628929263089859 and parameters: {'learning_rate': 0.07547282285379875, 'depth': 9, 'n_estimators': 1400}. Best is trial 32 with value: 0.6374631185512302.\n",
      "[I 2024-08-18 20:35:48,942] Trial 42 finished with value: 0.6107451787984708 and parameters: {'learning_rate': 0.0758588852343924, 'depth': 9, 'n_estimators': 1400}. Best is trial 32 with value: 0.6374631185512302.\n",
      "[I 2024-08-18 20:36:09,428] Trial 43 finished with value: 0.6214905803328209 and parameters: {'learning_rate': 0.0746995828262692, 'depth': 9, 'n_estimators': 1400}. Best is trial 32 with value: 0.6374631185512302.\n",
      "[I 2024-08-18 20:36:32,704] Trial 44 finished with value: 0.6275899717106531 and parameters: {'learning_rate': 0.07467083895505909, 'depth': 9, 'n_estimators': 1500}. Best is trial 32 with value: 0.6374631185512302.\n",
      "[I 2024-08-18 20:37:28,965] Trial 45 finished with value: 0.6233849926881958 and parameters: {'learning_rate': 0.07473553648231056, 'depth': 9, 'n_estimators': 1400}. Best is trial 32 with value: 0.6374631185512302.\n",
      "[I 2024-08-18 20:38:21,314] Trial 51 finished with value: 0.6191169632628082 and parameters: {'learning_rate': 0.07075688749763359, 'depth': 10, 'n_estimators': 800}. Best is trial 32 with value: 0.6374631185512302.\n",
      "[I 2024-08-18 20:39:21,531] Trial 52 finished with value: 0.6347377140126608 and parameters: {'learning_rate': 0.08743158085773937, 'depth': 10, 'n_estimators': 800}. Best is trial 32 with value: 0.6374631185512302.\n",
      "[I 2024-08-18 20:39:44,026] Trial 53 finished with value: 0.6258039290293688 and parameters: {'learning_rate': 0.06356162875996409, 'depth': 10, 'n_estimators': 800}. Best is trial 32 with value: 0.6374631185512302.\n",
      "[I 2024-08-18 20:40:00,871] Trial 49 finished with value: 0.6284821173645371 and parameters: {'learning_rate': 0.0883765226149893, 'depth': 10, 'n_estimators': 1300}. Best is trial 32 with value: 0.6374631185512302.\n",
      "[I 2024-08-18 20:40:07,289] Trial 54 finished with value: 0.6299198581191785 and parameters: {'learning_rate': 0.06442938712904012, 'depth': 10, 'n_estimators': 800}. Best is trial 32 with value: 0.6374631185512302.\n",
      "[I 2024-08-18 20:40:45,483] Trial 48 finished with value: 0.6321020959953602 and parameters: {'learning_rate': 0.0877551334354599, 'depth': 10, 'n_estimators': 1500}. Best is trial 32 with value: 0.6374631185512302.\n",
      "[I 2024-08-18 20:40:48,328] Trial 50 finished with value: 0.6355434168701047 and parameters: {'learning_rate': 0.0719460145230367, 'depth': 10, 'n_estimators': 1400}. Best is trial 32 with value: 0.6374631185512302.\n",
      "[I 2024-08-18 20:41:03,679] Trial 55 finished with value: 0.6186641876696071 and parameters: {'learning_rate': 0.06396822375481431, 'depth': 10, 'n_estimators': 800}. Best is trial 32 with value: 0.6374631185512302.\n",
      "[I 2024-08-18 20:42:03,286] Trial 62 finished with value: 0.6008839977997786 and parameters: {'learning_rate': 0.09054154238874715, 'depth': 6, 'n_estimators': 1800}. Best is trial 32 with value: 0.6374631185512302.\n",
      "[I 2024-08-18 20:43:14,855] Trial 58 finished with value: 0.6277070786454685 and parameters: {'learning_rate': 0.08806326716138317, 'depth': 10, 'n_estimators': 800}. Best is trial 32 with value: 0.6374631185512302.\n",
      "[I 2024-08-18 20:44:03,144] Trial 63 finished with value: 0.6181037448680022 and parameters: {'learning_rate': 0.04569242229941371, 'depth': 8, 'n_estimators': 1800}. Best is trial 32 with value: 0.6374631185512302.\n",
      "[I 2024-08-18 20:45:11,331] Trial 64 finished with value: 0.6181475602965818 and parameters: {'learning_rate': 0.04820518642914488, 'depth': 8, 'n_estimators': 1900}. Best is trial 32 with value: 0.6374631185512302.\n",
      "[I 2024-08-18 20:45:45,936] Trial 67 finished with value: 0.5437162151436388 and parameters: {'learning_rate': 0.07096553073778615, 'depth': 4, 'n_estimators': 1600}. Best is trial 32 with value: 0.6374631185512302.\n",
      "[I 2024-08-18 20:46:04,473] Trial 56 finished with value: 0.6340881625979786 and parameters: {'learning_rate': 0.0641755585497356, 'depth': 10, 'n_estimators': 1800}. Best is trial 32 with value: 0.6374631185512302.\n",
      "[I 2024-08-18 20:46:11,732] Trial 65 finished with value: 0.6189953539340803 and parameters: {'learning_rate': 0.04692210130320201, 'depth': 8, 'n_estimators': 1800}. Best is trial 32 with value: 0.6374631185512302.\n",
      "[I 2024-08-18 20:47:01,218] Trial 57 finished with value: 0.6312875964856512 and parameters: {'learning_rate': 0.06465740013756356, 'depth': 10, 'n_estimators': 1800}. Best is trial 32 with value: 0.6374631185512302.\n",
      "[I 2024-08-18 20:47:48,016] Trial 59 finished with value: 0.6264400924253064 and parameters: {'learning_rate': 0.08580957313817725, 'depth': 10, 'n_estimators': 1900}. Best is trial 32 with value: 0.6374631185512302.\n",
      "[I 2024-08-18 20:47:56,836] Trial 60 finished with value: 0.6286691090926282 and parameters: {'learning_rate': 0.04672582486865284, 'depth': 10, 'n_estimators': 1900}. Best is trial 32 with value: 0.6374631185512302.\n",
      "[I 2024-08-18 20:48:01,370] Trial 61 finished with value: 0.6311676954391962 and parameters: {'learning_rate': 0.04663584975853456, 'depth': 10, 'n_estimators': 1800}. Best is trial 32 with value: 0.6374631185512302.\n",
      "[I 2024-08-18 20:49:06,634] Trial 66 finished with value: 0.6290419669056153 and parameters: {'learning_rate': 0.05561247070132249, 'depth': 10, 'n_estimators': 1600}. Best is trial 32 with value: 0.6374631185512302.\n",
      "[I 2024-08-18 20:49:42,357] Trial 68 finished with value: 0.6331428455337066 and parameters: {'learning_rate': 0.0856005981024821, 'depth': 10, 'n_estimators': 1600}. Best is trial 32 with value: 0.6374631185512302.\n",
      "[I 2024-08-18 20:49:47,119] Trial 69 finished with value: 0.6278001352297433 and parameters: {'learning_rate': 0.05543471349161889, 'depth': 10, 'n_estimators': 1600}. Best is trial 32 with value: 0.6374631185512302.\n"
     ]
    },
    {
     "data": {
      "text/plain": [
       "{'learning_rate': 0.07790765187207421, 'depth': 9, 'n_estimators': 1500}"
      ]
     },
     "execution_count": 8,
     "metadata": {},
     "output_type": "execute_result"
    }
   ],
   "source": [
    "cb_study = optuna.create_study(direction=\"maximize\")\n",
    "\n",
    "func = lambda trial: catboost_objective(\n",
    "    trial, X_train, y_train, proportion, 0.43, selected_score=\"precision\"\n",
    ")\n",
    "\n",
    "cb_study.optimize(func, n_trials=70, n_jobs=-1)\n",
    "cb_precision_best_params = cb_study.best_params\n",
    "\n",
    "cb_precision_best_params"
   ]
  },
  {
   "cell_type": "code",
   "execution_count": 9,
   "id": "80ba949fcca9de3b",
   "metadata": {
    "ExecuteTime": {
     "end_time": "2024-08-19T00:04:31.829438Z",
     "start_time": "2024-08-18T23:49:47.198946Z"
    }
   },
   "outputs": [
    {
     "name": "stderr",
     "output_type": "stream",
     "text": [
      "[I 2024-08-18 20:49:47,200] A new study created in memory with name: no-name-315dd68e-8df4-4bc3-91c2-bafbb541ed2f\n",
      "[I 2024-08-18 20:50:05,303] Trial 3 finished with value: 0.5954823370361585 and parameters: {'learning_rate': 0.09617258495327356, 'depth': 4, 'n_estimators': 900}. Best is trial 3 with value: 0.5954823370361585.\n",
      "[I 2024-08-18 20:50:10,174] Trial 4 finished with value: 0.5973848730844186 and parameters: {'learning_rate': 0.08941452600960408, 'depth': 10, 'n_estimators': 100}. Best is trial 4 with value: 0.5973848730844186.\n",
      "[I 2024-08-18 20:50:14,593] Trial 1 finished with value: 0.6021577390802921 and parameters: {'learning_rate': 0.09805702976592359, 'depth': 8, 'n_estimators': 300}. Best is trial 1 with value: 0.6021577390802921.\n",
      "[I 2024-08-18 20:50:23,449] Trial 5 finished with value: 0.5992225632645682 and parameters: {'learning_rate': 0.03738196397294193, 'depth': 8, 'n_estimators': 400}. Best is trial 1 with value: 0.6021577390802921.\n",
      "[I 2024-08-18 20:50:29,264] Trial 6 finished with value: 0.5948568497330313 and parameters: {'learning_rate': 0.08492027085483651, 'depth': 5, 'n_estimators': 1600}. Best is trial 1 with value: 0.6021577390802921.\n",
      "[I 2024-08-18 20:50:40,338] Trial 9 finished with value: 0.597772268618171 and parameters: {'learning_rate': 0.04142972149908744, 'depth': 3, 'n_estimators': 1900}. Best is trial 1 with value: 0.6021577390802921.\n",
      "[I 2024-08-18 20:50:49,171] Trial 11 finished with value: 0.596833016175638 and parameters: {'learning_rate': 0.08311398382569911, 'depth': 4, 'n_estimators': 1300}. Best is trial 1 with value: 0.6021577390802921.\n",
      "[I 2024-08-18 20:50:58,599] Trial 0 finished with value: 0.6027725023509475 and parameters: {'learning_rate': 0.047481824755907266, 'depth': 8, 'n_estimators': 800}. Best is trial 0 with value: 0.6027725023509475.\n",
      "[I 2024-08-18 20:51:22,807] Trial 10 finished with value: 0.6099609054516385 and parameters: {'learning_rate': 0.08801004186460491, 'depth': 7, 'n_estimators': 1200}. Best is trial 10 with value: 0.6099609054516385.\n",
      "[I 2024-08-18 20:51:31,692] Trial 14 finished with value: 0.5937616692248601 and parameters: {'learning_rate': 0.08763386938045632, 'depth': 6, 'n_estimators': 1100}. Best is trial 10 with value: 0.6099609054516385.\n",
      "[I 2024-08-18 20:51:34,678] Trial 16 finished with value: 0.5951872661871651 and parameters: {'learning_rate': 0.049194328001196906, 'depth': 6, 'n_estimators': 300}. Best is trial 10 with value: 0.6099609054516385.\n",
      "[I 2024-08-18 20:52:27,639] Trial 12 finished with value: 0.5992985295155211 and parameters: {'learning_rate': 0.09279402969705655, 'depth': 7, 'n_estimators': 2000}. Best is trial 10 with value: 0.6099609054516385.\n",
      "[I 2024-08-18 20:52:44,539] Trial 18 finished with value: 0.5973261115442695 and parameters: {'learning_rate': 0.012344524158545332, 'depth': 8, 'n_estimators': 700}. Best is trial 10 with value: 0.6099609054516385.\n",
      "[I 2024-08-18 20:53:03,680] Trial 7 finished with value: 0.5919308861930741 and parameters: {'learning_rate': 0.06962553570832933, 'depth': 10, 'n_estimators': 800}. Best is trial 10 with value: 0.6099609054516385.\n",
      "[I 2024-08-18 20:53:31,599] Trial 8 finished with value: 0.6031821618437556 and parameters: {'learning_rate': 0.04656819336764069, 'depth': 9, 'n_estimators': 1300}. Best is trial 10 with value: 0.6099609054516385.\n",
      "[I 2024-08-18 20:53:59,734] Trial 15 finished with value: 0.6041362731757665 and parameters: {'learning_rate': 0.032855168595870135, 'depth': 10, 'n_estimators': 700}. Best is trial 10 with value: 0.6099609054516385.\n",
      "[I 2024-08-18 20:55:56,973] Trial 19 finished with value: 0.6047157473579584 and parameters: {'learning_rate': 0.015939353542650213, 'depth': 10, 'n_estimators': 800}. Best is trial 10 with value: 0.6099609054516385.\n",
      "[I 2024-08-18 20:56:36,826] Trial 21 finished with value: 0.6030638905934358 and parameters: {'learning_rate': 0.06389496617809928, 'depth': 9, 'n_estimators': 1300}. Best is trial 10 with value: 0.6099609054516385.\n",
      "[I 2024-08-18 20:56:58,984] Trial 13 finished with value: 0.5842043806535834 and parameters: {'learning_rate': 0.06677983177285594, 'depth': 10, 'n_estimators': 1500}. Best is trial 10 with value: 0.6099609054516385.\n",
      "[I 2024-08-18 20:57:08,893] Trial 24 finished with value: 0.6032661589447578 and parameters: {'learning_rate': 0.06487526817071439, 'depth': 7, 'n_estimators': 1200}. Best is trial 10 with value: 0.6099609054516385.\n",
      "[I 2024-08-18 20:57:17,043] Trial 22 finished with value: 0.5887749624858225 and parameters: {'learning_rate': 0.06503948136972339, 'depth': 9, 'n_estimators': 1400}. Best is trial 10 with value: 0.6099609054516385.\n",
      "[I 2024-08-18 20:57:22,414] Trial 27 finished with value: 0.5808747760985621 and parameters: {'learning_rate': 0.011853995422107305, 'depth': 5, 'n_estimators': 500}. Best is trial 10 with value: 0.6099609054516385.\n",
      "[I 2024-08-18 20:57:34,340] Trial 2 finished with value: 0.5847684197301749 and parameters: {'learning_rate': 0.04060793802923854, 'depth': 10, 'n_estimators': 1900}. Best is trial 10 with value: 0.6099609054516385.\n",
      "[I 2024-08-18 20:57:42,011] Trial 25 finished with value: 0.6031836314053104 and parameters: {'learning_rate': 0.021198181206945742, 'depth': 7, 'n_estimators': 1100}. Best is trial 10 with value: 0.6099609054516385.\n",
      "[I 2024-08-18 20:57:51,451] Trial 17 finished with value: 0.5903957346445587 and parameters: {'learning_rate': 0.06576466056936485, 'depth': 10, 'n_estimators': 1500}. Best is trial 10 with value: 0.6099609054516385.\n",
      "[I 2024-08-18 20:58:00,975] Trial 23 finished with value: 0.6014047211117608 and parameters: {'learning_rate': 0.02496884308727254, 'depth': 9, 'n_estimators': 1500}. Best is trial 10 with value: 0.6099609054516385.\n",
      "[I 2024-08-18 20:58:04,422] Trial 26 finished with value: 0.5992015816427895 and parameters: {'learning_rate': 0.010863918813707758, 'depth': 7, 'n_estimators': 1100}. Best is trial 10 with value: 0.6099609054516385.\n",
      "[I 2024-08-18 20:58:12,492] Trial 20 finished with value: 0.5914113069322278 and parameters: {'learning_rate': 0.06659129183901212, 'depth': 10, 'n_estimators': 1300}. Best is trial 10 with value: 0.6099609054516385.\n",
      "[I 2024-08-18 20:59:19,222] Trial 31 finished with value: 0.6119651434866272 and parameters: {'learning_rate': 0.026333020873596066, 'depth': 9, 'n_estimators': 600}. Best is trial 31 with value: 0.6119651434866272.\n",
      "[I 2024-08-18 20:59:29,495] Trial 32 finished with value: 0.6067941778662153 and parameters: {'learning_rate': 0.028411696985917795, 'depth': 9, 'n_estimators': 600}. Best is trial 31 with value: 0.6119651434866272.\n",
      "[I 2024-08-18 20:59:39,401] Trial 33 finished with value: 0.608680196460883 and parameters: {'learning_rate': 0.027951757810695935, 'depth': 9, 'n_estimators': 600}. Best is trial 31 with value: 0.6119651434866272.\n",
      "[I 2024-08-18 20:59:47,986] Trial 28 finished with value: 0.6073277344067067 and parameters: {'learning_rate': 0.021308992848851717, 'depth': 10, 'n_estimators': 600}. Best is trial 31 with value: 0.6119651434866272.\n",
      "[I 2024-08-18 20:59:49,569] Trial 35 finished with value: 0.5983640562443442 and parameters: {'learning_rate': 0.032918807519128124, 'depth': 9, 'n_estimators': 600}. Best is trial 31 with value: 0.6119651434866272.\n",
      "[I 2024-08-18 20:59:53,449] Trial 29 finished with value: 0.6075989600682462 and parameters: {'learning_rate': 0.02579468789933792, 'depth': 10, 'n_estimators': 600}. Best is trial 31 with value: 0.6119651434866272.\n",
      "[I 2024-08-18 20:59:56,923] Trial 34 finished with value: 0.6108282203618826 and parameters: {'learning_rate': 0.028761325017403458, 'depth': 9, 'n_estimators': 700}. Best is trial 31 with value: 0.6119651434866272.\n",
      "[I 2024-08-18 20:59:58,779] Trial 40 finished with value: 0.567637025270837 and parameters: {'learning_rate': 0.019204488039622984, 'depth': 8, 'n_estimators': 100}. Best is trial 31 with value: 0.6119651434866272.\n",
      "[I 2024-08-18 21:00:11,784] Trial 30 finished with value: 0.6059629006076028 and parameters: {'learning_rate': 0.026196153848978047, 'depth': 9, 'n_estimators': 1000}. Best is trial 31 with value: 0.6119651434866272.\n",
      "[I 2024-08-18 21:00:24,952] Trial 37 finished with value: 0.6049172145218065 and parameters: {'learning_rate': 0.02758285122248577, 'depth': 8, 'n_estimators': 600}. Best is trial 31 with value: 0.6119651434866272.\n",
      "[I 2024-08-18 21:00:33,706] Trial 38 finished with value: 0.6068882544707818 and parameters: {'learning_rate': 0.030159883349705145, 'depth': 8, 'n_estimators': 600}. Best is trial 31 with value: 0.6119651434866272.\n",
      "[I 2024-08-18 21:00:42,186] Trial 36 finished with value: 0.6045158684323849 and parameters: {'learning_rate': 0.022278459405754764, 'depth': 8, 'n_estimators': 900}. Best is trial 31 with value: 0.6119651434866272.\n",
      "[I 2024-08-18 21:00:56,386] Trial 47 finished with value: 0.5993991799893366 and parameters: {'learning_rate': 0.07664298303346906, 'depth': 6, 'n_estimators': 400}. Best is trial 31 with value: 0.6119651434866272.\n",
      "[I 2024-08-18 21:01:07,207] Trial 39 finished with value: 0.6055643929935194 and parameters: {'learning_rate': 0.022878514922413166, 'depth': 8, 'n_estimators': 900}. Best is trial 31 with value: 0.6119651434866272.\n",
      "[I 2024-08-18 21:01:12,842] Trial 41 finished with value: 0.5982059835563192 and parameters: {'learning_rate': 0.0771436766928266, 'depth': 8, 'n_estimators': 900}. Best is trial 31 with value: 0.6119651434866272.\n",
      "[I 2024-08-18 21:01:16,317] Trial 42 finished with value: 0.5933312170785269 and parameters: {'learning_rate': 0.07698341006104636, 'depth': 8, 'n_estimators': 900}. Best is trial 31 with value: 0.6119651434866272.\n",
      "[I 2024-08-18 21:01:17,951] Trial 43 finished with value: 0.5980048325320819 and parameters: {'learning_rate': 0.07807309566482562, 'depth': 8, 'n_estimators': 900}. Best is trial 31 with value: 0.6119651434866272.\n",
      "[I 2024-08-18 21:01:31,420] Trial 44 finished with value: 0.6053227989980392 and parameters: {'learning_rate': 0.050278659402749115, 'depth': 8, 'n_estimators': 900}. Best is trial 31 with value: 0.6119651434866272.\n",
      "[I 2024-08-18 21:01:45,645] Trial 45 finished with value: 0.5940585336959243 and parameters: {'learning_rate': 0.07758447699319533, 'depth': 8, 'n_estimators': 900}. Best is trial 31 with value: 0.6119651434866272.\n",
      "[I 2024-08-18 21:01:52,754] Trial 49 finished with value: 0.6097481866371778 and parameters: {'learning_rate': 0.040969299830080304, 'depth': 9, 'n_estimators': 300}. Best is trial 31 with value: 0.6119651434866272.\n",
      "[I 2024-08-18 21:01:55,089] Trial 46 finished with value: 0.6070599397261194 and parameters: {'learning_rate': 0.03890631888528602, 'depth': 8, 'n_estimators': 900}. Best is trial 31 with value: 0.6119651434866272.\n",
      "[I 2024-08-18 21:01:56,827] Trial 48 finished with value: 0.6048886570491648 and parameters: {'learning_rate': 0.03711315159920704, 'depth': 9, 'n_estimators': 400}. Best is trial 31 with value: 0.6119651434866272.\n",
      "[I 2024-08-18 21:02:02,749] Trial 57 finished with value: 0.5837863219786887 and parameters: {'learning_rate': 0.043900976272506935, 'depth': 5, 'n_estimators': 200}. Best is trial 31 with value: 0.6119651434866272.\n",
      "[I 2024-08-18 21:02:14,233] Trial 50 finished with value: 0.6081479611992068 and parameters: {'learning_rate': 0.05682352659215652, 'depth': 9, 'n_estimators': 400}. Best is trial 31 with value: 0.6119651434866272.\n",
      "[I 2024-08-18 21:02:17,920] Trial 51 finished with value: 0.6147246082700943 and parameters: {'learning_rate': 0.04069330665047851, 'depth': 9, 'n_estimators': 400}. Best is trial 51 with value: 0.6147246082700943.\n",
      "[I 2024-08-18 21:02:19,882] Trial 52 finished with value: 0.6029592298891396 and parameters: {'learning_rate': 0.05658711247208196, 'depth': 9, 'n_estimators': 400}. Best is trial 51 with value: 0.6147246082700943.\n",
      "[I 2024-08-18 21:02:26,176] Trial 56 finished with value: 0.6038724855689971 and parameters: {'learning_rate': 0.04351958775019597, 'depth': 9, 'n_estimators': 200}. Best is trial 51 with value: 0.6147246082700943.\n",
      "[I 2024-08-18 21:02:31,117] Trial 62 finished with value: 0.5811111146160495 and parameters: {'learning_rate': 0.03533524215908947, 'depth': 3, 'n_estimators': 300}. Best is trial 51 with value: 0.6147246082700943.\n",
      "[I 2024-08-18 21:02:33,691] Trial 53 finished with value: 0.604365844087611 and parameters: {'learning_rate': 0.039208057232279596, 'depth': 9, 'n_estimators': 400}. Best is trial 51 with value: 0.6147246082700943.\n",
      "[I 2024-08-18 21:02:38,937] Trial 55 finished with value: 0.6016147863248225 and parameters: {'learning_rate': 0.041082675327558674, 'depth': 9, 'n_estimators': 300}. Best is trial 51 with value: 0.6147246082700943.\n",
      "[I 2024-08-18 21:02:44,049] Trial 64 finished with value: 0.5869101356902642 and parameters: {'learning_rate': 0.03205694327799964, 'depth': 4, 'n_estimators': 500}. Best is trial 51 with value: 0.6147246082700943.\n",
      "[I 2024-08-18 21:02:47,440] Trial 54 finished with value: 0.6107342414289523 and parameters: {'learning_rate': 0.038591802885163354, 'depth': 9, 'n_estimators': 400}. Best is trial 51 with value: 0.6147246082700943.\n",
      "[I 2024-08-18 21:02:48,711] Trial 58 finished with value: 0.6074115897902892 and parameters: {'learning_rate': 0.05428011877122132, 'depth': 9, 'n_estimators': 300}. Best is trial 51 with value: 0.6147246082700943.\n",
      "[I 2024-08-18 21:02:50,342] Trial 61 finished with value: 0.5917854785224229 and parameters: {'learning_rate': 0.03486423221615911, 'depth': 9, 'n_estimators': 200}. Best is trial 51 with value: 0.6147246082700943.\n",
      "[I 2024-08-18 21:02:53,655] Trial 65 finished with value: 0.5840214328983107 and parameters: {'learning_rate': 0.016712782792440213, 'depth': 4, 'n_estimators': 700}. Best is trial 51 with value: 0.6147246082700943.\n",
      "[I 2024-08-18 21:03:00,192] Trial 59 finished with value: 0.6050248505612266 and parameters: {'learning_rate': 0.05605340299425823, 'depth': 9, 'n_estimators': 300}. Best is trial 51 with value: 0.6147246082700943.\n",
      "[I 2024-08-18 21:03:03,154] Trial 60 finished with value: 0.6037481662471271 and parameters: {'learning_rate': 0.0349077981693603, 'depth': 9, 'n_estimators': 300}. Best is trial 51 with value: 0.6147246082700943.\n",
      "[I 2024-08-18 21:03:25,981] Trial 67 finished with value: 0.5972376195289629 and parameters: {'learning_rate': 0.09861344289120806, 'depth': 10, 'n_estimators': 200}. Best is trial 51 with value: 0.6147246082700943.\n",
      "[I 2024-08-18 21:04:23,085] Trial 63 finished with value: 0.6005439426440577 and parameters: {'learning_rate': 0.05273599066334339, 'depth': 10, 'n_estimators': 700}. Best is trial 51 with value: 0.6147246082700943.\n",
      "[I 2024-08-18 21:04:29,417] Trial 66 finished with value: 0.5907879821337961 and parameters: {'learning_rate': 0.09956088906330389, 'depth': 10, 'n_estimators': 700}. Best is trial 51 with value: 0.6147246082700943.\n",
      "[I 2024-08-18 21:04:31,052] Trial 68 finished with value: 0.6066481523316252 and parameters: {'learning_rate': 0.015381419225398301, 'depth': 10, 'n_estimators': 700}. Best is trial 51 with value: 0.6147246082700943.\n",
      "[I 2024-08-18 21:04:31,826] Trial 69 finished with value: 0.6043849307436329 and parameters: {'learning_rate': 0.017194575143761284, 'depth': 10, 'n_estimators': 700}. Best is trial 51 with value: 0.6147246082700943.\n"
     ]
    },
    {
     "data": {
      "text/plain": [
       "{'learning_rate': 0.04069330665047851, 'depth': 9, 'n_estimators': 400}"
      ]
     },
     "execution_count": 9,
     "metadata": {},
     "output_type": "execute_result"
    }
   ],
   "source": [
    "cb_study = optuna.create_study(direction=\"maximize\")\n",
    "\n",
    "func = lambda trial: catboost_objective(\n",
    "    trial, X_train, y_train, proportion, 0.43, selected_score=\"f1\"\n",
    ")\n",
    "\n",
    "cb_study.optimize(func, n_trials=70, n_jobs=-1)\n",
    "cb_f1_best_params = cb_study.best_params\n",
    "\n",
    "cb_f1_best_params"
   ]
  },
  {
   "cell_type": "markdown",
   "id": "37e15d416f2a329f",
   "metadata": {},
   "source": "#### 5.1.2 Threshold 0.47"
  },
  {
   "cell_type": "code",
   "execution_count": 10,
   "id": "87a0f3ab29e162e9",
   "metadata": {
    "ExecuteTime": {
     "end_time": "2024-08-19T00:12:07.914845Z",
     "start_time": "2024-08-19T00:04:31.853084Z"
    }
   },
   "outputs": [
    {
     "name": "stderr",
     "output_type": "stream",
     "text": [
      "[I 2024-08-18 21:04:31,854] A new study created in memory with name: no-name-cb03ccbf-201b-44a1-bb44-05a443845d47\n",
      "[I 2024-08-18 21:04:43,803] Trial 4 finished with value: 0.7244190896822477 and parameters: {'learning_rate': 0.08665896694940448, 'depth': 3, 'n_estimators': 800}. Best is trial 4 with value: 0.7244190896822477.\n",
      "[I 2024-08-18 21:04:59,768] Trial 6 finished with value: 0.6227358606305975 and parameters: {'learning_rate': 0.066969023369698, 'depth': 6, 'n_estimators': 800}. Best is trial 4 with value: 0.7244190896822477.\n",
      "[I 2024-08-18 21:05:05,133] Trial 9 finished with value: 0.7643994601889339 and parameters: {'learning_rate': 0.03006803953496051, 'depth': 7, 'n_estimators': 100}. Best is trial 9 with value: 0.7643994601889339.\n",
      "[I 2024-08-18 21:05:17,461] Trial 7 finished with value: 0.6157207704576126 and parameters: {'learning_rate': 0.05522059337026013, 'depth': 6, 'n_estimators': 1300}. Best is trial 9 with value: 0.7643994601889339.\n",
      "[I 2024-08-18 21:05:23,352] Trial 5 finished with value: 0.621324990798675 and parameters: {'learning_rate': 0.047518650132762505, 'depth': 8, 'n_estimators': 600}. Best is trial 9 with value: 0.7643994601889339.\n",
      "[I 2024-08-18 21:05:46,650] Trial 12 finished with value: 0.7279278616120722 and parameters: {'learning_rate': 0.03652099649343694, 'depth': 4, 'n_estimators': 1000}. Best is trial 9 with value: 0.7643994601889339.\n",
      "[I 2024-08-18 21:05:51,270] Trial 13 finished with value: 0.7777278861489387 and parameters: {'learning_rate': 0.0571116550142977, 'depth': 3, 'n_estimators': 200}. Best is trial 13 with value: 0.7777278861489387.\n",
      "[I 2024-08-18 21:05:59,905] Trial 2 finished with value: 0.6094098883572568 and parameters: {'learning_rate': 0.033266728699355055, 'depth': 7, 'n_estimators': 1500}. Best is trial 13 with value: 0.7777278861489387.\n",
      "[I 2024-08-18 21:06:38,589] Trial 1 finished with value: 0.5631309041835358 and parameters: {'learning_rate': 0.08713056557347587, 'depth': 9, 'n_estimators': 800}. Best is trial 13 with value: 0.7777278861489387.\n",
      "[I 2024-08-18 21:06:52,623] Trial 14 finished with value: 0.5890860017175807 and parameters: {'learning_rate': 0.09302514990574903, 'depth': 5, 'n_estimators': 1800}. Best is trial 13 with value: 0.7777278861489387.\n",
      "[I 2024-08-18 21:07:10,579] Trial 10 finished with value: 0.5680260090786406 and parameters: {'learning_rate': 0.08069519056194886, 'depth': 7, 'n_estimators': 1900}. Best is trial 13 with value: 0.7777278861489387.\n",
      "[I 2024-08-18 21:07:19,091] Trial 17 finished with value: 0.7601987486198013 and parameters: {'learning_rate': 0.010885942810323658, 'depth': 10, 'n_estimators': 100}. Best is trial 13 with value: 0.7777278861489387.\n",
      "[I 2024-08-18 21:07:21,009] Trial 19 finished with value: 0.7658250521408417 and parameters: {'learning_rate': 0.01509247049201605, 'depth': 3, 'n_estimators': 100}. Best is trial 13 with value: 0.7777278861489387.\n",
      "[I 2024-08-18 21:07:22,557] Trial 16 finished with value: 0.6304453441295546 and parameters: {'learning_rate': 0.05862988999927896, 'depth': 6, 'n_estimators': 1000}. Best is trial 13 with value: 0.7777278861489387.\n",
      "[I 2024-08-18 21:07:24,948] Trial 15 finished with value: 0.5666347687400319 and parameters: {'learning_rate': 0.0887027684191878, 'depth': 8, 'n_estimators': 800}. Best is trial 13 with value: 0.7777278861489387.\n",
      "[I 2024-08-18 21:07:27,932] Trial 20 finished with value: 0.7791338486075329 and parameters: {'learning_rate': 0.01231143433050818, 'depth': 3, 'n_estimators': 400}. Best is trial 20 with value: 0.7791338486075329.\n",
      "[I 2024-08-18 21:07:29,161] Trial 0 finished with value: 0.5504968715495031 and parameters: {'learning_rate': 0.07847320643078216, 'depth': 9, 'n_estimators': 1100}. Best is trial 20 with value: 0.7791338486075329.\n",
      "[I 2024-08-18 21:07:29,433] Trial 21 finished with value: 0.782640166850693 and parameters: {'learning_rate': 0.012313670372185614, 'depth': 3, 'n_estimators': 400}. Best is trial 21 with value: 0.782640166850693.\n",
      "[I 2024-08-18 21:07:31,777] Trial 22 finished with value: 0.7777377008955956 and parameters: {'learning_rate': 0.011401872232544595, 'depth': 3, 'n_estimators': 400}. Best is trial 21 with value: 0.782640166850693.\n",
      "[I 2024-08-18 21:07:35,156] Trial 18 finished with value: 0.7314489019752177 and parameters: {'learning_rate': 0.022672837052119456, 'depth': 10, 'n_estimators': 100}. Best is trial 21 with value: 0.782640166850693.\n",
      "[I 2024-08-18 21:07:36,535] Trial 23 finished with value: 0.7489633173843699 and parameters: {'learning_rate': 0.06950503454958215, 'depth': 4, 'n_estimators': 400}. Best is trial 21 with value: 0.782640166850693.\n",
      "[I 2024-08-18 21:07:37,458] Trial 24 finished with value: 0.7552840142313826 and parameters: {'learning_rate': 0.0441694050131491, 'depth': 4, 'n_estimators': 400}. Best is trial 21 with value: 0.782640166850693.\n",
      "[I 2024-08-18 21:07:37,724] Trial 25 finished with value: 0.7721113973745553 and parameters: {'learning_rate': 0.025515014881831194, 'depth': 4, 'n_estimators': 400}. Best is trial 21 with value: 0.782640166850693.\n",
      "[I 2024-08-18 21:07:40,010] Trial 26 finished with value: 0.7735149061464851 and parameters: {'learning_rate': 0.024509718934070862, 'depth': 4, 'n_estimators': 400}. Best is trial 21 with value: 0.782640166850693.\n",
      "[I 2024-08-18 21:07:43,066] Trial 27 finished with value: 0.7594945405471721 and parameters: {'learning_rate': 0.0427269475086135, 'depth': 4, 'n_estimators': 400}. Best is trial 21 with value: 0.782640166850693.\n",
      "[I 2024-08-18 21:07:44,605] Trial 28 finished with value: 0.7693043798306956 and parameters: {'learning_rate': 0.020977266041390955, 'depth': 4, 'n_estimators': 400}. Best is trial 21 with value: 0.782640166850693.\n",
      "[I 2024-08-18 21:07:47,818] Trial 29 finished with value: 0.7714145503619187 and parameters: {'learning_rate': 0.018930837494890412, 'depth': 5, 'n_estimators': 400}. Best is trial 21 with value: 0.782640166850693.\n",
      "[I 2024-08-18 21:07:53,184] Trial 30 finished with value: 0.7601913875598086 and parameters: {'learning_rate': 0.019301760619125915, 'depth': 5, 'n_estimators': 600}. Best is trial 21 with value: 0.782640166850693.\n",
      "[I 2024-08-18 21:07:55,334] Trial 31 finished with value: 0.7608955956324378 and parameters: {'learning_rate': 0.01673174230638464, 'depth': 5, 'n_estimators': 600}. Best is trial 21 with value: 0.782640166850693.\n",
      "[I 2024-08-18 21:07:58,601] Trial 32 finished with value: 0.7594945405471721 and parameters: {'learning_rate': 0.018036099251290724, 'depth': 5, 'n_estimators': 600}. Best is trial 21 with value: 0.782640166850693.\n",
      "[I 2024-08-18 21:07:58,934] Trial 34 finished with value: 0.7805373573794627 and parameters: {'learning_rate': 0.01102811299405667, 'depth': 3, 'n_estimators': 700}. Best is trial 21 with value: 0.782640166850693.\n",
      "[I 2024-08-18 21:08:00,063] Trial 33 finished with value: 0.7749233222917434 and parameters: {'learning_rate': 0.01017912476714878, 'depth': 5, 'n_estimators': 600}. Best is trial 21 with value: 0.782640166850693.\n",
      "[I 2024-08-18 21:08:00,683] Trial 8 finished with value: 0.5589179241810821 and parameters: {'learning_rate': 0.05010100959457508, 'depth': 8, 'n_estimators': 2000}. Best is trial 21 with value: 0.782640166850693.\n",
      "[I 2024-08-18 21:08:02,643] Trial 35 finished with value: 0.7833370138633298 and parameters: {'learning_rate': 0.010195450583486167, 'depth': 3, 'n_estimators': 600}. Best is trial 35 with value: 0.7833370138633298.\n",
      "[I 2024-08-18 21:08:03,775] Trial 38 finished with value: 0.7714268187952399 and parameters: {'learning_rate': 0.010386350544863615, 'depth': 3, 'n_estimators': 300}. Best is trial 35 with value: 0.7833370138633298.\n",
      "[I 2024-08-18 21:08:04,853] Trial 39 finished with value: 0.7700257637099742 and parameters: {'learning_rate': 0.010120203286085438, 'depth': 3, 'n_estimators': 300}. Best is trial 35 with value: 0.7833370138633298.\n",
      "[I 2024-08-18 21:08:05,381] Trial 40 finished with value: 0.7700282173966384 and parameters: {'learning_rate': 0.010061577722709124, 'depth': 3, 'n_estimators': 300}. Best is trial 35 with value: 0.7833370138633298.\n",
      "[I 2024-08-18 21:08:13,691] Trial 36 finished with value: 0.7770261317629739 and parameters: {'learning_rate': 0.010264865627479828, 'depth': 3, 'n_estimators': 1200}. Best is trial 35 with value: 0.7833370138633298.\n",
      "[I 2024-08-18 21:08:14,286] Trial 42 finished with value: 0.7658054226475279 and parameters: {'learning_rate': 0.031177245332463254, 'depth': 3, 'n_estimators': 700}. Best is trial 35 with value: 0.7833370138633298.\n",
      "[I 2024-08-18 21:08:16,250] Trial 41 finished with value: 0.7615948963317385 and parameters: {'learning_rate': 0.029165166294887444, 'depth': 3, 'n_estimators': 900}. Best is trial 35 with value: 0.7833370138633298.\n",
      "[I 2024-08-18 21:08:16,720] Trial 37 finished with value: 0.7833345601766656 and parameters: {'learning_rate': 0.010203577717229111, 'depth': 3, 'n_estimators': 1200}. Best is trial 35 with value: 0.7833370138633298.\n",
      "[I 2024-08-18 21:08:16,991] Trial 43 finished with value: 0.7651061219482272 and parameters: {'learning_rate': 0.029647583856809618, 'depth': 3, 'n_estimators': 800}. Best is trial 35 with value: 0.7833370138633298.\n",
      "[I 2024-08-18 21:08:17,493] Trial 44 finished with value: 0.7601987486198013 and parameters: {'learning_rate': 0.029651594571396572, 'depth': 3, 'n_estimators': 800}. Best is trial 35 with value: 0.7833370138633298.\n",
      "[I 2024-08-18 21:08:25,773] Trial 45 finished with value: 0.7651085756348914 and parameters: {'learning_rate': 0.029336969502745457, 'depth': 3, 'n_estimators': 800}. Best is trial 35 with value: 0.7833370138633298.\n",
      "[I 2024-08-18 21:08:29,261] Trial 47 finished with value: 0.7538805054594528 and parameters: {'learning_rate': 0.036775725301253656, 'depth': 4, 'n_estimators': 700}. Best is trial 35 with value: 0.7833370138633298.\n",
      "[I 2024-08-18 21:08:30,943] Trial 46 finished with value: 0.7293240093240094 and parameters: {'learning_rate': 0.03746803001741085, 'depth': 4, 'n_estimators': 900}. Best is trial 35 with value: 0.7833370138633298.\n",
      "[I 2024-08-18 21:08:42,884] Trial 48 finished with value: 0.705483989694516 and parameters: {'learning_rate': 0.03668735816796151, 'depth': 4, 'n_estimators': 1400}. Best is trial 35 with value: 0.7833370138633298.\n",
      "[I 2024-08-18 21:08:43,344] Trial 49 finished with value: 0.7082885535517114 and parameters: {'learning_rate': 0.0370945848248187, 'depth': 4, 'n_estimators': 1400}. Best is trial 35 with value: 0.7833370138633298.\n",
      "[I 2024-08-18 21:08:45,605] Trial 50 finished with value: 0.7096969696969697 and parameters: {'learning_rate': 0.036604981746432216, 'depth': 4, 'n_estimators': 1500}. Best is trial 35 with value: 0.7833370138633298.\n",
      "[I 2024-08-18 21:08:50,198] Trial 52 finished with value: 0.760898049319102 and parameters: {'learning_rate': 0.014779290234517488, 'depth': 4, 'n_estimators': 1100}. Best is trial 35 with value: 0.7833370138633298.\n",
      "[I 2024-08-18 21:08:50,886] Trial 51 finished with value: 0.7110906637222427 and parameters: {'learning_rate': 0.03732159082642765, 'depth': 4, 'n_estimators': 1300}. Best is trial 35 with value: 0.7833370138633298.\n",
      "[I 2024-08-18 21:08:59,209] Trial 58 finished with value: 0.7770334928229665 and parameters: {'learning_rate': 0.0148096840772865, 'depth': 3, 'n_estimators': 500}. Best is trial 35 with value: 0.7833370138633298.\n",
      "[I 2024-08-18 21:09:07,391] Trial 59 finished with value: 0.7826401668506933 and parameters: {'learning_rate': 0.013547990831064486, 'depth': 3, 'n_estimators': 500}. Best is trial 35 with value: 0.7833370138633298.\n",
      "[I 2024-08-18 21:09:09,997] Trial 57 finished with value: 0.774920868605079 and parameters: {'learning_rate': 0.014631214944394929, 'depth': 3, 'n_estimators': 1200}. Best is trial 35 with value: 0.7833370138633298.\n",
      "[I 2024-08-18 21:09:10,764] Trial 60 finished with value: 0.7693264630106735 and parameters: {'learning_rate': 0.015313502451317643, 'depth': 3, 'n_estimators': 200}. Best is trial 35 with value: 0.7833370138633298.\n",
      "[I 2024-08-18 21:09:43,339] Trial 11 finished with value: 0.5708354803091645 and parameters: {'learning_rate': 0.03273247104605005, 'depth': 10, 'n_estimators': 1100}. Best is trial 35 with value: 0.7833370138633298.\n",
      "[I 2024-08-18 21:10:28,944] Trial 61 finished with value: 0.6704183535762483 and parameters: {'learning_rate': 0.02329568968332455, 'depth': 9, 'n_estimators': 500}. Best is trial 35 with value: 0.7833370138633298.\n",
      "[I 2024-08-18 21:10:29,476] Trial 62 finished with value: 0.6627015090172985 and parameters: {'learning_rate': 0.024741096745430523, 'depth': 9, 'n_estimators': 500}. Best is trial 35 with value: 0.7833370138633298.\n",
      "[I 2024-08-18 21:10:40,524] Trial 64 finished with value: 0.7714120966752546 and parameters: {'learning_rate': 0.026237972639937795, 'depth': 3, 'n_estimators': 700}. Best is trial 35 with value: 0.7833370138633298.\n",
      "[I 2024-08-18 21:10:41,194] Trial 65 finished with value: 0.7742215679057785 and parameters: {'learning_rate': 0.02064530778038419, 'depth': 3, 'n_estimators': 700}. Best is trial 35 with value: 0.7833370138633298.\n",
      "[I 2024-08-18 21:10:46,650] Trial 3 finished with value: 0.5406845785793154 and parameters: {'learning_rate': 0.05136849811845658, 'depth': 10, 'n_estimators': 1600}. Best is trial 35 with value: 0.7833370138633298.\n",
      "[I 2024-08-18 21:10:54,784] Trial 68 finished with value: 0.7826426205373573 and parameters: {'learning_rate': 0.013329476914514474, 'depth': 3, 'n_estimators': 500}. Best is trial 35 with value: 0.7833370138633298.\n",
      "[I 2024-08-18 21:10:58,194] Trial 69 finished with value: 0.77002331002331 and parameters: {'learning_rate': 0.014862678100919954, 'depth': 3, 'n_estimators': 200}. Best is trial 35 with value: 0.7833370138633298.\n",
      "[I 2024-08-18 21:10:59,707] Trial 63 finished with value: 0.6711152005888847 and parameters: {'learning_rate': 0.023636261030820376, 'depth': 9, 'n_estimators': 500}. Best is trial 35 with value: 0.7833370138633298.\n",
      "[I 2024-08-18 21:11:24,571] Trial 56 finished with value: 0.632545699914121 and parameters: {'learning_rate': 0.015548393519238837, 'depth': 9, 'n_estimators': 1100}. Best is trial 35 with value: 0.7833370138633298.\n",
      "[I 2024-08-18 21:11:32,176] Trial 54 finished with value: 0.6318341307814992 and parameters: {'learning_rate': 0.014766403254229869, 'depth': 9, 'n_estimators': 1200}. Best is trial 35 with value: 0.7833370138633298.\n",
      "[I 2024-08-18 21:11:53,357] Trial 53 finished with value: 0.6115126978284873 and parameters: {'learning_rate': 0.01416999065701865, 'depth': 9, 'n_estimators': 1600}. Best is trial 35 with value: 0.7833370138633298.\n",
      "[I 2024-08-18 21:11:55,266] Trial 67 finished with value: 0.5617323027849344 and parameters: {'learning_rate': 0.06389007223211271, 'depth': 7, 'n_estimators': 1700}. Best is trial 35 with value: 0.7833370138633298.\n",
      "[I 2024-08-18 21:11:58,685] Trial 55 finished with value: 0.6094147957305852 and parameters: {'learning_rate': 0.014314520219292175, 'depth': 9, 'n_estimators': 1600}. Best is trial 35 with value: 0.7833370138633298.\n",
      "[I 2024-08-18 21:12:07,911] Trial 66 finished with value: 0.6080112869586554 and parameters: {'learning_rate': 0.020905363430844995, 'depth': 8, 'n_estimators': 1700}. Best is trial 35 with value: 0.7833370138633298.\n"
     ]
    },
    {
     "data": {
      "text/plain": [
       "{'learning_rate': 0.010195450583486167, 'depth': 3, 'n_estimators': 600}"
      ]
     },
     "execution_count": 10,
     "metadata": {},
     "output_type": "execute_result"
    }
   ],
   "source": [
    "cb_study = optuna.create_study(direction=\"maximize\")\n",
    "\n",
    "func = lambda trial: catboost_objective(trial, X_train, y_train, proportion, 0.47)\n",
    "\n",
    "cb_study.optimize(func, n_trials=70, n_jobs=-1)\n",
    "cb_best_params = cb_study.best_params\n",
    "\n",
    "cb_best_params"
   ]
  },
  {
   "cell_type": "code",
   "execution_count": 11,
   "id": "e5fc36508efd1058",
   "metadata": {
    "ExecuteTime": {
     "end_time": "2024-08-19T00:51:48.618700Z",
     "start_time": "2024-08-19T00:12:07.998260Z"
    }
   },
   "outputs": [
    {
     "name": "stderr",
     "output_type": "stream",
     "text": [
      "[I 2024-08-18 21:12:07,999] A new study created in memory with name: no-name-87eabe40-cdc7-4377-aa8a-febac2d00539\n",
      "[I 2024-08-18 21:12:09,901] Trial 2 finished with value: 0.489536822433598 and parameters: {'learning_rate': 0.09668800448674814, 'depth': 4, 'n_estimators': 100}. Best is trial 2 with value: 0.489536822433598.\n",
      "[I 2024-08-18 21:12:12,841] Trial 3 finished with value: 0.5078086689025021 and parameters: {'learning_rate': 0.08102223172172807, 'depth': 5, 'n_estimators': 200}. Best is trial 3 with value: 0.5078086689025021.\n",
      "[I 2024-08-18 21:12:22,602] Trial 4 finished with value: 0.5432276157036702 and parameters: {'learning_rate': 0.09724143244390948, 'depth': 4, 'n_estimators': 800}. Best is trial 4 with value: 0.5432276157036702.\n",
      "[I 2024-08-18 21:12:32,106] Trial 9 finished with value: 0.5139989321196891 and parameters: {'learning_rate': 0.03678630167837482, 'depth': 3, 'n_estimators': 1300}. Best is trial 4 with value: 0.5432276157036702.\n",
      "[I 2024-08-18 21:12:37,051] Trial 11 finished with value: 0.5073917468942423 and parameters: {'learning_rate': 0.06594101661301181, 'depth': 5, 'n_estimators': 200}. Best is trial 4 with value: 0.5432276157036702.\n",
      "[I 2024-08-18 21:12:51,801] Trial 8 finished with value: 0.5991008388178772 and parameters: {'learning_rate': 0.07115022056546626, 'depth': 7, 'n_estimators': 800}. Best is trial 8 with value: 0.5991008388178772.\n",
      "[I 2024-08-18 21:13:03,753] Trial 6 finished with value: 0.6176087841645924 and parameters: {'learning_rate': 0.08273343213296468, 'depth': 9, 'n_estimators': 400}. Best is trial 6 with value: 0.6176087841645924.\n",
      "[I 2024-08-18 21:13:17,281] Trial 10 finished with value: 0.6036293412155012 and parameters: {'learning_rate': 0.0480911759830466, 'depth': 7, 'n_estimators': 1000}. Best is trial 6 with value: 0.6176087841645924.\n",
      "[I 2024-08-18 21:13:25,794] Trial 0 finished with value: 0.6302025785885357 and parameters: {'learning_rate': 0.08418947785649801, 'depth': 7, 'n_estimators': 1400}. Best is trial 0 with value: 0.6302025785885357.\n",
      "[I 2024-08-18 21:13:49,921] Trial 5 finished with value: 0.6163937179196495 and parameters: {'learning_rate': 0.052103586703959995, 'depth': 8, 'n_estimators': 1100}. Best is trial 0 with value: 0.6302025785885357.\n",
      "[I 2024-08-18 21:14:04,957] Trial 13 finished with value: 0.6155301875409995 and parameters: {'learning_rate': 0.06444416511116541, 'depth': 6, 'n_estimators': 1800}. Best is trial 0 with value: 0.6302025785885357.\n",
      "[I 2024-08-18 21:14:17,306] Trial 15 finished with value: 0.6131299062880574 and parameters: {'learning_rate': 0.08660958963080263, 'depth': 8, 'n_estimators': 600}. Best is trial 0 with value: 0.6302025785885357.\n",
      "[I 2024-08-18 21:14:33,723] Trial 16 finished with value: 0.6250425982611242 and parameters: {'learning_rate': 0.09400946708215589, 'depth': 6, 'n_estimators': 1700}. Best is trial 0 with value: 0.6302025785885357.\n",
      "[I 2024-08-18 21:14:33,730] Trial 1 finished with value: 0.5820946027592421 and parameters: {'learning_rate': 0.013329461439517284, 'depth': 8, 'n_estimators': 1600}. Best is trial 0 with value: 0.6302025785885357.\n",
      "[I 2024-08-18 21:14:55,452] Trial 7 finished with value: 0.6285694137963536 and parameters: {'learning_rate': 0.046960742358299376, 'depth': 8, 'n_estimators': 1800}. Best is trial 0 with value: 0.6302025785885357.\n",
      "[I 2024-08-18 21:15:33,747] Trial 12 finished with value: 0.6175808686206598 and parameters: {'learning_rate': 0.03348030868575683, 'depth': 10, 'n_estimators': 700}. Best is trial 0 with value: 0.6302025785885357.\n",
      "[I 2024-08-18 21:16:06,183] Trial 14 finished with value: 0.5821823532221285 and parameters: {'learning_rate': 0.011156848668916542, 'depth': 8, 'n_estimators': 1800}. Best is trial 0 with value: 0.6302025785885357.\n",
      "[I 2024-08-18 21:18:53,302] Trial 17 finished with value: 0.6234332572318466 and parameters: {'learning_rate': 0.019073924691487956, 'depth': 9, 'n_estimators': 1800}. Best is trial 0 with value: 0.6302025785885357.\n",
      "[I 2024-08-18 21:21:15,569] Trial 18 finished with value: 0.6376047549601352 and parameters: {'learning_rate': 0.020372505789840477, 'depth': 10, 'n_estimators': 1600}. Best is trial 18 with value: 0.6376047549601352.\n",
      "[I 2024-08-18 21:21:20,679] Trial 22 finished with value: 0.6333856025924529 and parameters: {'learning_rate': 0.03265304514537915, 'depth': 10, 'n_estimators': 1400}. Best is trial 18 with value: 0.6376047549601352.\n",
      "[I 2024-08-18 21:22:01,077] Trial 19 finished with value: 0.6460281701037389 and parameters: {'learning_rate': 0.02474687001858675, 'depth': 10, 'n_estimators': 1700}. Best is trial 19 with value: 0.6460281701037389.\n",
      "[I 2024-08-18 21:22:03,099] Trial 23 finished with value: 0.6381453776093701 and parameters: {'learning_rate': 0.03875605390737999, 'depth': 10, 'n_estimators': 1400}. Best is trial 19 with value: 0.6460281701037389.\n",
      "[I 2024-08-18 21:23:39,874] Trial 20 finished with value: 0.6436468971677469 and parameters: {'learning_rate': 0.09750972941161946, 'depth': 10, 'n_estimators': 2000}. Best is trial 19 with value: 0.6460281701037389.\n",
      "[I 2024-08-18 21:23:45,104] Trial 21 finished with value: 0.6437026763151886 and parameters: {'learning_rate': 0.09698625919356132, 'depth': 10, 'n_estimators': 2000}. Best is trial 19 with value: 0.6460281701037389.\n",
      "[I 2024-08-18 21:25:05,376] Trial 24 finished with value: 0.6482381990647437 and parameters: {'learning_rate': 0.037520188927861436, 'depth': 10, 'n_estimators': 2000}. Best is trial 24 with value: 0.6482381990647437.\n",
      "[I 2024-08-18 21:25:44,028] Trial 25 finished with value: 0.6383459139066651 and parameters: {'learning_rate': 0.04074282137809434, 'depth': 10, 'n_estimators': 1500}. Best is trial 24 with value: 0.6482381990647437.\n",
      "[I 2024-08-18 21:27:45,347] Trial 27 finished with value: 0.6390187069831772 and parameters: {'learning_rate': 0.02635899280714407, 'depth': 10, 'n_estimators': 1400}. Best is trial 24 with value: 0.6482381990647437.\n",
      "[I 2024-08-18 21:28:04,600] Trial 26 finished with value: 0.6390743031715913 and parameters: {'learning_rate': 0.025246885472118716, 'depth': 10, 'n_estimators': 1500}. Best is trial 24 with value: 0.6482381990647437.\n",
      "[I 2024-08-18 21:28:49,506] Trial 29 finished with value: 0.6356350637299857 and parameters: {'learning_rate': 0.024418229655027098, 'depth': 10, 'n_estimators': 1500}. Best is trial 24 with value: 0.6482381990647437.\n",
      "[I 2024-08-18 21:29:18,959] Trial 30 finished with value: 0.6372404298205255 and parameters: {'learning_rate': 0.04056339917738087, 'depth': 9, 'n_estimators': 2000}. Best is trial 24 with value: 0.6482381990647437.\n",
      "[I 2024-08-18 21:29:22,787] Trial 31 finished with value: 0.6381308906852007 and parameters: {'learning_rate': 0.07236544012799184, 'depth': 9, 'n_estimators': 2000}. Best is trial 24 with value: 0.6482381990647437.\n",
      "[I 2024-08-18 21:30:38,677] Trial 32 finished with value: 0.6353637061570689 and parameters: {'learning_rate': 0.027239720445246904, 'depth': 9, 'n_estimators': 2000}. Best is trial 24 with value: 0.6482381990647437.\n",
      "[I 2024-08-18 21:30:50,518] Trial 28 finished with value: 0.6479437131361634 and parameters: {'learning_rate': 0.026562697273554182, 'depth': 10, 'n_estimators': 2000}. Best is trial 24 with value: 0.6482381990647437.\n",
      "[I 2024-08-18 21:31:15,611] Trial 33 finished with value: 0.6367404984941646 and parameters: {'learning_rate': 0.024683667063130403, 'depth': 9, 'n_estimators': 2000}. Best is trial 24 with value: 0.6482381990647437.\n",
      "[I 2024-08-18 21:33:09,728] Trial 34 finished with value: 0.6333523827347811 and parameters: {'learning_rate': 0.026053634471162795, 'depth': 9, 'n_estimators': 2000}. Best is trial 24 with value: 0.6482381990647437.\n",
      "[I 2024-08-18 21:33:26,906] Trial 35 finished with value: 0.6416567068334403 and parameters: {'learning_rate': 0.058548814485846194, 'depth': 9, 'n_estimators': 2000}. Best is trial 24 with value: 0.6482381990647437.\n",
      "[I 2024-08-18 21:34:08,107] Trial 36 finished with value: 0.6351467904245226 and parameters: {'learning_rate': 0.05937130272783761, 'depth': 9, 'n_estimators': 2000}. Best is trial 24 with value: 0.6482381990647437.\n",
      "[I 2024-08-18 21:34:37,482] Trial 37 finished with value: 0.6343912807851426 and parameters: {'learning_rate': 0.061230641653262, 'depth': 9, 'n_estimators': 2000}. Best is trial 24 with value: 0.6482381990647437.\n",
      "[I 2024-08-18 21:34:40,994] Trial 38 finished with value: 0.6430396609622455 and parameters: {'learning_rate': 0.09042183017405256, 'depth': 9, 'n_estimators': 2000}. Best is trial 24 with value: 0.6482381990647437.\n",
      "[I 2024-08-18 21:35:34,927] Trial 39 finished with value: 0.6402097533979486 and parameters: {'learning_rate': 0.08818227652020252, 'depth': 9, 'n_estimators': 1900}. Best is trial 24 with value: 0.6482381990647437.\n",
      "[I 2024-08-18 21:35:45,390] Trial 40 finished with value: 0.6385180121181591 and parameters: {'learning_rate': 0.058954653831553294, 'depth': 9, 'n_estimators': 1900}. Best is trial 24 with value: 0.6482381990647437.\n",
      "[I 2024-08-18 21:36:04,860] Trial 43 finished with value: 0.5944262872336868 and parameters: {'learning_rate': 0.01648599028601736, 'depth': 8, 'n_estimators': 1700}. Best is trial 24 with value: 0.6482381990647437.\n",
      "[I 2024-08-18 21:36:08,300] Trial 41 finished with value: 0.6207170396240166 and parameters: {'learning_rate': 0.016913874010541063, 'depth': 9, 'n_estimators': 1900}. Best is trial 24 with value: 0.6482381990647437.\n",
      "[I 2024-08-18 21:36:14,637] Trial 45 finished with value: 0.5717735814249367 and parameters: {'learning_rate': 0.015877107957192056, 'depth': 7, 'n_estimators': 1700}. Best is trial 24 with value: 0.6482381990647437.\n",
      "[I 2024-08-18 21:36:17,710] Trial 46 finished with value: 0.5723794124304963 and parameters: {'learning_rate': 0.018312522172048346, 'depth': 7, 'n_estimators': 1700}. Best is trial 24 with value: 0.6482381990647437.\n",
      "[I 2024-08-18 21:36:47,938] Trial 44 finished with value: 0.5854685032670368 and parameters: {'learning_rate': 0.01504781895738918, 'depth': 8, 'n_estimators': 1700}. Best is trial 24 with value: 0.6482381990647437.\n",
      "[I 2024-08-18 21:37:17,366] Trial 47 finished with value: 0.5645979806764176 and parameters: {'learning_rate': 0.014480167102193013, 'depth': 7, 'n_estimators': 1700}. Best is trial 24 with value: 0.6482381990647437.\n",
      "[I 2024-08-18 21:37:35,803] Trial 42 finished with value: 0.6110025173980766 and parameters: {'learning_rate': 0.016144717614858344, 'depth': 9, 'n_estimators': 1700}. Best is trial 24 with value: 0.6482381990647437.\n",
      "[I 2024-08-18 21:41:14,009] Trial 51 finished with value: 0.6414979764240714 and parameters: {'learning_rate': 0.09997247421205609, 'depth': 10, 'n_estimators': 1100}. Best is trial 24 with value: 0.6482381990647437.\n",
      "[I 2024-08-18 21:42:16,689] Trial 53 finished with value: 0.6465321643005646 and parameters: {'learning_rate': 0.07919110136397012, 'depth': 10, 'n_estimators': 1200}. Best is trial 24 with value: 0.6482381990647437.\n",
      "[I 2024-08-18 21:42:34,977] Trial 57 finished with value: 0.523110409717733 and parameters: {'learning_rate': 0.07972286361594302, 'depth': 3, 'n_estimators': 1000}. Best is trial 24 with value: 0.6482381990647437.\n",
      "[I 2024-08-18 21:42:37,784] Trial 55 finished with value: 0.6472110943945342 and parameters: {'learning_rate': 0.07801407701565784, 'depth': 10, 'n_estimators': 1100}. Best is trial 24 with value: 0.6482381990647437.\n",
      "[I 2024-08-18 21:42:46,416] Trial 54 finished with value: 0.6384392343907366 and parameters: {'learning_rate': 0.09794985568262715, 'depth': 10, 'n_estimators': 1200}. Best is trial 24 with value: 0.6482381990647437.\n",
      "[I 2024-08-18 21:43:11,523] Trial 48 finished with value: 0.6381444421671525 and parameters: {'learning_rate': 0.09997052907524392, 'depth': 10, 'n_estimators': 1700}. Best is trial 24 with value: 0.6482381990647437.\n",
      "[I 2024-08-18 21:43:31,896] Trial 61 finished with value: 0.5489800531997587 and parameters: {'learning_rate': 0.07549757374411117, 'depth': 4, 'n_estimators': 900}. Best is trial 24 with value: 0.6482381990647437.\n",
      "[I 2024-08-18 21:43:34,839] Trial 49 finished with value: 0.6397266667739144 and parameters: {'learning_rate': 0.09792566700243674, 'depth': 10, 'n_estimators': 1700}. Best is trial 24 with value: 0.6482381990647437.\n",
      "[I 2024-08-18 21:43:45,349] Trial 50 finished with value: 0.6437833588045397 and parameters: {'learning_rate': 0.09759321243678219, 'depth': 10, 'n_estimators': 1700}. Best is trial 24 with value: 0.6482381990647437.\n",
      "[I 2024-08-18 21:45:05,721] Trial 52 finished with value: 0.6379266614950904 and parameters: {'learning_rate': 0.0989210697935527, 'depth': 10, 'n_estimators': 1800}. Best is trial 24 with value: 0.6482381990647437.\n",
      "[I 2024-08-18 21:47:29,464] Trial 60 finished with value: 0.6390416206465513 and parameters: {'learning_rate': 0.0795266915793245, 'depth': 10, 'n_estimators': 900}. Best is trial 24 with value: 0.6482381990647437.\n",
      "[I 2024-08-18 21:48:39,997] Trial 58 finished with value: 0.6517643946077083 and parameters: {'learning_rate': 0.09556004903941957, 'depth': 10, 'n_estimators': 1200}. Best is trial 58 with value: 0.6517643946077083.\n",
      "[I 2024-08-18 21:48:43,810] Trial 59 finished with value: 0.6450337048520864 and parameters: {'learning_rate': 0.07757948364251521, 'depth': 10, 'n_estimators': 1200}. Best is trial 58 with value: 0.6517643946077083.\n",
      "[I 2024-08-18 21:49:17,247] Trial 67 finished with value: 0.5551658304485868 and parameters: {'learning_rate': 0.046149079745218, 'depth': 5, 'n_estimators': 1200}. Best is trial 58 with value: 0.6517643946077083.\n",
      "[I 2024-08-18 21:49:34,769] Trial 62 finished with value: 0.6405339207524413 and parameters: {'learning_rate': 0.05142182687113024, 'depth': 10, 'n_estimators': 1200}. Best is trial 58 with value: 0.6517643946077083.\n",
      "[I 2024-08-18 21:49:50,505] Trial 64 finished with value: 0.6388533926050365 and parameters: {'learning_rate': 0.05107561307824925, 'depth': 10, 'n_estimators': 1200}. Best is trial 58 with value: 0.6517643946077083.\n",
      "[I 2024-08-18 21:50:01,491] Trial 63 finished with value: 0.6430180823628076 and parameters: {'learning_rate': 0.07889875039756788, 'depth': 10, 'n_estimators': 1300}. Best is trial 58 with value: 0.6517643946077083.\n",
      "[I 2024-08-18 21:50:08,660] Trial 56 finished with value: 0.6494774106796449 and parameters: {'learning_rate': 0.07551539776518434, 'depth': 10, 'n_estimators': 1900}. Best is trial 58 with value: 0.6517643946077083.\n",
      "[I 2024-08-18 21:50:10,680] Trial 65 finished with value: 0.6369204006562843 and parameters: {'learning_rate': 0.05180795208357107, 'depth': 10, 'n_estimators': 1200}. Best is trial 58 with value: 0.6517643946077083.\n",
      "[I 2024-08-18 21:51:16,826] Trial 66 finished with value: 0.6392440838323711 and parameters: {'learning_rate': 0.048522556755685516, 'depth': 10, 'n_estimators': 1200}. Best is trial 58 with value: 0.6517643946077083.\n",
      "[I 2024-08-18 21:51:40,997] Trial 68 finished with value: 0.6464151683358793 and parameters: {'learning_rate': 0.08344818931655866, 'depth': 10, 'n_estimators': 1200}. Best is trial 58 with value: 0.6517643946077083.\n",
      "[I 2024-08-18 21:51:48,611] Trial 69 finished with value: 0.6345812378564873 and parameters: {'learning_rate': 0.03167073573889942, 'depth': 10, 'n_estimators': 1200}. Best is trial 58 with value: 0.6517643946077083.\n"
     ]
    },
    {
     "data": {
      "text/plain": [
       "{'learning_rate': 0.09556004903941957, 'depth': 10, 'n_estimators': 1200}"
      ]
     },
     "execution_count": 11,
     "metadata": {},
     "output_type": "execute_result"
    }
   ],
   "source": [
    "cb_study = optuna.create_study(direction=\"maximize\")\n",
    "\n",
    "func = lambda trial: catboost_objective(\n",
    "    trial, X_train, y_train, proportion, 0.47, selected_score=\"precision\"\n",
    ")\n",
    "\n",
    "cb_study.optimize(func, n_trials=70, n_jobs=-1)\n",
    "cb_precision_best_params = cb_study.best_params\n",
    "\n",
    "cb_precision_best_params"
   ]
  },
  {
   "cell_type": "code",
   "execution_count": 12,
   "id": "976d86880e238844",
   "metadata": {
    "ExecuteTime": {
     "end_time": "2024-08-19T00:59:02.804965Z",
     "start_time": "2024-08-19T00:51:48.720033Z"
    }
   },
   "outputs": [
    {
     "name": "stderr",
     "output_type": "stream",
     "text": [
      "[I 2024-08-18 21:51:48,721] A new study created in memory with name: no-name-db65673d-463f-4419-ae2a-8759c464ca13\n",
      "[I 2024-08-18 21:52:11,869] Trial 6 finished with value: 0.6058839216859357 and parameters: {'learning_rate': 0.05615269731077033, 'depth': 5, 'n_estimators': 900}. Best is trial 6 with value: 0.6058839216859357.\n",
      "[I 2024-08-18 21:52:15,557] Trial 1 finished with value: 0.5991011038723856 and parameters: {'learning_rate': 0.0735209749622004, 'depth': 3, 'n_estimators': 1700}. Best is trial 6 with value: 0.6058839216859357.\n",
      "[I 2024-08-18 21:52:16,634] Trial 3 finished with value: 0.6077843794201928 and parameters: {'learning_rate': 0.024366828286805843, 'depth': 5, 'n_estimators': 1100}. Best is trial 3 with value: 0.6077843794201928.\n",
      "[I 2024-08-18 21:52:19,668] Trial 9 finished with value: 0.6036330505962677 and parameters: {'learning_rate': 0.09221538689899479, 'depth': 4, 'n_estimators': 200}. Best is trial 3 with value: 0.6077843794201928.\n",
      "[I 2024-08-18 21:52:27,192] Trial 10 finished with value: 0.6056312678947378 and parameters: {'learning_rate': 0.09963417625034732, 'depth': 4, 'n_estimators': 500}. Best is trial 3 with value: 0.6077843794201928.\n",
      "[I 2024-08-18 21:52:43,988] Trial 11 finished with value: 0.5990388266918525 and parameters: {'learning_rate': 0.09343325072932246, 'depth': 10, 'n_estimators': 100}. Best is trial 3 with value: 0.6077843794201928.\n",
      "[I 2024-08-18 21:52:56,086] Trial 8 finished with value: 0.593273098602029 and parameters: {'learning_rate': 0.08226448073617922, 'depth': 6, 'n_estimators': 1100}. Best is trial 3 with value: 0.6077843794201928.\n",
      "[I 2024-08-18 21:53:19,730] Trial 14 finished with value: 0.614013871140161 and parameters: {'learning_rate': 0.04989355178916772, 'depth': 7, 'n_estimators': 400}. Best is trial 14 with value: 0.614013871140161.\n",
      "[I 2024-08-18 21:53:41,057] Trial 4 finished with value: 0.5993833413176961 and parameters: {'learning_rate': 0.05804051862089487, 'depth': 8, 'n_estimators': 1200}. Best is trial 14 with value: 0.614013871140161.\n",
      "[I 2024-08-18 21:53:57,993] Trial 12 finished with value: 0.602761495447061 and parameters: {'learning_rate': 0.03563728626477189, 'depth': 7, 'n_estimators': 1500}. Best is trial 14 with value: 0.614013871140161.\n",
      "[I 2024-08-18 21:54:03,114] Trial 13 finished with value: 0.5961922780180031 and parameters: {'learning_rate': 0.06983916496727535, 'depth': 7, 'n_estimators': 1300}. Best is trial 14 with value: 0.614013871140161.\n",
      "[I 2024-08-18 21:54:07,775] Trial 15 finished with value: 0.6001494404261427 and parameters: {'learning_rate': 0.09924307569528655, 'depth': 9, 'n_estimators': 300}. Best is trial 14 with value: 0.614013871140161.\n",
      "[I 2024-08-18 21:54:18,518] Trial 7 finished with value: 0.5870829630375936 and parameters: {'learning_rate': 0.0687193606893439, 'depth': 10, 'n_estimators': 600}. Best is trial 14 with value: 0.614013871140161.\n",
      "[I 2024-08-18 21:54:34,361] Trial 0 finished with value: 0.5842202760886724 and parameters: {'learning_rate': 0.09541492158273503, 'depth': 8, 'n_estimators': 1700}. Best is trial 14 with value: 0.614013871140161.\n",
      "[I 2024-08-18 21:54:43,002] Trial 19 finished with value: 0.6024901785701785 and parameters: {'learning_rate': 0.01161218524549451, 'depth': 6, 'n_estimators': 700}. Best is trial 14 with value: 0.614013871140161.\n",
      "[I 2024-08-18 21:54:59,016] Trial 20 finished with value: 0.6022915104605674 and parameters: {'learning_rate': 0.01113860226688263, 'depth': 6, 'n_estimators': 800}. Best is trial 14 with value: 0.614013871140161.\n",
      "[I 2024-08-18 21:55:05,730] Trial 16 finished with value: 0.605581172259879 and parameters: {'learning_rate': 0.06310841362496473, 'depth': 7, 'n_estimators': 1200}. Best is trial 14 with value: 0.614013871140161.\n",
      "[I 2024-08-18 21:55:09,298] Trial 2 finished with value: 0.5922762049319015 and parameters: {'learning_rate': 0.053300236896015006, 'depth': 8, 'n_estimators': 2000}. Best is trial 14 with value: 0.614013871140161.\n",
      "[I 2024-08-18 21:55:11,491] Trial 22 finished with value: 0.6091086380558476 and parameters: {'learning_rate': 0.032709663768171415, 'depth': 5, 'n_estimators': 800}. Best is trial 14 with value: 0.614013871140161.\n",
      "[I 2024-08-18 21:55:13,823] Trial 21 finished with value: 0.6054599276798359 and parameters: {'learning_rate': 0.014307575195953104, 'depth': 6, 'n_estimators': 800}. Best is trial 14 with value: 0.614013871140161.\n",
      "[I 2024-08-18 21:55:22,419] Trial 25 finished with value: 0.6096305457227229 and parameters: {'learning_rate': 0.03476834838064835, 'depth': 5, 'n_estimators': 400}. Best is trial 14 with value: 0.614013871140161.\n",
      "[I 2024-08-18 21:55:24,574] Trial 26 finished with value: 0.6065418123879309 and parameters: {'learning_rate': 0.04067281462335469, 'depth': 5, 'n_estimators': 400}. Best is trial 14 with value: 0.614013871140161.\n",
      "[I 2024-08-18 21:55:26,706] Trial 27 finished with value: 0.6032102625975437 and parameters: {'learning_rate': 0.043658556467820187, 'depth': 5, 'n_estimators': 400}. Best is trial 14 with value: 0.614013871140161.\n",
      "[I 2024-08-18 21:55:31,091] Trial 17 finished with value: 0.606501314553239 and parameters: {'learning_rate': 0.01004266050753734, 'depth': 9, 'n_estimators': 500}. Best is trial 14 with value: 0.614013871140161.\n",
      "[I 2024-08-18 21:55:33,517] Trial 31 finished with value: 0.5852658390732607 and parameters: {'learning_rate': 0.030636181804920545, 'depth': 4, 'n_estimators': 100}. Best is trial 14 with value: 0.614013871140161.\n",
      "[I 2024-08-18 21:55:34,871] Trial 28 finished with value: 0.6125893288557942 and parameters: {'learning_rate': 0.04336070067839601, 'depth': 5, 'n_estimators': 400}. Best is trial 14 with value: 0.614013871140161.\n",
      "[I 2024-08-18 21:55:36,360] Trial 29 finished with value: 0.6066265184878284 and parameters: {'learning_rate': 0.04318787401213062, 'depth': 4, 'n_estimators': 500}. Best is trial 14 with value: 0.614013871140161.\n",
      "[I 2024-08-18 21:55:40,115] Trial 34 finished with value: 0.599012321856091 and parameters: {'learning_rate': 0.0489563292083345, 'depth': 3, 'n_estimators': 200}. Best is trial 14 with value: 0.614013871140161.\n",
      "[I 2024-08-18 21:55:40,485] Trial 33 finished with value: 0.5974744669262932 and parameters: {'learning_rate': 0.04783604057286144, 'depth': 3, 'n_estimators': 300}. Best is trial 14 with value: 0.614013871140161.\n",
      "[I 2024-08-18 21:55:40,689] Trial 30 finished with value: 0.6079907561984753 and parameters: {'learning_rate': 0.03055339937490573, 'depth': 4, 'n_estimators': 600}. Best is trial 14 with value: 0.614013871140161.\n",
      "[I 2024-08-18 21:55:43,946] Trial 23 finished with value: 0.6043562041296575 and parameters: {'learning_rate': 0.032499254272626316, 'depth': 5, 'n_estimators': 1400}. Best is trial 14 with value: 0.614013871140161.\n",
      "[I 2024-08-18 21:55:50,003] Trial 32 finished with value: 0.6022760504233264 and parameters: {'learning_rate': 0.02292743051806742, 'depth': 3, 'n_estimators': 900}. Best is trial 14 with value: 0.614013871140161.\n",
      "[I 2024-08-18 21:55:58,733] Trial 35 finished with value: 0.601884769714103 and parameters: {'learning_rate': 0.024386344983284236, 'depth': 7, 'n_estimators': 300}. Best is trial 14 with value: 0.614013871140161.\n",
      "[I 2024-08-18 21:56:05,315] Trial 36 finished with value: 0.604663724276523 and parameters: {'learning_rate': 0.023739649769634802, 'depth': 6, 'n_estimators': 600}. Best is trial 14 with value: 0.614013871140161.\n",
      "[I 2024-08-18 21:56:06,704] Trial 18 finished with value: 0.6046177580768652 and parameters: {'learning_rate': 0.010277297745409392, 'depth': 9, 'n_estimators': 700}. Best is trial 14 with value: 0.614013871140161.\n",
      "[I 2024-08-18 21:56:07,502] Trial 24 finished with value: 0.5924536109717666 and parameters: {'learning_rate': 0.04118500731006849, 'depth': 5, 'n_estimators': 2000}. Best is trial 14 with value: 0.614013871140161.\n",
      "[I 2024-08-18 21:56:20,775] Trial 39 finished with value: 0.6111173624916436 and parameters: {'learning_rate': 0.023647764337422855, 'depth': 6, 'n_estimators': 700}. Best is trial 14 with value: 0.614013871140161.\n",
      "[I 2024-08-18 21:56:22,963] Trial 38 finished with value: 0.6055598778594338 and parameters: {'learning_rate': 0.03643104067521336, 'depth': 6, 'n_estimators': 900}. Best is trial 14 with value: 0.614013871140161.\n",
      "[I 2024-08-18 21:56:29,113] Trial 40 finished with value: 0.6071208005251842 and parameters: {'learning_rate': 0.03866970327092633, 'depth': 6, 'n_estimators': 700}. Best is trial 14 with value: 0.614013871140161.\n",
      "[I 2024-08-18 21:56:33,359] Trial 41 finished with value: 0.6083167194700343 and parameters: {'learning_rate': 0.03801019641331905, 'depth': 5, 'n_estimators': 900}. Best is trial 14 with value: 0.614013871140161.\n",
      "[I 2024-08-18 21:56:37,355] Trial 37 finished with value: 0.6090173315464972 and parameters: {'learning_rate': 0.022428403199902865, 'depth': 7, 'n_estimators': 900}. Best is trial 14 with value: 0.614013871140161.\n",
      "[I 2024-08-18 21:56:51,738] Trial 48 finished with value: 0.6059319193759165 and parameters: {'learning_rate': 0.04921454163293103, 'depth': 5, 'n_estimators': 500}. Best is trial 14 with value: 0.614013871140161.\n",
      "[I 2024-08-18 21:57:03,375] Trial 42 finished with value: 0.6055927702727775 and parameters: {'learning_rate': 0.03695505765368187, 'depth': 5, 'n_estimators': 1900}. Best is trial 14 with value: 0.614013871140161.\n",
      "[I 2024-08-18 21:57:07,716] Trial 46 finished with value: 0.6037224375911319 and parameters: {'learning_rate': 0.018455592141291725, 'depth': 8, 'n_estimators': 400}. Best is trial 14 with value: 0.614013871140161.\n",
      "[I 2024-08-18 21:57:11,879] Trial 47 finished with value: 0.6031358721650173 and parameters: {'learning_rate': 0.017649403346463963, 'depth': 8, 'n_estimators': 400}. Best is trial 14 with value: 0.614013871140161.\n",
      "[I 2024-08-18 21:57:20,953] Trial 44 finished with value: 0.6090711921287344 and parameters: {'learning_rate': 0.01830409081336122, 'depth': 7, 'n_estimators': 1000}. Best is trial 14 with value: 0.614013871140161.\n",
      "[I 2024-08-18 21:57:25,384] Trial 53 finished with value: 0.6016034599528308 and parameters: {'learning_rate': 0.058994895452056315, 'depth': 4, 'n_estimators': 200}. Best is trial 14 with value: 0.614013871140161.\n",
      "[I 2024-08-18 21:57:29,745] Trial 51 finished with value: 0.6085941029995234 and parameters: {'learning_rate': 0.0605730361065667, 'depth': 4, 'n_estimators': 1000}. Best is trial 14 with value: 0.614013871140161.\n",
      "[I 2024-08-18 21:57:30,356] Trial 49 finished with value: 0.6067639471296321 and parameters: {'learning_rate': 0.052871663128503055, 'depth': 8, 'n_estimators': 400}. Best is trial 14 with value: 0.614013871140161.\n",
      "[I 2024-08-18 21:57:33,602] Trial 52 finished with value: 0.6088093908529537 and parameters: {'learning_rate': 0.06078529420682987, 'depth': 4, 'n_estimators': 1000}. Best is trial 14 with value: 0.614013871140161.\n",
      "[I 2024-08-18 21:57:41,466] Trial 50 finished with value: 0.6114618977446687 and parameters: {'learning_rate': 0.05944889448841198, 'depth': 8, 'n_estimators': 400}. Best is trial 14 with value: 0.614013871140161.\n",
      "[I 2024-08-18 21:57:44,505] Trial 43 finished with value: 0.5987502628985311 and parameters: {'learning_rate': 0.051188097708668626, 'depth': 8, 'n_estimators': 1000}. Best is trial 14 with value: 0.614013871140161.\n",
      "[I 2024-08-18 21:57:48,749] Trial 54 finished with value: 0.6066262895504012 and parameters: {'learning_rate': 0.052695124552064494, 'depth': 6, 'n_estimators': 600}. Best is trial 14 with value: 0.614013871140161.\n",
      "[I 2024-08-18 21:57:52,850] Trial 55 finished with value: 0.6110548063300089 and parameters: {'learning_rate': 0.05277799823732271, 'depth': 6, 'n_estimators': 600}. Best is trial 14 with value: 0.614013871140161.\n",
      "[I 2024-08-18 21:57:53,090] Trial 56 finished with value: 0.6107224238198989 and parameters: {'learning_rate': 0.02824750479199597, 'depth': 6, 'n_estimators': 600}. Best is trial 14 with value: 0.614013871140161.\n",
      "[I 2024-08-18 21:57:56,457] Trial 57 finished with value: 0.6111940045561701 and parameters: {'learning_rate': 0.03325424047809387, 'depth': 6, 'n_estimators': 600}. Best is trial 14 with value: 0.614013871140161.\n",
      "[I 2024-08-18 21:58:04,349] Trial 58 finished with value: 0.6080647336327931 and parameters: {'learning_rate': 0.05354002529166754, 'depth': 6, 'n_estimators': 600}. Best is trial 14 with value: 0.614013871140161.\n",
      "[I 2024-08-18 21:58:07,245] Trial 59 finished with value: 0.6120055231822483 and parameters: {'learning_rate': 0.027049770353028163, 'depth': 6, 'n_estimators': 600}. Best is trial 14 with value: 0.614013871140161.\n",
      "[I 2024-08-18 21:58:10,226] Trial 61 finished with value: 0.6191611738352691 and parameters: {'learning_rate': 0.07930597072928085, 'depth': 7, 'n_estimators': 300}. Best is trial 61 with value: 0.6191611738352691.\n",
      "[I 2024-08-18 21:58:16,219] Trial 64 finished with value: 0.6039781064928187 and parameters: {'learning_rate': 0.06754365374804322, 'depth': 7, 'n_estimators': 200}. Best is trial 61 with value: 0.6191611738352691.\n",
      "[I 2024-08-18 21:58:19,153] Trial 65 finished with value: 0.6036910606466219 and parameters: {'learning_rate': 0.07979835566934754, 'depth': 7, 'n_estimators': 200}. Best is trial 61 with value: 0.6191611738352691.\n",
      "[I 2024-08-18 21:58:22,282] Trial 67 finished with value: 0.604221009667068 and parameters: {'learning_rate': 0.08731704560621638, 'depth': 7, 'n_estimators': 100}. Best is trial 61 with value: 0.6191611738352691.\n",
      "[I 2024-08-18 21:58:22,297] Trial 66 finished with value: 0.6046229279083699 and parameters: {'learning_rate': 0.07861419330195847, 'depth': 7, 'n_estimators': 200}. Best is trial 61 with value: 0.6191611738352691.\n",
      "[I 2024-08-18 21:58:29,530] Trial 60 finished with value: 0.6011088219702924 and parameters: {'learning_rate': 0.0659173739284717, 'depth': 7, 'n_estimators': 700}. Best is trial 61 with value: 0.6191611738352691.\n",
      "[I 2024-08-18 21:58:33,574] Trial 62 finished with value: 0.5985763185159774 and parameters: {'learning_rate': 0.06926893408258832, 'depth': 7, 'n_estimators': 700}. Best is trial 61 with value: 0.6191611738352691.\n",
      "[I 2024-08-18 21:58:36,466] Trial 63 finished with value: 0.6016495407040585 and parameters: {'learning_rate': 0.06598489027640753, 'depth': 7, 'n_estimators': 700}. Best is trial 61 with value: 0.6191611738352691.\n",
      "[I 2024-08-18 21:58:43,274] Trial 5 finished with value: 0.5836073694358059 and parameters: {'learning_rate': 0.083442558413138, 'depth': 10, 'n_estimators': 1700}. Best is trial 61 with value: 0.6191611738352691.\n",
      "[I 2024-08-18 21:58:53,858] Trial 45 finished with value: 0.5923459523223459 and parameters: {'learning_rate': 0.052463216208638745, 'depth': 8, 'n_estimators': 1800}. Best is trial 61 with value: 0.6191611738352691.\n",
      "[I 2024-08-18 21:59:01,842] Trial 68 finished with value: 0.5928891227597075 and parameters: {'learning_rate': 0.07762777755172251, 'depth': 9, 'n_estimators': 500}. Best is trial 61 with value: 0.6191611738352691.\n",
      "[I 2024-08-18 21:59:02,801] Trial 69 finished with value: 0.6014796275390678 and parameters: {'learning_rate': 0.07303758291504814, 'depth': 9, 'n_estimators': 500}. Best is trial 61 with value: 0.6191611738352691.\n"
     ]
    },
    {
     "data": {
      "text/plain": [
       "{'learning_rate': 0.07930597072928085, 'depth': 7, 'n_estimators': 300}"
      ]
     },
     "execution_count": 12,
     "metadata": {},
     "output_type": "execute_result"
    }
   ],
   "source": [
    "cb_study = optuna.create_study(direction=\"maximize\")\n",
    "\n",
    "func = lambda trial: catboost_objective(\n",
    "    trial, X_train, y_train, proportion, 0.47, selected_score=\"f1\"\n",
    ")\n",
    "\n",
    "cb_study.optimize(func, n_trials=70, n_jobs=-1)\n",
    "cb_f1_best_params = cb_study.best_params\n",
    "\n",
    "cb_f1_best_params"
   ]
  },
  {
   "cell_type": "markdown",
   "id": "2feb3cc14be7bc64",
   "metadata": {},
   "source": "#### 5.1.3 Threshold 0.5"
  },
  {
   "cell_type": "code",
   "execution_count": 13,
   "id": "67e131edad02d03d",
   "metadata": {
    "ExecuteTime": {
     "end_time": "2024-08-19T01:02:39.452807Z",
     "start_time": "2024-08-19T00:59:02.828208Z"
    }
   },
   "outputs": [
    {
     "name": "stderr",
     "output_type": "stream",
     "text": [
      "[I 2024-08-18 21:59:02,829] A new study created in memory with name: no-name-81551427-82ef-41a4-9426-cbbf8244a275\n",
      "[I 2024-08-18 21:59:25,085] Trial 6 finished with value: 0.7377597840755735 and parameters: {'learning_rate': 0.012802426507845693, 'depth': 4, 'n_estimators': 1100}. Best is trial 6 with value: 0.7377597840755735.\n",
      "[I 2024-08-18 21:59:30,886] Trial 7 finished with value: 0.6059035701140965 and parameters: {'learning_rate': 0.08170126920484971, 'depth': 7, 'n_estimators': 500}. Best is trial 6 with value: 0.7377597840755735.\n",
      "[I 2024-08-18 21:59:36,029] Trial 1 finished with value: 0.6269512943197153 and parameters: {'learning_rate': 0.09204997816975802, 'depth': 3, 'n_estimators': 2000}. Best is trial 6 with value: 0.7377597840755735.\n",
      "[I 2024-08-18 21:59:36,492] Trial 2 finished with value: 0.6037958532695376 and parameters: {'learning_rate': 0.06374421320485082, 'depth': 7, 'n_estimators': 600}. Best is trial 6 with value: 0.7377597840755735.\n",
      "[I 2024-08-18 21:59:40,146] Trial 5 finished with value: 0.6051846399214821 and parameters: {'learning_rate': 0.06490986260108371, 'depth': 5, 'n_estimators': 1400}. Best is trial 6 with value: 0.7377597840755735.\n",
      "[I 2024-08-18 21:59:42,573] Trial 9 finished with value: 0.7209225861857441 and parameters: {'learning_rate': 0.07282134060327344, 'depth': 3, 'n_estimators': 700}. Best is trial 6 with value: 0.7377597840755735.\n",
      "[I 2024-08-18 21:59:52,878] Trial 13 finished with value: 0.7370653907496013 and parameters: {'learning_rate': 0.02883279611970776, 'depth': 4, 'n_estimators': 500}. Best is trial 6 with value: 0.7377597840755735.\n",
      "[I 2024-08-18 21:59:56,196] Trial 4 finished with value: 0.5974751564225249 and parameters: {'learning_rate': 0.04680167466266254, 'depth': 8, 'n_estimators': 600}. Best is trial 6 with value: 0.7377597840755735.\n",
      "[I 2024-08-18 21:59:58,864] Trial 12 finished with value: 0.6963734511102933 and parameters: {'learning_rate': 0.0314364080643323, 'depth': 6, 'n_estimators': 500}. Best is trial 6 with value: 0.7377597840755735.\n",
      "[I 2024-08-18 22:00:05,016] Trial 10 finished with value: 0.6788197767145135 and parameters: {'learning_rate': 0.03983429802381129, 'depth': 4, 'n_estimators': 1400}. Best is trial 6 with value: 0.7377597840755735.\n",
      "[I 2024-08-18 22:00:16,951] Trial 15 finished with value: 0.7286443381180223 and parameters: {'learning_rate': 0.031049470730067988, 'depth': 3, 'n_estimators': 1200}. Best is trial 6 with value: 0.7377597840755735.\n",
      "[I 2024-08-18 22:00:27,263] Trial 14 finished with value: 0.5946730462519936 and parameters: {'learning_rate': 0.08663161813304524, 'depth': 5, 'n_estimators': 1200}. Best is trial 6 with value: 0.7377597840755735.\n",
      "[I 2024-08-18 22:00:31,292] Trial 17 finished with value: 0.7223334560176665 and parameters: {'learning_rate': 0.01239340352473723, 'depth': 10, 'n_estimators': 100}. Best is trial 6 with value: 0.7377597840755735.\n",
      "[I 2024-08-18 22:00:34,904] Trial 3 finished with value: 0.5974800637958533 and parameters: {'learning_rate': 0.029618802942748768, 'depth': 7, 'n_estimators': 1600}. Best is trial 6 with value: 0.7377597840755735.\n",
      "[I 2024-08-18 22:00:43,459] Trial 18 finished with value: 0.7174162679425837 and parameters: {'learning_rate': 0.015773667978846686, 'depth': 10, 'n_estimators': 100}. Best is trial 6 with value: 0.7377597840755735.\n",
      "[I 2024-08-18 22:00:43,832] Trial 19 finished with value: 0.7321482026745185 and parameters: {'learning_rate': 0.011655665837688994, 'depth': 9, 'n_estimators': 100}. Best is trial 6 with value: 0.7377597840755735.\n",
      "[I 2024-08-18 22:00:57,125] Trial 20 finished with value: 0.7272334682860999 and parameters: {'learning_rate': 0.015633811995516375, 'depth': 5, 'n_estimators': 900}. Best is trial 6 with value: 0.7377597840755735.\n",
      "[I 2024-08-18 22:01:00,479] Trial 21 finished with value: 0.7370531223162802 and parameters: {'learning_rate': 0.010476371436309752, 'depth': 5, 'n_estimators': 900}. Best is trial 6 with value: 0.7377597840755735.\n",
      "[I 2024-08-18 22:01:05,343] Trial 8 finished with value: 0.554712305238621 and parameters: {'learning_rate': 0.0803598214267925, 'depth': 7, 'n_estimators': 1700}. Best is trial 6 with value: 0.7377597840755735.\n",
      "[I 2024-08-18 22:01:08,729] Trial 22 finished with value: 0.7202159244264508 and parameters: {'learning_rate': 0.01993026171487984, 'depth': 5, 'n_estimators': 900}. Best is trial 6 with value: 0.7377597840755735.\n",
      "[I 2024-08-18 22:01:08,766] Trial 23 finished with value: 0.7061808367071525 and parameters: {'learning_rate': 0.02285372978257732, 'depth': 5, 'n_estimators': 900}. Best is trial 6 with value: 0.7377597840755735.\n",
      "[I 2024-08-18 22:01:12,310] Trial 16 finished with value: 0.6823653539443013 and parameters: {'learning_rate': 0.014497225266044841, 'depth': 10, 'n_estimators': 300}. Best is trial 6 with value: 0.7377597840755735.\n",
      "[I 2024-08-18 22:01:14,873] Trial 27 finished with value: 0.7419629493313703 and parameters: {'learning_rate': 0.04982459297794933, 'depth': 4, 'n_estimators': 300}. Best is trial 27 with value: 0.7419629493313703.\n",
      "[I 2024-08-18 22:01:15,792] Trial 24 finished with value: 0.7307324254692676 and parameters: {'learning_rate': 0.023388791547595468, 'depth': 4, 'n_estimators': 900}. Best is trial 27 with value: 0.7419629493313703.\n",
      "[I 2024-08-18 22:01:20,798] Trial 30 finished with value: 0.7426671574039995 and parameters: {'learning_rate': 0.048835239942500316, 'depth': 4, 'n_estimators': 300}. Best is trial 30 with value: 0.7426671574039995.\n",
      "[I 2024-08-18 22:01:21,801] Trial 31 finished with value: 0.7342436510857564 and parameters: {'learning_rate': 0.05061829311728713, 'depth': 4, 'n_estimators': 300}. Best is trial 30 with value: 0.7426671574039995.\n",
      "[I 2024-08-18 22:01:23,306] Trial 26 finished with value: 0.7272310145994357 and parameters: {'learning_rate': 0.023401522907912642, 'depth': 4, 'n_estimators': 900}. Best is trial 30 with value: 0.7426671574039995.\n",
      "[I 2024-08-18 22:01:26,715] Trial 32 finished with value: 0.7370555760029445 and parameters: {'learning_rate': 0.05105666073408412, 'depth': 4, 'n_estimators': 300}. Best is trial 30 with value: 0.7426671574039995.\n",
      "[I 2024-08-18 22:01:30,532] Trial 28 finished with value: 0.692165378481168 and parameters: {'learning_rate': 0.041094431232158724, 'depth': 4, 'n_estimators': 1100}. Best is trial 30 with value: 0.7426671574039995.\n",
      "[I 2024-08-18 22:01:31,856] Trial 11 finished with value: 0.5504993252361674 and parameters: {'learning_rate': 0.08924815815976458, 'depth': 7, 'n_estimators': 2000}. Best is trial 30 with value: 0.7426671574039995.\n",
      "[I 2024-08-18 22:01:32,596] Trial 33 finished with value: 0.7097067844436266 and parameters: {'learning_rate': 0.04283767085358589, 'depth': 6, 'n_estimators': 300}. Best is trial 30 with value: 0.7426671574039995.\n",
      "[I 2024-08-18 22:01:33,905] Trial 29 finished with value: 0.6921580174211753 and parameters: {'learning_rate': 0.04224959411457637, 'depth': 4, 'n_estimators': 1100}. Best is trial 30 with value: 0.7426671574039995.\n",
      "[I 2024-08-18 22:01:34,068] Trial 34 finished with value: 0.706902220586431 and parameters: {'learning_rate': 0.040726290110685175, 'depth': 6, 'n_estimators': 300}. Best is trial 30 with value: 0.7426671574039995.\n",
      "[I 2024-08-18 22:01:36,688] Trial 25 finished with value: 0.6977671451355663 and parameters: {'learning_rate': 0.023784620393696818, 'depth': 4, 'n_estimators': 1800}. Best is trial 30 with value: 0.7426671574039995.\n",
      "[I 2024-08-18 22:01:38,875] Trial 38 finished with value: 0.7468678689731322 and parameters: {'learning_rate': 0.05632450741656245, 'depth': 3, 'n_estimators': 400}. Best is trial 38 with value: 0.7468678689731322.\n",
      "[I 2024-08-18 22:01:41,563] Trial 36 finished with value: 0.7272383756594284 and parameters: {'learning_rate': 0.060217945248022306, 'depth': 3, 'n_estimators': 700}. Best is trial 38 with value: 0.7468678689731322.\n",
      "[I 2024-08-18 22:01:42,759] Trial 37 finished with value: 0.7272334682860999 and parameters: {'learning_rate': 0.059896907797793636, 'depth': 3, 'n_estimators': 700}. Best is trial 38 with value: 0.7468678689731322.\n",
      "[I 2024-08-18 22:01:44,456] Trial 41 finished with value: 0.7342436510857564 and parameters: {'learning_rate': 0.06059440003508348, 'depth': 3, 'n_estimators': 500}. Best is trial 38 with value: 0.7468678689731322.\n",
      "[I 2024-08-18 22:01:44,817] Trial 39 finished with value: 0.7251306588148694 and parameters: {'learning_rate': 0.05940536514903728, 'depth': 3, 'n_estimators': 700}. Best is trial 38 with value: 0.7468678689731322.\n",
      "[I 2024-08-18 22:01:45,005] Trial 40 finished with value: 0.730045393203288 and parameters: {'learning_rate': 0.05643371939316175, 'depth': 3, 'n_estimators': 700}. Best is trial 38 with value: 0.7468678689731322.\n",
      "[I 2024-08-18 22:01:47,842] Trial 43 finished with value: 0.7391534781008466 and parameters: {'learning_rate': 0.06357855707319594, 'depth': 3, 'n_estimators': 400}. Best is trial 38 with value: 0.7468678689731322.\n",
      "[I 2024-08-18 22:01:49,007] Trial 44 finished with value: 0.741958041958042 and parameters: {'learning_rate': 0.06791665846931644, 'depth': 3, 'n_estimators': 400}. Best is trial 38 with value: 0.7468678689731322.\n",
      "[I 2024-08-18 22:01:49,806] Trial 42 finished with value: 0.7237222426696112 and parameters: {'learning_rate': 0.06034879337543836, 'depth': 3, 'n_estimators': 700}. Best is trial 38 with value: 0.7468678689731322.\n",
      "[I 2024-08-18 22:01:54,121] Trial 48 finished with value: 0.7321383879278616 and parameters: {'learning_rate': 0.07249491456716528, 'depth': 3, 'n_estimators': 400}. Best is trial 38 with value: 0.7468678689731322.\n",
      "[I 2024-08-18 22:01:55,433] Trial 49 finished with value: 0.7440682124892651 and parameters: {'learning_rate': 0.06803991007898041, 'depth': 3, 'n_estimators': 400}. Best is trial 38 with value: 0.7468678689731322.\n",
      "[I 2024-08-18 22:01:56,067] Trial 50 finished with value: 0.744065758802601 and parameters: {'learning_rate': 0.06788977384746152, 'depth': 3, 'n_estimators': 400}. Best is trial 38 with value: 0.7468678689731322.\n",
      "[I 2024-08-18 22:01:58,797] Trial 52 finished with value: 0.746865415286468 and parameters: {'learning_rate': 0.07092939849803762, 'depth': 3, 'n_estimators': 200}. Best is trial 38 with value: 0.7468678689731322.\n",
      "[I 2024-08-18 22:02:00,272] Trial 53 finished with value: 0.7384590847748743 and parameters: {'learning_rate': 0.07535822525761415, 'depth': 4, 'n_estimators': 200}. Best is trial 38 with value: 0.7468678689731322.\n",
      "[I 2024-08-18 22:02:03,686] Trial 55 finished with value: 0.7398552324868115 and parameters: {'learning_rate': 0.06930735799408984, 'depth': 3, 'n_estimators': 200}. Best is trial 38 with value: 0.7468678689731322.\n",
      "[I 2024-08-18 22:02:06,192] Trial 35 finished with value: 0.5967734020365599 and parameters: {'learning_rate': 0.059473948371527724, 'depth': 6, 'n_estimators': 1100}. Best is trial 38 with value: 0.7468678689731322.\n",
      "[I 2024-08-18 22:02:06,910] Trial 45 finished with value: 0.6788344988344989 and parameters: {'learning_rate': 0.07142165942003839, 'depth': 3, 'n_estimators': 1400}. Best is trial 38 with value: 0.7468678689731322.\n",
      "[I 2024-08-18 22:02:07,364] Trial 46 finished with value: 0.6830401177769598 and parameters: {'learning_rate': 0.06990301704209992, 'depth': 3, 'n_estimators': 1400}. Best is trial 38 with value: 0.7468678689731322.\n",
      "[I 2024-08-18 22:02:11,596] Trial 59 finished with value: 0.7412611949454055 and parameters: {'learning_rate': 0.07910175290618113, 'depth': 4, 'n_estimators': 200}. Best is trial 38 with value: 0.7468678689731322.\n",
      "[I 2024-08-18 22:02:11,934] Trial 51 finished with value: 0.6605937921727396 and parameters: {'learning_rate': 0.06924566169098254, 'depth': 8, 'n_estimators': 200}. Best is trial 38 with value: 0.7468678689731322.\n",
      "[I 2024-08-18 22:02:13,741] Trial 56 finished with value: 0.7124917188075083 and parameters: {'learning_rate': 0.09673885238468957, 'depth': 3, 'n_estimators': 600}. Best is trial 38 with value: 0.7468678689731322.\n",
      "[I 2024-08-18 22:02:16,435] Trial 57 finished with value: 0.7103987240829346 and parameters: {'learning_rate': 0.09342626362086134, 'depth': 3, 'n_estimators': 600}. Best is trial 38 with value: 0.7468678689731322.\n",
      "[I 2024-08-18 22:02:16,615] Trial 54 finished with value: 0.6521923690344742 and parameters: {'learning_rate': 0.07674514553657846, 'depth': 8, 'n_estimators': 200}. Best is trial 38 with value: 0.7468678689731322.\n",
      "[I 2024-08-18 22:02:22,049] Trial 61 finished with value: 0.7356496135443503 and parameters: {'learning_rate': 0.05223295306870888, 'depth': 3, 'n_estimators': 600}. Best is trial 38 with value: 0.7468678689731322.\n",
      "[I 2024-08-18 22:02:22,139] Trial 47 finished with value: 0.6017004048582996 and parameters: {'learning_rate': 0.06928805189103956, 'depth': 5, 'n_estimators': 1400}. Best is trial 38 with value: 0.7468678689731322.\n",
      "[I 2024-08-18 22:02:24,244] Trial 62 finished with value: 0.7237296037296037 and parameters: {'learning_rate': 0.04886013466824921, 'depth': 4, 'n_estimators': 500}. Best is trial 38 with value: 0.7468678689731322.\n",
      "[I 2024-08-18 22:02:24,749] Trial 63 finished with value: 0.730033124769967 and parameters: {'learning_rate': 0.05133896082022621, 'depth': 4, 'n_estimators': 400}. Best is trial 38 with value: 0.7468678689731322.\n",
      "[I 2024-08-18 22:02:25,017] Trial 58 finished with value: 0.6542878174457122 and parameters: {'learning_rate': 0.0784697675601853, 'depth': 8, 'n_estimators': 200}. Best is trial 38 with value: 0.7468678689731322.\n",
      "[I 2024-08-18 22:02:26,972] Trial 0 finished with value: 0.5357845663108821 and parameters: {'learning_rate': 0.0751365790554465, 'depth': 10, 'n_estimators': 900}. Best is trial 38 with value: 0.7468678689731322.\n",
      "[I 2024-08-18 22:02:29,670] Trial 64 finished with value: 0.6549944792050055 and parameters: {'learning_rate': 0.0843856548872986, 'depth': 5, 'n_estimators': 500}. Best is trial 38 with value: 0.7468678689731322.\n",
      "[I 2024-08-18 22:02:29,897] Trial 66 finished with value: 0.7335443503864557 and parameters: {'learning_rate': 0.046298395257472945, 'depth': 4, 'n_estimators': 400}. Best is trial 38 with value: 0.7468678689731322.\n",
      "[I 2024-08-18 22:02:30,690] Trial 68 finished with value: 0.741970310391363 and parameters: {'learning_rate': 0.06577711469880601, 'depth': 3, 'n_estimators': 400}. Best is trial 38 with value: 0.7468678689731322.\n",
      "[I 2024-08-18 22:02:30,830] Trial 69 finished with value: 0.7384615384615385 and parameters: {'learning_rate': 0.0659798725484579, 'depth': 3, 'n_estimators': 400}. Best is trial 38 with value: 0.7468678689731322.\n",
      "[I 2024-08-18 22:02:31,265] Trial 67 finished with value: 0.713905042326095 and parameters: {'learning_rate': 0.08403716235436257, 'depth': 4, 'n_estimators': 400}. Best is trial 38 with value: 0.7468678689731322.\n",
      "[I 2024-08-18 22:02:31,335] Trial 65 finished with value: 0.7153085510980248 and parameters: {'learning_rate': 0.047451382448990366, 'depth': 5, 'n_estimators': 400}. Best is trial 38 with value: 0.7468678689731322.\n",
      "[I 2024-08-18 22:02:39,450] Trial 60 finished with value: 0.6101067353698933 and parameters: {'learning_rate': 0.052809881959393755, 'depth': 8, 'n_estimators': 600}. Best is trial 38 with value: 0.7468678689731322.\n"
     ]
    },
    {
     "data": {
      "text/plain": [
       "{'learning_rate': 0.05632450741656245, 'depth': 3, 'n_estimators': 400}"
      ]
     },
     "execution_count": 13,
     "metadata": {},
     "output_type": "execute_result"
    }
   ],
   "source": [
    "cb_study = optuna.create_study(direction=\"maximize\")\n",
    "\n",
    "func = lambda trial: catboost_objective(trial, X_train, y_train, proportion, 0.5)\n",
    "\n",
    "cb_study.optimize(func, n_trials=70, n_jobs=-1)\n",
    "cb_best_params = cb_study.best_params\n",
    "\n",
    "cb_best_params"
   ]
  },
  {
   "cell_type": "code",
   "execution_count": 14,
   "id": "f9e8b5ec31e75138",
   "metadata": {
    "ExecuteTime": {
     "end_time": "2024-08-19T01:36:41.081528Z",
     "start_time": "2024-08-19T01:02:39.474212Z"
    }
   },
   "outputs": [
    {
     "name": "stderr",
     "output_type": "stream",
     "text": [
      "[I 2024-08-18 22:02:39,475] A new study created in memory with name: no-name-c44e30a9-ea9f-4f3c-91c8-c274220316e1\n",
      "[I 2024-08-18 22:02:45,497] Trial 6 finished with value: 0.5247077869141954 and parameters: {'learning_rate': 0.06869816801494746, 'depth': 7, 'n_estimators': 100}. Best is trial 6 with value: 0.5247077869141954.\n",
      "[I 2024-08-18 22:02:46,111] Trial 4 finished with value: 0.527658389761165 and parameters: {'learning_rate': 0.08168336128187967, 'depth': 4, 'n_estimators': 300}. Best is trial 4 with value: 0.527658389761165.\n",
      "[I 2024-08-18 22:02:57,178] Trial 2 finished with value: 0.532075582172958 and parameters: {'learning_rate': 0.046690800013954564, 'depth': 3, 'n_estimators': 1000}. Best is trial 2 with value: 0.532075582172958.\n",
      "[I 2024-08-18 22:03:08,942] Trial 10 finished with value: 0.5441015827593211 and parameters: {'learning_rate': 0.059557850642675506, 'depth': 5, 'n_estimators': 400}. Best is trial 10 with value: 0.5441015827593211.\n",
      "[I 2024-08-18 22:03:18,947] Trial 9 finished with value: 0.5497629215083171 and parameters: {'learning_rate': 0.06901472397513805, 'depth': 3, 'n_estimators': 1800}. Best is trial 9 with value: 0.5497629215083171.\n",
      "[I 2024-08-18 22:03:27,459] Trial 11 finished with value: 0.5591046506782332 and parameters: {'learning_rate': 0.07897803471402833, 'depth': 4, 'n_estimators': 800}. Best is trial 11 with value: 0.5591046506782332.\n",
      "[I 2024-08-18 22:03:55,599] Trial 1 finished with value: 0.6168057566605238 and parameters: {'learning_rate': 0.04575638439343473, 'depth': 6, 'n_estimators': 1800}. Best is trial 1 with value: 0.6168057566605238.\n",
      "[I 2024-08-18 22:04:02,908] Trial 8 finished with value: 0.6218935050359292 and parameters: {'learning_rate': 0.04449642307239599, 'depth': 7, 'n_estimators': 1200}. Best is trial 8 with value: 0.6218935050359292.\n",
      "[I 2024-08-18 22:04:27,015] Trial 7 finished with value: 0.6120790061645174 and parameters: {'learning_rate': 0.05228273310811544, 'depth': 10, 'n_estimators': 400}. Best is trial 8 with value: 0.6218935050359292.\n",
      "[I 2024-08-18 22:04:42,349] Trial 12 finished with value: 0.6382764279471208 and parameters: {'learning_rate': 0.07982629851026835, 'depth': 8, 'n_estimators': 800}. Best is trial 12 with value: 0.6382764279471208.\n",
      "[I 2024-08-18 22:04:45,809] Trial 15 finished with value: 0.5886432645831652 and parameters: {'learning_rate': 0.04962765243315757, 'depth': 5, 'n_estimators': 1400}. Best is trial 12 with value: 0.6382764279471208.\n",
      "[I 2024-08-18 22:04:53,069] Trial 0 finished with value: 0.6236172366718432 and parameters: {'learning_rate': 0.03117242056984388, 'depth': 9, 'n_estimators': 800}. Best is trial 12 with value: 0.6382764279471208.\n",
      "[I 2024-08-18 22:05:00,191] Trial 14 finished with value: 0.5979320844488489 and parameters: {'learning_rate': 0.033080429795661226, 'depth': 6, 'n_estimators': 1500}. Best is trial 12 with value: 0.6382764279471208.\n",
      "[I 2024-08-18 22:05:14,609] Trial 16 finished with value: 0.5856274948051874 and parameters: {'learning_rate': 0.056397473335580796, 'depth': 4, 'n_estimators': 2000}. Best is trial 12 with value: 0.6382764279471208.\n",
      "[I 2024-08-18 22:07:00,796] Trial 19 finished with value: 0.5824966217645995 and parameters: {'learning_rate': 0.016080507624207534, 'depth': 9, 'n_estimators': 700}. Best is trial 12 with value: 0.6382764279471208.\n",
      "[I 2024-08-18 22:07:15,607] Trial 5 finished with value: 0.6536240357667349 and parameters: {'learning_rate': 0.06171047205527788, 'depth': 10, 'n_estimators': 1000}. Best is trial 5 with value: 0.6536240357667349.\n",
      "[I 2024-08-18 22:07:20,965] Trial 18 finished with value: 0.6065753667540836 and parameters: {'learning_rate': 0.01808173344481368, 'depth': 8, 'n_estimators': 1400}. Best is trial 5 with value: 0.6536240357667349.\n",
      "[I 2024-08-18 22:07:25,128] Trial 21 finished with value: 0.6422907297460358 and parameters: {'learning_rate': 0.09729224271020914, 'depth': 9, 'n_estimators': 700}. Best is trial 5 with value: 0.6536240357667349.\n",
      "[I 2024-08-18 22:07:26,521] Trial 20 finished with value: 0.5891143896162747 and parameters: {'learning_rate': 0.016362464799471572, 'depth': 9, 'n_estimators': 800}. Best is trial 5 with value: 0.6536240357667349.\n",
      "[I 2024-08-18 22:08:10,949] Trial 3 finished with value: 0.6492658414212666 and parameters: {'learning_rate': 0.04337651595681232, 'depth': 9, 'n_estimators': 1900}. Best is trial 5 with value: 0.6536240357667349.\n",
      "[I 2024-08-18 22:08:40,593] Trial 17 finished with value: 0.6168379683394767 and parameters: {'learning_rate': 0.016457907892710504, 'depth': 9, 'n_estimators': 1300}. Best is trial 5 with value: 0.6536240357667349.\n",
      "[I 2024-08-18 22:09:18,093] Trial 23 finished with value: 0.6451230240602978 and parameters: {'learning_rate': 0.09956041161511173, 'depth': 8, 'n_estimators': 1100}. Best is trial 5 with value: 0.6536240357667349.\n",
      "[I 2024-08-18 22:09:31,214] Trial 22 finished with value: 0.6492416019319259 and parameters: {'learning_rate': 0.09533243467540392, 'depth': 9, 'n_estimators': 800}. Best is trial 5 with value: 0.6536240357667349.\n",
      "[I 2024-08-18 22:10:11,787] Trial 13 finished with value: 0.6371867852278681 and parameters: {'learning_rate': 0.017339625744836485, 'depth': 10, 'n_estimators': 1400}. Best is trial 5 with value: 0.6536240357667349.\n",
      "[I 2024-08-18 22:13:16,782] Trial 24 finished with value: 0.6560189512524459 and parameters: {'learning_rate': 0.09231369971864198, 'depth': 10, 'n_estimators': 1100}. Best is trial 24 with value: 0.6560189512524459.\n",
      "[I 2024-08-18 22:13:22,886] Trial 25 finished with value: 0.6512971762918677 and parameters: {'learning_rate': 0.09946339122100614, 'depth': 10, 'n_estimators': 1100}. Best is trial 24 with value: 0.6560189512524459.\n",
      "[I 2024-08-18 22:13:25,634] Trial 26 finished with value: 0.6585305533443877 and parameters: {'learning_rate': 0.09639953694924622, 'depth': 10, 'n_estimators': 1100}. Best is trial 26 with value: 0.6585305533443877.\n",
      "[I 2024-08-18 22:14:06,691] Trial 27 finished with value: 0.6442077892844607 and parameters: {'learning_rate': 0.03432696315756814, 'depth': 10, 'n_estimators': 1100}. Best is trial 26 with value: 0.6585305533443877.\n",
      "[I 2024-08-18 22:14:42,056] Trial 28 finished with value: 0.650919771807947 and parameters: {'learning_rate': 0.09239413019820429, 'depth': 10, 'n_estimators': 1100}. Best is trial 26 with value: 0.6585305533443877.\n",
      "[I 2024-08-18 22:15:00,709] Trial 30 finished with value: 0.6585787263723233 and parameters: {'learning_rate': 0.08859377061086696, 'depth': 10, 'n_estimators': 1000}. Best is trial 30 with value: 0.6585787263723233.\n",
      "[I 2024-08-18 22:15:17,243] Trial 29 finished with value: 0.6509057484134231 and parameters: {'learning_rate': 0.09139963713678798, 'depth': 10, 'n_estimators': 1100}. Best is trial 30 with value: 0.6585787263723233.\n",
      "[I 2024-08-18 22:15:35,283] Trial 31 finished with value: 0.6435965439501693 and parameters: {'learning_rate': 0.03620777383058392, 'depth': 10, 'n_estimators': 1000}. Best is trial 30 with value: 0.6585787263723233.\n",
      "[I 2024-08-18 22:17:17,420] Trial 39 finished with value: 0.6386567640090445 and parameters: {'learning_rate': 0.08703921433005729, 'depth': 8, 'n_estimators': 900}. Best is trial 30 with value: 0.6585787263723233.\n",
      "[I 2024-08-18 22:17:43,504] Trial 36 finished with value: 0.6439564370537546 and parameters: {'learning_rate': 0.0868951512445528, 'depth': 8, 'n_estimators': 1600}. Best is trial 30 with value: 0.6585787263723233.\n",
      "[I 2024-08-18 22:18:14,117] Trial 37 finished with value: 0.6516340098573865 and parameters: {'learning_rate': 0.08459192059895998, 'depth': 8, 'n_estimators': 1700}. Best is trial 30 with value: 0.6585787263723233.\n",
      "[I 2024-08-18 22:18:24,192] Trial 33 finished with value: 0.6459331814516565 and parameters: {'learning_rate': 0.08586370839009387, 'depth': 10, 'n_estimators': 1000}. Best is trial 30 with value: 0.6585787263723233.\n",
      "[I 2024-08-18 22:19:38,971] Trial 41 finished with value: 0.6399642114568687 and parameters: {'learning_rate': 0.07032430129831505, 'depth': 9, 'n_estimators': 600}. Best is trial 30 with value: 0.6585787263723233.\n",
      "[I 2024-08-18 22:19:48,549] Trial 38 finished with value: 0.6426108868786534 and parameters: {'learning_rate': 0.08589397028793218, 'depth': 10, 'n_estimators': 900}. Best is trial 30 with value: 0.6585787263723233.\n",
      "[I 2024-08-18 22:20:09,542] Trial 42 finished with value: 0.6432461035305411 and parameters: {'learning_rate': 0.07447164912772729, 'depth': 9, 'n_estimators': 600}. Best is trial 30 with value: 0.6585787263723233.\n",
      "[I 2024-08-18 22:20:19,379] Trial 43 finished with value: 0.6362816842862389 and parameters: {'learning_rate': 0.07440598497453499, 'depth': 9, 'n_estimators': 600}. Best is trial 30 with value: 0.6585787263723233.\n",
      "[I 2024-08-18 22:21:19,490] Trial 34 finished with value: 0.6545256114710574 and parameters: {'learning_rate': 0.08824558125567647, 'depth': 10, 'n_estimators': 1600}. Best is trial 30 with value: 0.6585787263723233.\n",
      "[I 2024-08-18 22:21:38,634] Trial 32 finished with value: 0.6523486976325017 and parameters: {'learning_rate': 0.03547335099018316, 'depth': 10, 'n_estimators': 1700}. Best is trial 30 with value: 0.6585787263723233.\n",
      "[I 2024-08-18 22:21:41,688] Trial 46 finished with value: 0.6346637150143409 and parameters: {'learning_rate': 0.06475570833704697, 'depth': 7, 'n_estimators': 1300}. Best is trial 30 with value: 0.6585787263723233.\n",
      "[I 2024-08-18 22:21:50,638] Trial 47 finished with value: 0.6072795488926122 and parameters: {'learning_rate': 0.025797267892805995, 'depth': 7, 'n_estimators': 1300}. Best is trial 30 with value: 0.6585787263723233.\n",
      "[I 2024-08-18 22:21:58,789] Trial 35 finished with value: 0.6519113488939469 and parameters: {'learning_rate': 0.08861497470639343, 'depth': 10, 'n_estimators': 1600}. Best is trial 30 with value: 0.6585787263723233.\n",
      "[I 2024-08-18 22:23:49,271] Trial 44 finished with value: 0.6408689297287615 and parameters: {'learning_rate': 0.0635607248499719, 'depth': 9, 'n_estimators': 1300}. Best is trial 30 with value: 0.6585787263723233.\n",
      "[I 2024-08-18 22:23:58,466] Trial 45 finished with value: 0.6496932969166073 and parameters: {'learning_rate': 0.07423273106072664, 'depth': 9, 'n_estimators': 1300}. Best is trial 30 with value: 0.6585787263723233.\n",
      "[I 2024-08-18 22:25:27,208] Trial 40 finished with value: 0.6508232698912048 and parameters: {'learning_rate': 0.07266150746294589, 'depth': 10, 'n_estimators': 1600}. Best is trial 30 with value: 0.6585787263723233.\n",
      "[I 2024-08-18 22:28:02,095] Trial 49 finished with value: 0.6528213442593154 and parameters: {'learning_rate': 0.06307522237875368, 'depth': 10, 'n_estimators': 1200}. Best is trial 30 with value: 0.6585787263723233.\n",
      "[I 2024-08-18 22:28:05,578] Trial 50 finished with value: 0.6442437023937859 and parameters: {'learning_rate': 0.09292984365706096, 'depth': 10, 'n_estimators': 1200}. Best is trial 30 with value: 0.6585787263723233.\n",
      "[I 2024-08-18 22:28:05,831] Trial 56 finished with value: 0.5127658705823718 and parameters: {'learning_rate': 0.08176517864018608, 'depth': 5, 'n_estimators': 100}. Best is trial 30 with value: 0.6585787263723233.\n",
      "[I 2024-08-18 22:28:09,289] Trial 57 finished with value: 0.5103793742148557 and parameters: {'learning_rate': 0.07894639489527502, 'depth': 5, 'n_estimators': 100}. Best is trial 30 with value: 0.6585787263723233.\n",
      "[I 2024-08-18 22:28:10,787] Trial 48 finished with value: 0.644723656284337 and parameters: {'learning_rate': 0.06260541437685029, 'depth': 10, 'n_estimators': 1300}. Best is trial 30 with value: 0.6585787263723233.\n",
      "[I 2024-08-18 22:28:15,039] Trial 51 finished with value: 0.641119047215702 and parameters: {'learning_rate': 0.09150610127574779, 'depth': 10, 'n_estimators': 1200}. Best is trial 30 with value: 0.6585787263723233.\n",
      "[I 2024-08-18 22:28:21,421] Trial 52 finished with value: 0.649914740704023 and parameters: {'learning_rate': 0.09301228379059422, 'depth': 10, 'n_estimators': 1200}. Best is trial 30 with value: 0.6585787263723233.\n",
      "[I 2024-08-18 22:28:46,860] Trial 54 finished with value: 0.6408757236158511 and parameters: {'learning_rate': 0.09347291731270004, 'depth': 10, 'n_estimators': 900}. Best is trial 30 with value: 0.6585787263723233.\n",
      "[I 2024-08-18 22:30:04,839] Trial 53 finished with value: 0.6487436487174578 and parameters: {'learning_rate': 0.0931516036616396, 'depth': 10, 'n_estimators': 1200}. Best is trial 30 with value: 0.6585787263723233.\n",
      "[I 2024-08-18 22:30:13,300] Trial 55 finished with value: 0.6514568204580404 and parameters: {'learning_rate': 0.08054393991681943, 'depth': 10, 'n_estimators': 900}. Best is trial 30 with value: 0.6585787263723233.\n",
      "[I 2024-08-18 22:31:17,454] Trial 62 finished with value: 0.6459979154777036 and parameters: {'learning_rate': 0.05438501415915126, 'depth': 9, 'n_estimators': 900}. Best is trial 30 with value: 0.6585787263723233.\n",
      "[I 2024-08-18 22:31:31,536] Trial 61 finished with value: 0.639425148480601 and parameters: {'learning_rate': 0.05482073821511114, 'depth': 9, 'n_estimators': 1000}. Best is trial 30 with value: 0.6585787263723233.\n",
      "[I 2024-08-18 22:31:37,670] Trial 66 finished with value: 0.5353826600671157 and parameters: {'learning_rate': 0.04878669147455506, 'depth': 3, 'n_estimators': 1000}. Best is trial 30 with value: 0.6585787263723233.\n",
      "[I 2024-08-18 22:32:01,647] Trial 63 finished with value: 0.6480954262030331 and parameters: {'learning_rate': 0.055839072874875745, 'depth': 9, 'n_estimators': 1000}. Best is trial 30 with value: 0.6585787263723233.\n",
      "[I 2024-08-18 22:32:51,442] Trial 59 finished with value: 0.6594023476918214 and parameters: {'learning_rate': 0.05971996849177379, 'depth': 10, 'n_estimators': 900}. Best is trial 59 with value: 0.6594023476918214.\n",
      "[I 2024-08-18 22:32:54,157] Trial 60 finished with value: 0.6445830545332887 and parameters: {'learning_rate': 0.05587249283985797, 'depth': 10, 'n_estimators': 900}. Best is trial 59 with value: 0.6594023476918214.\n",
      "[I 2024-08-18 22:33:03,653] Trial 67 finished with value: 0.6225426384944718 and parameters: {'learning_rate': 0.03937614359017108, 'depth': 6, 'n_estimators': 2000}. Best is trial 59 with value: 0.6594023476918214.\n",
      "[I 2024-08-18 22:33:12,268] Trial 64 finished with value: 0.6482525297844017 and parameters: {'learning_rate': 0.05568432025108817, 'depth': 9, 'n_estimators': 1000}. Best is trial 59 with value: 0.6594023476918214.\n",
      "[I 2024-08-18 22:33:49,040] Trial 58 finished with value: 0.651564753135544 and parameters: {'learning_rate': 0.055629406907590356, 'depth': 10, 'n_estimators': 1200}. Best is trial 59 with value: 0.6594023476918214.\n",
      "[I 2024-08-18 22:34:55,124] Trial 65 finished with value: 0.6530710009443144 and parameters: {'learning_rate': 0.05634733291922995, 'depth': 9, 'n_estimators': 2000}. Best is trial 59 with value: 0.6594023476918214.\n",
      "[I 2024-08-18 22:36:35,000] Trial 68 finished with value: 0.6586516262634313 and parameters: {'learning_rate': 0.058196790356684944, 'depth': 10, 'n_estimators': 1900}. Best is trial 59 with value: 0.6594023476918214.\n",
      "[I 2024-08-18 22:36:41,075] Trial 69 finished with value: 0.6477758226656829 and parameters: {'learning_rate': 0.0398655113214318, 'depth': 10, 'n_estimators': 1900}. Best is trial 59 with value: 0.6594023476918214.\n"
     ]
    },
    {
     "data": {
      "text/plain": [
       "{'learning_rate': 0.05971996849177379, 'depth': 10, 'n_estimators': 900}"
      ]
     },
     "execution_count": 14,
     "metadata": {},
     "output_type": "execute_result"
    }
   ],
   "source": [
    "cb_study = optuna.create_study(direction=\"maximize\")\n",
    "\n",
    "func = lambda trial: catboost_objective(\n",
    "    trial, X_train, y_train, proportion, 0.5, selected_score=\"precision\"\n",
    ")\n",
    "\n",
    "cb_study.optimize(func, n_trials=70, n_jobs=-1)\n",
    "cb_precision_best_params = cb_study.best_params\n",
    "\n",
    "cb_precision_best_params"
   ]
  },
  {
   "cell_type": "code",
   "execution_count": 15,
   "id": "9a9958b4a375a1c1",
   "metadata": {
    "ExecuteTime": {
     "end_time": "2024-08-19T01:45:33.199898Z",
     "start_time": "2024-08-19T01:36:41.118434Z"
    }
   },
   "outputs": [
    {
     "name": "stderr",
     "output_type": "stream",
     "text": [
      "[I 2024-08-18 22:36:41,119] A new study created in memory with name: no-name-35b6bd6a-0967-411d-8a66-79bffb0f754a\n",
      "[I 2024-08-18 22:36:54,811] Trial 6 finished with value: 0.6093431188345785 and parameters: {'learning_rate': 0.09552107399850795, 'depth': 3, 'n_estimators': 700}. Best is trial 6 with value: 0.6093431188345785.\n",
      "[I 2024-08-18 22:36:58,352] Trial 2 finished with value: 0.6069415868999902 and parameters: {'learning_rate': 0.07686827241904728, 'depth': 9, 'n_estimators': 100}. Best is trial 6 with value: 0.6093431188345785.\n",
      "[I 2024-08-18 22:37:29,578] Trial 8 finished with value: 0.6128895640431611 and parameters: {'learning_rate': 0.026150035786501852, 'depth': 6, 'n_estimators': 800}. Best is trial 8 with value: 0.6128895640431611.\n",
      "[I 2024-08-18 22:37:38,228] Trial 1 finished with value: 0.5936632800695204 and parameters: {'learning_rate': 0.08588352292024885, 'depth': 6, 'n_estimators': 1300}. Best is trial 8 with value: 0.6128895640431611.\n",
      "[I 2024-08-18 22:38:09,759] Trial 5 finished with value: 0.5871386228348133 and parameters: {'learning_rate': 0.09755172709206347, 'depth': 6, 'n_estimators': 2000}. Best is trial 8 with value: 0.6128895640431611.\n",
      "[I 2024-08-18 22:38:21,164] Trial 0 finished with value: 0.6000381411182901 and parameters: {'learning_rate': 0.03530044130732032, 'depth': 7, 'n_estimators': 1500}. Best is trial 8 with value: 0.6128895640431611.\n",
      "[I 2024-08-18 22:38:32,428] Trial 4 finished with value: 0.591414618054199 and parameters: {'learning_rate': 0.069148780266741, 'depth': 10, 'n_estimators': 400}. Best is trial 8 with value: 0.6128895640431611.\n",
      "[I 2024-08-18 22:38:54,881] Trial 13 finished with value: 0.5990516545396872 and parameters: {'learning_rate': 0.0792370045337535, 'depth': 3, 'n_estimators': 1700}. Best is trial 8 with value: 0.6128895640431611.\n",
      "[I 2024-08-18 22:39:17,463] Trial 9 finished with value: 0.6068555993697261 and parameters: {'learning_rate': 0.01887071172117853, 'depth': 8, 'n_estimators': 1300}. Best is trial 8 with value: 0.6128895640431611.\n",
      "[I 2024-08-18 22:40:08,013] Trial 7 finished with value: 0.5966561772327278 and parameters: {'learning_rate': 0.03863259167286008, 'depth': 9, 'n_estimators': 1200}. Best is trial 8 with value: 0.6128895640431611.\n",
      "[I 2024-08-18 22:40:20,667] Trial 16 finished with value: 0.6008288571111666 and parameters: {'learning_rate': 0.038931344692518126, 'depth': 5, 'n_estimators': 2000}. Best is trial 8 with value: 0.6128895640431611.\n",
      "[I 2024-08-18 22:40:32,506] Trial 17 finished with value: 0.6054212415010932 and parameters: {'learning_rate': 0.010044419462927123, 'depth': 5, 'n_estimators': 800}. Best is trial 8 with value: 0.6128895640431611.\n",
      "[I 2024-08-18 22:40:34,080] Trial 18 finished with value: 0.6117260111530489 and parameters: {'learning_rate': 0.05744477985403856, 'depth': 3, 'n_estimators': 700}. Best is trial 8 with value: 0.6128895640431611.\n",
      "[I 2024-08-18 22:40:44,105] Trial 14 finished with value: 0.5960308477716019 and parameters: {'learning_rate': 0.07541602948521033, 'depth': 7, 'n_estimators': 2000}. Best is trial 8 with value: 0.6128895640431611.\n",
      "[I 2024-08-18 22:40:47,848] Trial 19 finished with value: 0.6099861541129008 and parameters: {'learning_rate': 0.06359312744301818, 'depth': 3, 'n_estimators': 800}. Best is trial 8 with value: 0.6128895640431611.\n",
      "[I 2024-08-18 22:40:53,059] Trial 20 finished with value: 0.6163040076615961 and parameters: {'learning_rate': 0.058951158707135416, 'depth': 4, 'n_estimators': 800}. Best is trial 20 with value: 0.6163040076615961.\n",
      "[I 2024-08-18 22:40:57,670] Trial 22 finished with value: 0.6139299518566907 and parameters: {'learning_rate': 0.052391748120585, 'depth': 4, 'n_estimators': 400}. Best is trial 20 with value: 0.6163040076615961.\n",
      "[I 2024-08-18 22:41:03,184] Trial 21 finished with value: 0.6182876578157217 and parameters: {'learning_rate': 0.05644301052955968, 'depth': 4, 'n_estimators': 800}. Best is trial 21 with value: 0.6182876578157217.\n",
      "[I 2024-08-18 22:41:04,875] Trial 24 finished with value: 0.6108086907505447 and parameters: {'learning_rate': 0.04976678969821968, 'depth': 4, 'n_estimators': 300}. Best is trial 21 with value: 0.6182876578157217.\n",
      "[I 2024-08-18 22:41:11,206] Trial 10 finished with value: 0.5841194131140809 and parameters: {'learning_rate': 0.09548878534917357, 'depth': 9, 'n_estimators': 1300}. Best is trial 21 with value: 0.6182876578157217.\n",
      "[I 2024-08-18 22:41:23,482] Trial 23 finished with value: 0.6122568124505493 and parameters: {'learning_rate': 0.05052747328928423, 'depth': 5, 'n_estimators': 1000}. Best is trial 21 with value: 0.6182876578157217.\n",
      "[I 2024-08-18 22:41:25,821] Trial 26 finished with value: 0.6169339007287172 and parameters: {'learning_rate': 0.04621945305289298, 'depth': 4, 'n_estimators': 900}. Best is trial 21 with value: 0.6182876578157217.\n",
      "[I 2024-08-18 22:41:26,523] Trial 25 finished with value: 0.6101768983601119 and parameters: {'learning_rate': 0.05184412472289202, 'depth': 4, 'n_estimators': 1000}. Best is trial 21 with value: 0.6182876578157217.\n",
      "[I 2024-08-18 22:41:33,990] Trial 27 finished with value: 0.6125237997963393 and parameters: {'learning_rate': 0.04632678080000511, 'depth': 4, 'n_estimators': 1000}. Best is trial 21 with value: 0.6182876578157217.\n",
      "[I 2024-08-18 22:41:35,085] Trial 28 finished with value: 0.6147986856013588 and parameters: {'learning_rate': 0.05735306337434456, 'depth': 4, 'n_estimators': 500}. Best is trial 21 with value: 0.6182876578157217.\n",
      "[I 2024-08-18 22:41:40,421] Trial 30 finished with value: 0.6111329266134718 and parameters: {'learning_rate': 0.0618767386577762, 'depth': 4, 'n_estimators': 600}. Best is trial 21 with value: 0.6182876578157217.\n",
      "[I 2024-08-18 22:41:49,031] Trial 29 finished with value: 0.6068324341548765 and parameters: {'learning_rate': 0.06292643663145249, 'depth': 4, 'n_estimators': 1000}. Best is trial 21 with value: 0.6182876578157217.\n",
      "[I 2024-08-18 22:41:52,408] Trial 31 finished with value: 0.6078838276871024 and parameters: {'learning_rate': 0.06195471507429151, 'depth': 5, 'n_estimators': 600}. Best is trial 21 with value: 0.6182876578157217.\n",
      "[I 2024-08-18 22:41:55,725] Trial 34 finished with value: 0.6028560768007223 and parameters: {'learning_rate': 0.04319730566894587, 'depth': 5, 'n_estimators': 200}. Best is trial 21 with value: 0.6182876578157217.\n",
      "[I 2024-08-18 22:41:58,436] Trial 3 finished with value: 0.6042643541212523 and parameters: {'learning_rate': 0.013576093501246752, 'depth': 10, 'n_estimators': 1200}. Best is trial 21 with value: 0.6182876578157217.\n",
      "[I 2024-08-18 22:42:09,757] Trial 32 finished with value: 0.6066789837422186 and parameters: {'learning_rate': 0.06375083064359248, 'depth': 5, 'n_estimators': 1100}. Best is trial 21 with value: 0.6182876578157217.\n",
      "[I 2024-08-18 22:42:11,640] Trial 12 finished with value: 0.5857179713350941 and parameters: {'learning_rate': 0.0668900036512588, 'depth': 10, 'n_estimators': 900}. Best is trial 21 with value: 0.6182876578157217.\n",
      "[I 2024-08-18 22:42:16,757] Trial 33 finished with value: 0.604586413326289 and parameters: {'learning_rate': 0.043508348640925565, 'depth': 5, 'n_estimators': 1100}. Best is trial 21 with value: 0.6182876578157217.\n",
      "[I 2024-08-18 22:42:21,454] Trial 38 finished with value: 0.6042138154223383 and parameters: {'learning_rate': 0.0295869683153852, 'depth': 3, 'n_estimators': 500}. Best is trial 21 with value: 0.6182876578157217.\n",
      "[I 2024-08-18 22:42:23,256] Trial 39 finished with value: 0.605642192146553 and parameters: {'learning_rate': 0.030373331725658703, 'depth': 3, 'n_estimators': 500}. Best is trial 21 with value: 0.6182876578157217.\n",
      "[I 2024-08-18 22:42:27,486] Trial 11 finished with value: 0.5875799400969338 and parameters: {'learning_rate': 0.04253994613517781, 'depth': 9, 'n_estimators': 1700}. Best is trial 21 with value: 0.6182876578157217.\n",
      "[I 2024-08-18 22:42:27,892] Trial 40 finished with value: 0.6063627454694885 and parameters: {'learning_rate': 0.028729774849603363, 'depth': 3, 'n_estimators': 500}. Best is trial 21 with value: 0.6182876578157217.\n",
      "[I 2024-08-18 22:42:30,332] Trial 36 finished with value: 0.6098086425772795 and parameters: {'learning_rate': 0.02933216942473309, 'depth': 3, 'n_estimators': 1600}. Best is trial 21 with value: 0.6182876578157217.\n",
      "[I 2024-08-18 22:42:31,080] Trial 35 finished with value: 0.6037089914333638 and parameters: {'learning_rate': 0.04361139822367556, 'depth': 5, 'n_estimators': 1100}. Best is trial 21 with value: 0.6182876578157217.\n",
      "[I 2024-08-18 22:42:32,952] Trial 43 finished with value: 0.6068600945640485 and parameters: {'learning_rate': 0.07072050437842703, 'depth': 6, 'n_estimators': 100}. Best is trial 21 with value: 0.6182876578157217.\n",
      "[I 2024-08-18 22:42:33,525] Trial 44 finished with value: 0.6101556921186518 and parameters: {'learning_rate': 0.05758833002561159, 'depth': 6, 'n_estimators': 100}. Best is trial 21 with value: 0.6182876578157217.\n",
      "[I 2024-08-18 22:42:36,671] Trial 46 finished with value: 0.6032565280180187 and parameters: {'learning_rate': 0.0565669357006224, 'depth': 6, 'n_estimators': 100}. Best is trial 21 with value: 0.6182876578157217.\n",
      "[I 2024-08-18 22:42:44,079] Trial 48 finished with value: 0.6107514329656196 and parameters: {'learning_rate': 0.055294134033284155, 'depth': 4, 'n_estimators': 400}. Best is trial 21 with value: 0.6182876578157217.\n",
      "[I 2024-08-18 22:42:44,242] Trial 49 finished with value: 0.6095925770987567 and parameters: {'learning_rate': 0.05521180452969819, 'depth': 4, 'n_estimators': 300}. Best is trial 21 with value: 0.6182876578157217.\n",
      "[I 2024-08-18 22:42:50,081] Trial 41 finished with value: 0.6106434172606738 and parameters: {'learning_rate': 0.05703312271266437, 'depth': 6, 'n_estimators': 600}. Best is trial 21 with value: 0.6182876578157217.\n",
      "[I 2024-08-18 22:42:50,632] Trial 47 finished with value: 0.613682143758656 and parameters: {'learning_rate': 0.05708134741352609, 'depth': 4, 'n_estimators': 700}. Best is trial 21 with value: 0.6182876578157217.\n",
      "[I 2024-08-18 22:42:56,372] Trial 42 finished with value: 0.6088086542236725 and parameters: {'learning_rate': 0.05643711805940891, 'depth': 6, 'n_estimators': 700}. Best is trial 21 with value: 0.6182876578157217.\n",
      "[I 2024-08-18 22:43:00,447] Trial 50 finished with value: 0.6155139575268944 and parameters: {'learning_rate': 0.03546624279077547, 'depth': 4, 'n_estimators': 700}. Best is trial 21 with value: 0.6182876578157217.\n",
      "[I 2024-08-18 22:43:00,567] Trial 51 finished with value: 0.6177662728232194 and parameters: {'learning_rate': 0.03565031546304922, 'depth': 4, 'n_estimators': 700}. Best is trial 21 with value: 0.6182876578157217.\n",
      "[I 2024-08-18 22:43:01,682] Trial 45 finished with value: 0.6015001471048103 and parameters: {'learning_rate': 0.056424620479192146, 'depth': 6, 'n_estimators': 700}. Best is trial 21 with value: 0.6182876578157217.\n",
      "[I 2024-08-18 22:43:06,401] Trial 52 finished with value: 0.6145690211717979 and parameters: {'learning_rate': 0.0355192215385039, 'depth': 4, 'n_estimators': 700}. Best is trial 21 with value: 0.6182876578157217.\n",
      "[I 2024-08-18 22:43:11,385] Trial 53 finished with value: 0.616436890774084 and parameters: {'learning_rate': 0.035877416487409886, 'depth': 4, 'n_estimators': 900}. Best is trial 21 with value: 0.6182876578157217.\n",
      "[I 2024-08-18 22:43:16,452] Trial 54 finished with value: 0.6061904037568838 and parameters: {'learning_rate': 0.07122835630872021, 'depth': 4, 'n_estimators': 900}. Best is trial 21 with value: 0.6182876578157217.\n",
      "[I 2024-08-18 22:43:38,386] Trial 37 finished with value: 0.6052074619463306 and parameters: {'learning_rate': 0.03167754989553938, 'depth': 7, 'n_estimators': 1500}. Best is trial 21 with value: 0.6182876578157217.\n",
      "[I 2024-08-18 22:43:54,279] Trial 61 finished with value: 0.607145182306364 and parameters: {'learning_rate': 0.020675702919413584, 'depth': 3, 'n_estimators': 900}. Best is trial 21 with value: 0.6182876578157217.\n",
      "[I 2024-08-18 22:43:55,848] Trial 56 finished with value: 0.6020352387249854 and parameters: {'learning_rate': 0.036773234066007396, 'depth': 7, 'n_estimators': 900}. Best is trial 21 with value: 0.6182876578157217.\n",
      "[I 2024-08-18 22:43:57,001] Trial 57 finished with value: 0.6078532182503419 and parameters: {'learning_rate': 0.03544214242545376, 'depth': 7, 'n_estimators': 900}. Best is trial 21 with value: 0.6182876578157217.\n",
      "[I 2024-08-18 22:44:06,625] Trial 59 finished with value: 0.6168256809026996 and parameters: {'learning_rate': 0.023269247989058973, 'depth': 7, 'n_estimators': 900}. Best is trial 21 with value: 0.6182876578157217.\n",
      "[I 2024-08-18 22:44:18,998] Trial 63 finished with value: 0.6096832596829748 and parameters: {'learning_rate': 0.0253543081765794, 'depth': 5, 'n_estimators': 800}. Best is trial 21 with value: 0.6182876578157217.\n",
      "[I 2024-08-18 22:44:20,329] Trial 64 finished with value: 0.6104226831894575 and parameters: {'learning_rate': 0.04748508785994287, 'depth': 5, 'n_estimators': 800}. Best is trial 21 with value: 0.6182876578157217.\n",
      "[I 2024-08-18 22:44:28,112] Trial 55 finished with value: 0.6063005584060488 and parameters: {'learning_rate': 0.03689479567080223, 'depth': 8, 'n_estimators': 900}. Best is trial 21 with value: 0.6182876578157217.\n",
      "[I 2024-08-18 22:44:34,066] Trial 58 finished with value: 0.6152528487505055 and parameters: {'learning_rate': 0.018974788780978746, 'depth': 8, 'n_estimators': 900}. Best is trial 21 with value: 0.6182876578157217.\n",
      "[I 2024-08-18 22:44:44,392] Trial 60 finished with value: 0.6032148562066231 and parameters: {'learning_rate': 0.03795576727960865, 'depth': 8, 'n_estimators': 900}. Best is trial 21 with value: 0.6182876578157217.\n",
      "[I 2024-08-18 22:44:46,056] Trial 68 finished with value: 0.6093184185091891 and parameters: {'learning_rate': 0.02055905861060088, 'depth': 4, 'n_estimators': 800}. Best is trial 21 with value: 0.6182876578157217.\n",
      "[I 2024-08-18 22:44:59,733] Trial 69 finished with value: 0.6167923722107244 and parameters: {'learning_rate': 0.023039519780134615, 'depth': 4, 'n_estimators': 1200}. Best is trial 21 with value: 0.6182876578157217.\n",
      "[I 2024-08-18 22:45:09,159] Trial 15 finished with value: 0.5889084228628991 and parameters: {'learning_rate': 0.09382656168381136, 'depth': 10, 'n_estimators': 1500}. Best is trial 21 with value: 0.6182876578157217.\n",
      "[I 2024-08-18 22:45:11,390] Trial 62 finished with value: 0.6033688236340986 and parameters: {'learning_rate': 0.03818236174015756, 'depth': 8, 'n_estimators': 900}. Best is trial 21 with value: 0.6182876578157217.\n",
      "[I 2024-08-18 22:45:28,674] Trial 65 finished with value: 0.6038772807786892 and parameters: {'learning_rate': 0.02224046962955681, 'depth': 8, 'n_estimators': 1200}. Best is trial 21 with value: 0.6182876578157217.\n",
      "[I 2024-08-18 22:45:32,663] Trial 66 finished with value: 0.6128241235308496 and parameters: {'learning_rate': 0.01738771927955012, 'depth': 8, 'n_estimators': 1200}. Best is trial 21 with value: 0.6182876578157217.\n",
      "[I 2024-08-18 22:45:33,196] Trial 67 finished with value: 0.6077127574222071 and parameters: {'learning_rate': 0.01912120821403524, 'depth': 8, 'n_estimators': 1200}. Best is trial 21 with value: 0.6182876578157217.\n"
     ]
    },
    {
     "data": {
      "text/plain": [
       "{'learning_rate': 0.05644301052955968, 'depth': 4, 'n_estimators': 800}"
      ]
     },
     "execution_count": 15,
     "metadata": {},
     "output_type": "execute_result"
    }
   ],
   "source": [
    "cb_study = optuna.create_study(direction=\"maximize\")\n",
    "\n",
    "func = lambda trial: catboost_objective(\n",
    "    trial, X_train, y_train, proportion, 0.5, selected_score=\"f1\"\n",
    ")\n",
    "\n",
    "cb_study.optimize(func, n_trials=70, n_jobs=-1)\n",
    "cb_f1_best_params = cb_study.best_params\n",
    "\n",
    "cb_f1_best_params"
   ]
  }
 ],
 "metadata": {
  "kernelspec": {
   "display_name": "Python 3",
   "language": "python",
   "name": "python3"
  },
  "language_info": {
   "codemirror_mode": {
    "name": "ipython",
    "version": 2
   },
   "file_extension": ".py",
   "mimetype": "text/x-python",
   "name": "python",
   "nbconvert_exporter": "python",
   "pygments_lexer": "ipython2",
   "version": "2.7.6"
  }
 },
 "nbformat": 4,
 "nbformat_minor": 5
}
