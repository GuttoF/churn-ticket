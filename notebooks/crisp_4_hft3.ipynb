{
 "cells": [
  {
   "cell_type": "markdown",
   "id": "c0bbc7b8df29ac87",
   "metadata": {},
   "source": [
    "# Client Churn Prediction\n",
    "### CRISP-DM Cycle 4\n",
    "---\n",
    "The Top Bank company operates in Europe with a bank account as the main product, this product can keep client's salary and make payments. This account doesn't have any cost in the first 12 months, however, after that time trial, the client needs to rehire the bank for upcoming 12 months and redo this process every year. Recently the Analytics Team noticed that the churn rate is increasing.\n",
    "\n",
    "As a Data Science Consultant, you need to create an action plan to decrease the number of churn customers and show the financial return on your solution.\n",
    "At the end of your consultancy, you need to deliver to the TopBottom CEO a model in production, which will receive a customer base via API and return that same base with an extra column with the probability of each customer going into churn.\n",
    "In addition, you will need to provide a report reporting your model's performance and the financial impact of your solution. Questions that the CEO and the Analytics team would like to see in their report:\n",
    "\n",
    "1.  What is Top Bank's current Churn rate?\n",
    "2.  How does the churn rate vary monthly?\n",
    "3.  What is the performance of the model in classifying customers as churns\n",
    "4.  What is the expected return, in terms of revenue, if the company uses its model to avoid churn from customers?\n",
    "\n",
    "> Disclaimer: This is a fictional business case"
   ]
  },
  {
   "cell_type": "markdown",
   "id": "a2278ba4be70ee7f",
   "metadata": {},
   "source": "## 0. Preparation"
  },
  {
   "cell_type": "markdown",
   "id": "86c764e109a1e137",
   "metadata": {},
   "source": "### 0.1 Imports & Settings"
  },
  {
   "cell_type": "code",
   "id": "cb0e332e88cd304f",
   "metadata": {
    "ExecuteTime": {
     "end_time": "2024-08-20T22:54:12.173250Z",
     "start_time": "2024-08-20T22:54:11.908649Z"
    }
   },
   "source": [
    "from IPython.core.display import HTML\n",
    "from pathlib import Path\n",
    "import pandas as pd\n",
    "from matplotlib import pyplot as plt\n",
    "import seaborn as sns\n",
    "from catboost import CatBoostClassifier\n",
    "import pickle\n",
    "# from src.utils_ml import metrics_cv, highlight_max, threshold_tuning_plot"
   ],
   "outputs": [],
   "execution_count": 1
  },
  {
   "cell_type": "code",
   "id": "79e7a9595993a836",
   "metadata": {
    "ExecuteTime": {
     "end_time": "2024-08-20T22:54:12.238980Z",
     "start_time": "2024-08-20T22:54:12.223511Z"
    }
   },
   "source": [
    "def jupyter_settings():\n",
    "    \"\"\"\n",
    "    Plots pre settings.\n",
    "    \"\"\"\n",
    "\n",
    "    %matplotlib inline\n",
    "    plt.style.use(\"seaborn-v0_8-whitegrid\")\n",
    "    plt.rcParams[\"figure.figsize\"] = [25, 12]\n",
    "    plt.rcParams[\"font.size\"] = 24\n",
    "    display(HTML(\"<style>.container {width:100% !important;}</style>\"))\n",
    "    sns.set()\n",
    "\n",
    "\n",
    "jupyter_settings()\n",
    "\n",
    "seed = 42"
   ],
   "outputs": [
    {
     "data": {
      "text/plain": [
       "<IPython.core.display.HTML object>"
      ],
      "text/html": [
       "<style>.container {width:100% !important;}</style>"
      ]
     },
     "metadata": {},
     "output_type": "display_data"
    }
   ],
   "execution_count": 2
  },
  {
   "cell_type": "markdown",
   "id": "3c2fb0f70226b5b",
   "metadata": {},
   "source": "### 0.3 Path"
  },
  {
   "cell_type": "code",
   "id": "acb77a0b4f289eaa",
   "metadata": {
    "ExecuteTime": {
     "end_time": "2024-08-20T22:54:12.324577Z",
     "start_time": "2024-08-20T22:54:12.322193Z"
    }
   },
   "source": [
    "# found the main project folders\n",
    "path = Path().resolve().parent\n",
    "data_path = path / \"data/processed\""
   ],
   "outputs": [],
   "execution_count": 3
  },
  {
   "cell_type": "markdown",
   "id": "4b21149ef752225e",
   "metadata": {},
   "source": [
    "### 0.4 Data\n",
    "\n",
    "This dataset is available [here](https://www.kaggle.com/mervetorkan/churndataset).\n",
    "\n",
    "\n",
    "**Data fields**\n",
    "\n",
    "- **RowNumber**: the number of the columns\n",
    "- **CustomerID**: unique identifier of clients\n",
    "- **Surname**: client's last name\n",
    "- **CreditScore**: clients credit score for the financial market\n",
    "- **Geography**: the country of the client\n",
    "- **Gender**: the gender of the client\n",
    "- **Age**: the client's age\n",
    "- **Tenure**: number of years the client is in the bank \n",
    "- **Balance**: the amount that the client has in their account \n",
    "- **NumOfProducts**: the number of products that the client bought \n",
    "- **HasCrCard**: if the client has a credit card \n",
    "- **IsActiveMember**: if the client is active (within the last 12 months) \n",
    "- **EstimateSalary**: estimate of annual salary of clients \n",
    "- **Exited**: if the client is a churn (*target variable*)"
   ]
  },
  {
   "cell_type": "code",
   "id": "a31a1c92abc1c3cd",
   "metadata": {
    "ExecuteTime": {
     "end_time": "2024-08-20T22:54:12.445728Z",
     "start_time": "2024-08-20T22:54:12.332393Z"
    }
   },
   "source": [
    "X_train = pd.read_parquet(data_path / \"X_train_fs.parquet\")\n",
    "X_test = pd.read_parquet(data_path / \"X_test_fs.parquet\")\n",
    "X_val = pd.read_parquet(data_path / \"X_val_fs.parquet\")\n",
    "y_train = pd.read_pickle(data_path / \"y_train.pkl\")\n",
    "y_test = pd.read_pickle(data_path / \"y_test.pkl\")\n",
    "y_val = pd.read_pickle(data_path / \"y_val.pkl\")"
   ],
   "outputs": [],
   "execution_count": 4
  },
  {
   "cell_type": "markdown",
   "id": "7d718f7920a1cd85",
   "metadata": {},
   "source": "## 5. Hyperparameter Fine Tuning"
  },
  {
   "cell_type": "markdown",
   "id": "be1911635d1ca952",
   "metadata": {},
   "source": "### 5.1 Bayesian Search"
  },
  {
   "cell_type": "markdown",
   "id": "1f865a5ae95fd12c",
   "metadata": {},
   "source": "Bayesian Optimization provides a principled technique based on Bayes Theorem to direct a search of a global optimization problem that is efficient and effective. In this case, Optuna was used."
  },
  {
   "cell_type": "markdown",
   "id": "cc95dea78e89c696",
   "metadata": {},
   "source": "#### 5.1.1 Threshold 0.43"
  },
  {
   "cell_type": "code",
   "id": "efff2a165095f0e",
   "metadata": {
    "ExecuteTime": {
     "end_time": "2024-08-20T22:54:12.468443Z",
     "start_time": "2024-08-20T22:54:12.465696Z"
    }
   },
   "source": [
    "proportion = float(len(y_train[y_train == 0])) / len(y_train[y_train == 1])"
   ],
   "outputs": [],
   "execution_count": 5
  },
  {
   "cell_type": "code",
   "id": "924c28885ec2abb8",
   "metadata": {
    "ExecuteTime": {
     "end_time": "2024-08-20T22:54:12.486711Z",
     "start_time": "2024-08-20T22:54:12.483965Z"
    }
   },
   "source": [
    "# cb_study = optuna.create_study(direction = 'maximize')\n",
    "#\n",
    "# func = lambda trial: catboost_objective(trial, X_train, y_train, proportion, 0.43)\n",
    "#\n",
    "# cb_study.optimize(func, n_trials = 70, n_jobs = -1)\n",
    "# cb_best_params = cb_study.best_params\n",
    "#\n",
    "# cb_best_params"
   ],
   "outputs": [],
   "execution_count": 6
  },
  {
   "cell_type": "code",
   "id": "78609db884ec43c",
   "metadata": {
    "ExecuteTime": {
     "end_time": "2024-08-20T22:54:12.504475Z",
     "start_time": "2024-08-20T22:54:12.502850Z"
    }
   },
   "source": [
    "# cb_study = optuna.create_study(direction = 'maximize')\n",
    "#\n",
    "# func = lambda trial: catboost_objective(trial, X_train, y_train, proportion, 0.43, selected_score = 'precision')\n",
    "#\n",
    "# cb_study.optimize(func, n_trials = 70, n_jobs = -1)\n",
    "# cb_precision_best_params = cb_study.best_params\n",
    "#\n",
    "# cb_precision_best_params"
   ],
   "outputs": [],
   "execution_count": 7
  },
  {
   "cell_type": "code",
   "id": "80ba949fcca9de3b",
   "metadata": {
    "ExecuteTime": {
     "end_time": "2024-08-20T22:54:12.522928Z",
     "start_time": "2024-08-20T22:54:12.520962Z"
    }
   },
   "source": [
    "# cb_study = optuna.create_study(direction = 'maximize')\n",
    "#\n",
    "# func = lambda trial: catboost_objective(trial, X_train, y_train, proportion, 0.43, selected_score = 'f1')\n",
    "#\n",
    "# cb_study.optimize(func, n_trials = 70, n_jobs = -1)\n",
    "# cb_f1_best_params = cb_study.best_params\n",
    "#\n",
    "# cb_f1_best_params"
   ],
   "outputs": [],
   "execution_count": 8
  },
  {
   "cell_type": "markdown",
   "id": "37e15d416f2a329f",
   "metadata": {},
   "source": "#### 5.1.2 Threshold 0.47"
  },
  {
   "cell_type": "code",
   "id": "87a0f3ab29e162e9",
   "metadata": {
    "ExecuteTime": {
     "end_time": "2024-08-20T22:54:12.540787Z",
     "start_time": "2024-08-20T22:54:12.539169Z"
    }
   },
   "source": [
    "# cb_study = optuna.create_study(direction = 'maximize')\n",
    "#\n",
    "# func = lambda trial: catboost_objective(trial, X_train, y_train, proportion, 0.47)\n",
    "#\n",
    "# cb_study.optimize(func, n_trials = 70, n_jobs = -1)\n",
    "# cb_best_params = cb_study.best_params\n",
    "#\n",
    "# cb_best_params"
   ],
   "outputs": [],
   "execution_count": 9
  },
  {
   "cell_type": "code",
   "id": "e5fc36508efd1058",
   "metadata": {
    "ExecuteTime": {
     "end_time": "2024-08-20T22:54:12.558249Z",
     "start_time": "2024-08-20T22:54:12.556439Z"
    }
   },
   "source": [
    "# cb_study = optuna.create_study(direction = 'maximize')\n",
    "#\n",
    "# func = lambda trial: catboost_objective(trial, X_train, y_train, proportion, 0.47, selected_score = 'precision')\n",
    "#\n",
    "# cb_study.optimize(func, n_trials = 70, n_jobs = -1)\n",
    "# cb_precision_best_params = cb_study.best_params\n",
    "#\n",
    "# cb_precision_best_params"
   ],
   "outputs": [],
   "execution_count": 10
  },
  {
   "cell_type": "code",
   "id": "976d86880e238844",
   "metadata": {
    "ExecuteTime": {
     "end_time": "2024-08-20T22:54:12.576141Z",
     "start_time": "2024-08-20T22:54:12.574384Z"
    }
   },
   "source": [
    "# cb_study = optuna.create_study(direction = 'maximize')\n",
    "#\n",
    "# func = lambda trial: catboost_objective(trial, X_train, y_train, proportion, 0.47, selected_score = 'f1')\n",
    "#\n",
    "# cb_study.optimize(func, n_trials = 70, n_jobs = -1)\n",
    "# cb_f1_best_params = cb_study.best_params\n",
    "#\n",
    "# cb_f1_best_params"
   ],
   "outputs": [],
   "execution_count": 11
  },
  {
   "cell_type": "markdown",
   "id": "2feb3cc14be7bc64",
   "metadata": {},
   "source": "#### 5.1.3 Threshold 0.5"
  },
  {
   "cell_type": "code",
   "id": "67e131edad02d03d",
   "metadata": {
    "ExecuteTime": {
     "end_time": "2024-08-20T22:54:12.594142Z",
     "start_time": "2024-08-20T22:54:12.592141Z"
    }
   },
   "source": [
    "# cb_study = optuna.create_study(direction = 'maximize')\n",
    "\n",
    "# func = lambda trial: catboost_objective(trial, X_train, y_train, proportion, 0.5)\n",
    "\n",
    "# cb_study.optimize(func, n_trials = 70, n_jobs = -1)\n",
    "# cb_best_params = cb_study.best_params\n",
    "\n",
    "# cb_best_params"
   ],
   "outputs": [],
   "execution_count": 12
  },
  {
   "cell_type": "code",
   "id": "f9e8b5ec31e75138",
   "metadata": {
    "ExecuteTime": {
     "end_time": "2024-08-20T22:54:12.613229Z",
     "start_time": "2024-08-20T22:54:12.610954Z"
    }
   },
   "source": [
    "# cb_study = optuna.create_study(direction = 'maximize')\n",
    "#\n",
    "# func = lambda trial: catboost_objective(trial, X_train, y_train, proportion, 0.5, selected_score = 'precision')\n",
    "#\n",
    "# cb_study.optimize(func, n_trials = 70, n_jobs = -1)\n",
    "# cb_precision_best_params = cb_study.best_params\n",
    "#\n",
    "# cb_precision_best_params"
   ],
   "outputs": [],
   "execution_count": 13
  },
  {
   "cell_type": "code",
   "id": "9a9958b4a375a1c1",
   "metadata": {
    "ExecuteTime": {
     "end_time": "2024-08-20T22:54:12.631364Z",
     "start_time": "2024-08-20T22:54:12.629481Z"
    }
   },
   "source": [
    "# cb_study = optuna.create_study(direction = 'maximize')\n",
    "#\n",
    "# func = lambda trial: catboost_objective(trial, X_train, y_train, proportion, 0.5, selected_score = 'f1')\n",
    "#\n",
    "# cb_study.optimize(func, n_trials = 70, n_jobs = -1)\n",
    "# cb_f1_best_params = cb_study.best_params\n",
    "#\n",
    "# cb_f1_best_params"
   ],
   "outputs": [],
   "execution_count": 14
  },
  {
   "cell_type": "code",
   "id": "ed6442eaf6e43e1d",
   "metadata": {
    "ExecuteTime": {
     "end_time": "2024-08-20T22:54:12.649794Z",
     "start_time": "2024-08-20T22:54:12.647070Z"
    }
   },
   "source": [
    "#catboost_base = [\n",
    "#    CatBoostClassifier(scale_pos_weight=proportion, random_state=seed, verbose=False)\n",
    "#]\n",
    "#\n",
    "#catboost_hft_43 = [\n",
    "#    CatBoostClassifier(\n",
    "#        learning_rate=0.010732547330507854,\n",
    "#        depth=3,\n",
    "#        n_estimators=100,\n",
    "#        scale_pos_weight=proportion,\n",
    "#        random_state=seed,\n",
    "#        verbose=False,\n",
    "#    ),  # 0.43 Recall\n",
    "#    CatBoostClassifier(\n",
    "#        learning_rate=0.07790765187207421,\n",
    "#        depth=9,\n",
    "#        n_estimators=1500,\n",
    "#        scale_pos_weight=proportion,\n",
    "#        random_state=seed,\n",
    "#        verbose=False,\n",
    "#    ),  # 0.43 Precision\n",
    "#    CatBoostClassifier(\n",
    "#        learning_rate=0.04069330665047851,\n",
    "#        depth=9,\n",
    "#        n_estimators=400,\n",
    "#        scale_pos_weight=proportion,\n",
    "#        random_state=seed,\n",
    "#        verbose=False,\n",
    "#    ),  # 0.43 F1\n",
    "#]\n",
    "#\n",
    "#catboost_hft_47 = [\n",
    "#    CatBoostClassifier(\n",
    "#        learning_rate=0.010195450583486167,\n",
    "#        depth=3,\n",
    "#        n_estimators=600,\n",
    "#        scale_pos_weight=proportion,\n",
    "#        random_state=seed,\n",
    "#        verbose=False,\n",
    "#    ),  # 0.47 Recall\n",
    "#    CatBoostClassifier(\n",
    "#        learning_rate=0.09556004903941957,\n",
    "#        depth=10,\n",
    "#        n_estimators=1200,\n",
    "#        scale_pos_weight=proportion,\n",
    "#        random_state=seed,\n",
    "#        verbose=False,\n",
    "#    ),  # 0.47 Precision\n",
    "#    CatBoostClassifier(\n",
    "#        learning_rate=0.07930597072928085,\n",
    "#        depth=7,\n",
    "#        n_estimators=300,\n",
    "#        scale_pos_weight=proportion,\n",
    "#        random_state=seed,\n",
    "#        verbose=False,\n",
    "#    ),  # 0.47 F1\n",
    "#]\n",
    "#\n",
    "#catboost_hft_50 = [\n",
    "#    CatBoostClassifier(\n",
    "#        learning_rate=0.05632450741656245,\n",
    "#        depth=3,\n",
    "#        n_estimators=400,\n",
    "#        scale_pos_weight=proportion,\n",
    "#        random_state=seed,\n",
    "#        verbose=False,\n",
    "#    ),  # 0.5 Recall\n",
    "#    CatBoostClassifier(\n",
    "#        learning_rate=0.05971996849177379,\n",
    "#        depth=10,\n",
    "#        n_estimators=900,\n",
    "#        scale_pos_weight=proportion,\n",
    "#        random_state=seed,\n",
    "#        verbose=False,\n",
    "#    ),  # 0.5 Precision\n",
    "#    CatBoostClassifier(\n",
    "#        learning_rate=0.05644301052955968,\n",
    "#        depth=4,\n",
    "#        n_estimators=800,\n",
    "#        scale_pos_weight=proportion,\n",
    "#        random_state=seed,\n",
    "#        verbose=False,\n",
    "#    ),  # 0.5 F1\n",
    "#]"
   ],
   "outputs": [],
   "execution_count": 15
  },
  {
   "cell_type": "code",
   "id": "df65c2b8bc37ec99",
   "metadata": {
    "ExecuteTime": {
     "end_time": "2024-08-20T22:54:12.670907Z",
     "start_time": "2024-08-20T22:54:12.667714Z"
    }
   },
   "source": [
    "#catboost_result_base = metrics_cv(\n",
    "#    catboost_base, X_train, y_train, threshold=0.50, verbose=False\n",
    "#)\n",
    "#catboost_result_43 = metrics_cv(\n",
    "#    catboost_hft_43, X_train, y_train, threshold=0.40, verbose=False\n",
    "#)\n",
    "#catboost_result_47 = metrics_cv(\n",
    "#    catboost_hft_43, X_train, y_train, threshold=0.43, verbose=False\n",
    "#)\n",
    "#catboost_result_50 = metrics_cv(\n",
    "#    catboost_hft_43, X_train, y_train, threshold=0.45, verbose=False\n",
    "#)\n",
    "#\n",
    "#catboost_result = pd.concat(\n",
    "#    [catboost_result_base, catboost_result_43, catboost_result_47, catboost_result_50],\n",
    "#    axis=0,\n",
    "#).reset_index(drop=True)\n",
    "#catboost_result.style.apply(highlight_max)"
   ],
   "outputs": [],
   "execution_count": 16
  },
  {
   "cell_type": "code",
   "id": "b4dc51b76fe6f95a",
   "metadata": {
    "ExecuteTime": {
     "end_time": "2024-08-20T22:54:12.689031Z",
     "start_time": "2024-08-20T22:54:12.687323Z"
    }
   },
   "source": "#thresholds = [0.43, 0.47, 0.50]",
   "outputs": [],
   "execution_count": 17
  },
  {
   "cell_type": "code",
   "id": "2c8147ea53f0b2a3",
   "metadata": {
    "ExecuteTime": {
     "end_time": "2024-08-20T22:54:12.707193Z",
     "start_time": "2024-08-20T22:54:12.705131Z"
    }
   },
   "source": "#threshold_tuning_plot(catboost_hft_43, X_val, y_val, thresholds)",
   "outputs": [],
   "execution_count": 18
  },
  {
   "cell_type": "code",
   "id": "3f52b4c5d78482fa",
   "metadata": {
    "ExecuteTime": {
     "end_time": "2024-08-20T22:54:12.726136Z",
     "start_time": "2024-08-20T22:54:12.724257Z"
    }
   },
   "source": "#threshold_tuning_plot(catboost_hft_43, X_val, y_val, thresholds)",
   "outputs": [],
   "execution_count": 19
  },
  {
   "cell_type": "code",
   "id": "a162185299774304",
   "metadata": {
    "ExecuteTime": {
     "end_time": "2024-08-20T22:54:12.763502Z",
     "start_time": "2024-08-20T22:54:12.755629Z"
    }
   },
   "source": "#threshold_tuning_plot(catboost_hft_43, X_val, y_val, thresholds)",
   "outputs": [],
   "execution_count": 20
  },
  {
   "cell_type": "code",
   "id": "4fbcb06b7f370159",
   "metadata": {
    "ExecuteTime": {
     "end_time": "2024-08-20T22:54:12.924669Z",
     "start_time": "2024-08-20T22:54:12.922200Z"
    }
   },
   "source": [
    "#model_1 = CatBoostClassifier(\n",
    "#    learning_rate=0.010732547330507854,\n",
    "#    depth=3,\n",
    "#    n_estimators=100,\n",
    "#    scale_pos_weight=proportion,\n",
    "#    random_state=seed,\n",
    "#    verbose=False,\n",
    "#)\n",
    "#\n",
    "#model_2 = CatBoostClassifier(\n",
    "#    learning_rate=0.010195450583486167,\n",
    "#    depth=3,\n",
    "#    n_estimators=600,\n",
    "#    scale_pos_weight=proportion,\n",
    "#    random_state=seed,\n",
    "#    verbose=False,\n",
    "#)\n",
    "#\n",
    "#model_3 = CatBoostClassifier(\n",
    "#    learning_rate=0.05632450741656245,\n",
    "#    depth=3,\n",
    "#    n_estimators=400,\n",
    "#    scale_pos_weight=proportion,\n",
    "#    random_state=seed,\n",
    "#    verbose=False,\n",
    "#)"
   ],
   "outputs": [],
   "execution_count": 21
  },
  {
   "cell_type": "code",
   "id": "8ebaea61f560bfea",
   "metadata": {
    "ExecuteTime": {
     "end_time": "2024-08-20T22:54:12.964280Z",
     "start_time": "2024-08-20T22:54:12.962180Z"
    }
   },
   "source": [
    "#catboost_result_43 = metrics_cv(\n",
    "#    [model_1], X_train, y_train, threshold=0.43, verbose=False\n",
    "#)\n",
    "#catboost_result_47 = metrics_cv(\n",
    "#    [model_2], X_train, y_train, threshold=0.47, verbose=False\n",
    "#)\n",
    "#catboost_result_50 = metrics_cv(\n",
    "#    [model_3], X_train, y_train, threshold=0.50, verbose=False\n",
    "#)\n",
    "#\n",
    "#catboost_result = pd.concat(\n",
    "#    [catboost_result_43, catboost_result_47, catboost_result_50], axis=0\n",
    "#).reset_index(drop=True)\n",
    "#catboost_result.style.apply(highlight_max)"
   ],
   "outputs": [],
   "execution_count": 22
  },
  {
   "cell_type": "markdown",
   "id": "cddf59f272ca75d5",
   "metadata": {},
   "source": "Considering the recall, the best threshold is 0.85, but the best fit in this case is the threshold 0.47 with recall=0.78."
  },
  {
   "cell_type": "code",
   "id": "de880d882ab746e4",
   "metadata": {
    "ExecuteTime": {
     "end_time": "2024-08-20T22:54:14.908400Z",
     "start_time": "2024-08-20T22:54:12.982602Z"
    }
   },
   "source": [
    "# Concatenate train and validation\n",
    "X_data = pd.concat([X_train, X_val], axis=0)\n",
    "y_data = pd.concat([y_train, y_val], axis=0)\n",
    "\n",
    "# Save new data\n",
    "X_data.to_parquet(data_path / \"X_train_hft.parquet\")\n",
    "y_data.to_pickle(data_path / \"y_train_hft.pkl\")\n",
    "\n",
    "# Model\n",
    "model = CatBoostClassifier(\n",
    "    learning_rate=0.010195450583486167,\n",
    "    depth=3,\n",
    "    n_estimators=600,\n",
    "    scale_pos_weight=proportion,\n",
    "    random_state=seed,\n",
    "    verbose=False,\n",
    ")\n",
    "model.fit(X_data, y_data)\n",
    "print(model.feature_names_)\n",
    "\n",
    "# Probability\n",
    "yhat_proba = model.predict_proba(X_test)[:, 1]\n",
    "threshold = 0.47\n",
    "yhat = (yhat_proba >= threshold).astype(int)\n",
    "\n",
    "# Saving model\n",
    "model_path = path / \"src/models\"\n",
    "model.save_model(str(model_path) + \"/model.cbm\")\n",
    "with open(str(model_path) + \"/model.pkl\", \"wb\") as file:\n",
    "    pickle.dump(model, file)\n",
    "\n",
    "# Saving threshold\n",
    "pickle.dump(threshold, open(str(model_path) + \"/threshold.pkl\", \"wb\"))"
   ],
   "outputs": [
    {
     "name": "stdout",
     "output_type": "stream",
     "text": [
      "['credit_score', 'age', 'tenure', 'balance', 'num_of_products', 'has_cr_card', 'is_active_member', 'estimated_salary', 'age_squared', 'balance_sqrt', 'credit_score_num_of_products', 'age_balance', 'engagement_score', 'customer_value_normalized', 'product_density', 'balance_salary_ratio', 'credit_score_age_ratio', 'tenure_age_ratio', 'credit_salary_ratio', 'credit_score_gender', 'balance_age', 'salary_rank_geography', 'geography_germany', 'geography_spain', 'gender_male', 'tenure_group_long_standing', 'tenure_group_new', 'life_stage_adulthood', 'life_stage_middle_age', 'life_stage_senior', 'balance_indicator_low', 'cs_category_low', 'cs_category_medium']\n"
     ]
    }
   ],
   "execution_count": 23
  }
 ],
 "metadata": {
  "kernelspec": {
   "display_name": "Python 3",
   "language": "python",
   "name": "python3"
  },
  "language_info": {
   "codemirror_mode": {
    "name": "ipython",
    "version": 2
   },
   "file_extension": ".py",
   "mimetype": "text/x-python",
   "name": "python",
   "nbconvert_exporter": "python",
   "pygments_lexer": "ipython2",
   "version": "2.7.6"
  }
 },
 "nbformat": 4,
 "nbformat_minor": 5
}
